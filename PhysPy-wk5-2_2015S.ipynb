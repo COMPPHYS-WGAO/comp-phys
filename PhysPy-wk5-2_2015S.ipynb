{
 "cells": [
  {
   "cell_type": "markdown",
   "metadata": {},
   "source": [
    "\n",
    "# Topics\n",
    "\n",
    "## 1. Class - Continued\n"
   ]
  },
  {
   "cell_type": "markdown",
   "metadata": {},
   "source": [
    "# Class"
   ]
  },
  {
   "cell_type": "code",
   "execution_count": null,
   "metadata": {
    "collapsed": false
   },
   "outputs": [],
   "source": [
    "'''\n",
    "String is a class of ojects that have various methods.  One of these is .split()\n",
    "\n",
    "'''\n",
    "strg = 'Hello world.  Hello San Francisco.'\n",
    "\n",
    "strg_split = strg.split('.')\n",
    "print strg_split"
   ]
  },
  {
   "cell_type": "markdown",
   "metadata": {},
   "source": [
    "## Breakout Problem:\n",
    "\n",
    "Make a class F that implements the function \n",
    "f(x; a, w) = e − a*x*sin(w*x). \n",
    "\n",
    "Write two main programs that do:\n",
    "\n",
    "a) To practice changing attributes and to illustrate that an instance of this class can be used as a function and a string.  \n",
    "\n",
    "\n",
    "from numpy import pi\n",
    "\n",
    "f = F(a = 1.0, w = 0.1)\n",
    "\n",
    "print f(pi)\n",
    "\n",
    "f.a = 2\n",
    "\n",
    "print f(pi)\n",
    "\n",
    "print f         \\# Use \\_\\_str\\_\\_ and one should get, in the present case: e - a\\*x\\*sin(w\\*x); parameters: a = 2, w = 0.1.\n",
    "\n",
    "b) To further illustrate that an instance of this class can be used as a function.\n",
    "\n",
    "from scipy.integrate import quad\n",
    "\n",
    "f = F(a = 1.0, w = 0.1)\n",
    "\n",
    "x1 = pi/3\n",
    "\n",
    "x2 = 2\\*pi/3\n",
    "\n",
    "It should print out the followig statement:\n",
    "\n",
    "The integral of f(x; a, w) = e − ax sin(wx) between x = pi/3 and 2\\*pi/3 is \\*the result of the integral you get\\*.\n",
    "\n",
    "### The formula f(x; a, w) = e − ax sin(wx) should be lifted from the __str__ method instead of being re-written.\n",
    "### This is the more elegant way of doing things, and it avoids inconsistency."
   ]
  },
  {
   "cell_type": "code",
   "execution_count": null,
   "metadata": {
    "collapsed": false
   },
   "outputs": [],
   "source": [
    "'''Breakout Solution: First, class definition''' \n",
    "def fval(a, w, x):\n",
    "    from numpy import e, sin\n",
    "    return e - a*x*sin(w*x)\n",
    "    \n",
    "class F:\n",
    "    \n",
    "    def __init__(self, a, w):\n",
    "        self.a = a\n",
    "        self.w = w\n",
    "        \n",
    "    def __call__(self, x):\n",
    "        return fval(self.a, self.w, x)\n",
    "    \n",
    "    def __str__(self):\n",
    "        return 'e - a*x*sin(w*x); parameters: a = {:g}, w = {:g}.'.format(self.a, self.w)\n",
    "        "
   ]
  },
  {
   "cell_type": "code",
   "execution_count": null,
   "metadata": {
    "collapsed": false
   },
   "outputs": [],
   "source": [
    "'''Main program for part a)''' \n",
    "from numpy import pi\n",
    "# Instantiation\n",
    "f = F(a = 1.0, w = 0.1)\n",
    "print f(pi)\n",
    "# changing the attribute a.\n",
    "f.a = 2   \n",
    "# f acts like a function\n",
    "print f(pi)\n",
    "# f acts like a string\n",
    "print f"
   ]
  },
  {
   "cell_type": "code",
   "execution_count": null,
   "metadata": {
    "collapsed": false
   },
   "outputs": [],
   "source": [
    "'''Main program for part b)''' \n",
    "from numpy import pi\n",
    "from scipy.integrate import quad\n",
    "f = F(a = 1.0, w = 0.1)\n",
    "x1 = pi/3\n",
    "x2 = 2*pi/3\n",
    "print 'The integral of f(x; a, w) = {:s} between x = {:g} and \\\n",
    "{:g} is {:g}.'.format(f.__str__().split(';')[0], x1, x2, quad(f, x1, x2)[0])\n",
    "\n",
    "# Here the explicit invocation of the method __str__ is necessary because we want to use the split method on the \n",
    "# returned string. print f.split(';') won't work\n",
    "\n",
    "# side note: quad is written in such a way that additional parameters *are* allowed, as long as they are passed as \n",
    "# keyword arugments:\n",
    "# http://docs.scipy.org/doc/scipy/reference/generated/scipy.integrate.quad.html#scipy.integrate.quad"
   ]
  },
  {
   "cell_type": "markdown",
   "metadata": {},
   "source": [
    "## Procedural/Functional vs. Object-Oriented Programming:\n",
    "\n",
    "##\"The focus of procedural programming is to break down a programming task into a collection of variables, data structures, and subroutines [i.e. functions in Python], whereas in object-oriented programming it is to break down a programming task into objects that expose behavior (methods) and data (members or attributes) using interfaces. The most important distinction is that while procedural programming uses procedures [functions in Python] to operate on data structures, object-oriented programming bundles the two together, so an \"object\", which is an instance of a class, operates on its \"own\" data structure.\"    (Wikipedia)"
   ]
  },
  {
   "cell_type": "code",
   "execution_count": null,
   "metadata": {
    "collapsed": false
   },
   "outputs": [],
   "source": [
    "'''Procedural/Functional approach to a problem:''' \n",
    "import numpy as np\n",
    "def perimeter(polygon):\n",
    "    \"\"\"Given a list of vector vertices (in proper order), \n",
    "    returns the perimeter for the associated polygon.\"\"\"\n",
    "    sum = 0\n",
    "    for i in range(len(polygon)):\n",
    "        vertex1 = polygon[i]\n",
    "        # a nice way to make sure the last point connects with the the 0th point.\n",
    "        vertex2 = polygon[(i+1) % len(polygon)]       \n",
    "        \n",
    "        distance = np.sqrt((vertex2[0]-vertex1[0])**2 + \\\n",
    "                             (vertex2[1]-vertex1[1])**2)\n",
    "        sum += distance\n",
    "    return sum \n",
    "\n",
    "print perimeter([[0,0],[1,0],[1,1],[0,1]])        # Returns 4.0\n",
    "print perimeter([[0,-2],[1,1],[3,3],[5,1],[4,0],[4,-3]])  # Returns 17.356451097651515\n",
    "\n"
   ]
  },
  {
   "cell_type": "markdown",
   "metadata": {},
   "source": [
    "## Breakout: Turn the above into a class Polygon"
   ]
  },
  {
   "cell_type": "markdown",
   "metadata": {},
   "source": [
    "##The concepts of classes and object-oriented programming first appeared in the Simula programming language in the 1960s. Simula was invented by the Norwegian computer scientists Ole-Johan Dahl and Kristen Nygaard, and the impact of the language is particularly evident in C++, Java, and C#, three of the most dominating programming languages in the world today. The invention of object-oriented programming was a remarkable achievement, and the professors Dahl and Nygaard recieved two very prestigious prizes: the von Neumann medal and the Turing prize (popularly known as the Nobel prize of computer science).\n"
   ]
  },
  {
   "cell_type": "markdown",
   "metadata": {},
   "source": [
    "## A little more about the \"self\" "
   ]
  },
  {
   "cell_type": "code",
   "execution_count": null,
   "metadata": {
    "collapsed": false
   },
   "outputs": [],
   "source": [
    "class Line:\n",
    "    '''a class for straight lines, y = c0 + c1*x'''\n",
    "    import numpy as np\n",
    "    def __init__(self, c0, c1):\n",
    "        self.c0 = c0\n",
    "        self.c1 = c1\n",
    "    \n",
    "    def __call__(self, x):\n",
    "        return self.c0 + self.c1*x\n",
    "    \n",
    "    def table(self, L, R, n):\n",
    "        '''returns a table with n points for x in domain [L, R].'''\n",
    "        # initialize s to be an empty string.\n",
    "        s = ''\n",
    "        for x in np.linspace(L, R, n):\n",
    "            # Note the usage here: self(x).  \n",
    "            # This works because the special method __call__ is defined.\n",
    "            y = self(x)        \n",
    "            s += '{:12g} {:12g}\\n'.format(x, y)\n",
    "        return s\n"
   ]
  },
  {
   "cell_type": "code",
   "execution_count": null,
   "metadata": {
    "collapsed": false
   },
   "outputs": [],
   "source": [
    "%matplotlib inline\n",
    "import matplotlib.pyplot as plt\n",
    "import numpy as np\n",
    "ln = Line(c0 = 4., c1 = 3.)\n",
    "t = ln.table(1.0, 10., 10)\n",
    "print t\n",
    "x = np.linspace(1., 10., 10)\n",
    "plt.plot (x, ln(x))\n",
    "plt.show()\n"
   ]
  },
  {
   "cell_type": "markdown",
   "metadata": {},
   "source": [
    "## Short breakout: A class for a parabola"
   ]
  },
  {
   "cell_type": "code",
   "execution_count": null,
   "metadata": {
    "collapsed": false
   },
   "outputs": [],
   "source": [
    "%matplotlib inline\n",
    "import matplotlib.pyplot as plt\n",
    "import numpy as np\n",
    "\n",
    "para = Parabola(0., 2.5, 4.8)\n",
    "t2 = para.table(0, 10., 20)\n",
    "print t2\n",
    "x = np.linspace(0, 10., 20)\n",
    "plt.plot(x, para(x))\n",
    "plt.show()"
   ]
  },
  {
   "cell_type": "markdown",
   "metadata": {},
   "source": [
    "## Building class upon class \n",
    "(just as you can call a function within another function)"
   ]
  },
  {
   "cell_type": "code",
   "execution_count": null,
   "metadata": {
    "collapsed": false
   },
   "outputs": [],
   "source": [
    "# You can take advantage the class Line, which is already defined,\n",
    "# BY USING THE ALREADY DEFINED LINE CLASS AS THE ARGUMENT FOR THE NEW CLASS PARABOLA2\n",
    "\n",
    "class Parabola2(Line):\n",
    "    pass\n",
    "\n",
    "# If you include pass, Parabola2 is now a class identical to Line."
   ]
  },
  {
   "cell_type": "code",
   "execution_count": null,
   "metadata": {
    "collapsed": false
   },
   "outputs": [],
   "source": [
    "class Parabola2(Line):\n",
    "    '''\n",
    "    creating the Parabola2 class by inheriting \n",
    "    the class Line and adding an extra term.\n",
    "    '''\n",
    "# At this point, the class Parabola2 inherits all attributes & methods in the class Line.\n",
    "\n",
    "# Now let's make the necessary changes:\n",
    "    def __init__(self, c0, c1, c2):\n",
    "        Line.__init__(self, c0, c1)  # since we're passing 3 attributes we need to make explicit \n",
    "                                     # which two are going to inherit the two attributes from Line.\n",
    "        # To verify inheritance:\n",
    "        print 'Attributes & methods inherited from the class Line', dir(self)\n",
    "   \n",
    "        # new attribute:\n",
    "        self.c2 = c2                 \n",
    "        # To verify addition:\n",
    "        print 'Added c2 as attribute', dir(self)\n",
    "        \n",
    "\n",
    "    def __call__(self, x):\n",
    "        # Taking advantage of inheritance and making addition\n",
    "        return Line.__call__(self, x) + self.c2*x**2\n",
    "    \n",
    "# N.B. the method table is already inherited and it doesn't need any change!"
   ]
  },
  {
   "cell_type": "code",
   "execution_count": null,
   "metadata": {
    "collapsed": false
   },
   "outputs": [],
   "source": [
    "import matplotlib.pyplot as plt\n",
    "import numpy as np\n",
    "para2 = Parabola2(c0 = 0., c1 = 2.5, c2 = 4.8)\n",
    "t3 = para2.table(0, 10., 20)\n",
    "print t3\n",
    "x = np.linspace(0, 10., 20)\n",
    "plt.plot(x, para2(x))\n",
    "plt.show()\n"
   ]
  },
  {
   "cell_type": "code",
   "execution_count": null,
   "metadata": {
    "collapsed": false
   },
   "outputs": [],
   "source": [
    "# dir() works outside the class definition, too:\n",
    "print dir(para2)"
   ]
  },
  {
   "cell_type": "markdown",
   "metadata": {},
   "source": [
    "## Let's take a moment here and absorb the awesomeness of all this!"
   ]
  },
  {
   "cell_type": "markdown",
   "metadata": {},
   "source": [
    "## Line: Superclass\n",
    "## Parabola2: Subclass"
   ]
  },
  {
   "cell_type": "markdown",
   "metadata": {},
   "source": [
    "## A few more special methods:"
   ]
  },
  {
   "cell_type": "code",
   "execution_count": null,
   "metadata": {
    "collapsed": false
   },
   "outputs": [],
   "source": [
    "# this tells us the class Parabola2 is defined in the 'main' module.\n",
    "print para2.__module__"
   ]
  },
  {
   "cell_type": "code",
   "execution_count": null,
   "metadata": {
    "collapsed": false
   },
   "outputs": [],
   "source": [
    "# __class__\n",
    "print para2.__class__"
   ]
  },
  {
   "cell_type": "code",
   "execution_count": null,
   "metadata": {
    "collapsed": false
   },
   "outputs": [],
   "source": [
    "# another one\n",
    "print para2.__class__.__name__"
   ]
  },
  {
   "cell_type": "code",
   "execution_count": null,
   "metadata": {
    "collapsed": false
   },
   "outputs": [],
   "source": [
    "# difference between __class__.__name__ and __class__:\n",
    "print type(para2.__class__)\n",
    "print type(para2.__class__.__name__)"
   ]
  },
  {
   "cell_type": "code",
   "execution_count": null,
   "metadata": {
    "collapsed": false
   },
   "outputs": [],
   "source": [
    "# Thus:\n",
    "print para2.__class__ == Parabola2  # __main__ is assumed since we are in main.\n",
    "print para2.__class__.__name__ == Parabola2   # Parabola2 is an object, especially a variable name.\n",
    "print para2.__class__.__name__ == 'Parabola2'"
   ]
  },
  {
   "cell_type": "code",
   "execution_count": null,
   "metadata": {
    "collapsed": false
   },
   "outputs": [],
   "source": [
    "# This is obvious:\n",
    "print isinstance(para2, Parabola2)\n",
    "# This is potentially confusing:\n",
    "print isinstance(para2, Line)\n",
    "\n",
    "# It's True because the class Parabola2 inherits everything in Line."
   ]
  },
  {
   "cell_type": "code",
   "execution_count": null,
   "metadata": {
    "collapsed": false
   },
   "outputs": [],
   "source": [
    "print issubclass(Parabola2, Line)\n",
    "# remember Parabola was defined all by itself, independent of Line.\n",
    "print issubclass(Parabola, Line)"
   ]
  },
  {
   "cell_type": "markdown",
   "metadata": {},
   "source": [
    "##A few More special methods (all having to do with inspection):"
   ]
  },
  {
   "cell_type": "code",
   "execution_count": null,
   "metadata": {
    "collapsed": false
   },
   "outputs": [],
   "source": [
    "print para2.__class__.__bases__"
   ]
  },
  {
   "cell_type": "code",
   "execution_count": null,
   "metadata": {
    "collapsed": false
   },
   "outputs": [],
   "source": [
    "print para2.__class__.__bases__[0]"
   ]
  },
  {
   "cell_type": "code",
   "execution_count": null,
   "metadata": {
    "collapsed": false
   },
   "outputs": [],
   "source": [
    "# daisy chain one more: __name__\n",
    "print para2.__class__.__bases__[0].__name__  \n"
   ]
  },
  {
   "cell_type": "markdown",
   "metadata": {},
   "source": [
    "## Extending vs. Retricting Functionalities"
   ]
  },
  {
   "cell_type": "code",
   "execution_count": null,
   "metadata": {
    "collapsed": false
   },
   "outputs": [],
   "source": [
    "class Line2(Parabola):\n",
    "    def __init__(self, c0, c1):\n",
    "        Parabola.__init__(self, c0, c1, 0)\n",
    "        \n",
    "# Now Line2 is a subclass of Parabola.\n",
    "# Here both __call__ and table methods are inherited."
   ]
  },
  {
   "cell_type": "markdown",
   "metadata": {},
   "source": [
    "## Breakout Problem:\n",
    "\n",
    "##Add a plot method (call it plotcurv) to the class Line.\n",
    "\n",
    "##Parabola2 will automatically inherit the plotcurv method after you run that cell that defines Parabola2."
   ]
  },
  {
   "cell_type": "code",
   "execution_count": null,
   "metadata": {
    "collapsed": false
   },
   "outputs": [],
   "source": [
    "import matplotlib.pyplot as plt\n",
    "import numpy as np\n",
    "x = np.linspace(1., 2., 10.)\n",
    "ln = Line(1., 2.)\n",
    "ln.plotcurv(x)"
   ]
  },
  {
   "cell_type": "markdown",
   "metadata": {},
   "source": [
    "##End of wk 5-2"
   ]
  }
 ],
 "metadata": {
  "kernelspec": {
   "display_name": "Python 2",
   "language": "python",
   "name": "python2"
  },
  "language_info": {
   "codemirror_mode": {
    "name": "ipython",
    "version": 2
   },
   "file_extension": ".py",
   "mimetype": "text/x-python",
   "name": "python",
   "nbconvert_exporter": "python",
   "pygments_lexer": "ipython2",
   "version": "2.7.6"
  }
 },
 "nbformat": 4,
 "nbformat_minor": 0
}
