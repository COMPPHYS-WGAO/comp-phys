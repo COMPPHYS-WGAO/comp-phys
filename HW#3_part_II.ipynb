{
 "metadata": {
  "name": ""
 },
 "nbformat": 3,
 "nbformat_minor": 0,
 "worksheets": [
  {
   "cells": [
    {
     "cell_type": "raw",
     "metadata": {},
     "source": [
      "HW#03"
     ]
    },
    {
     "cell_type": "raw",
     "metadata": {},
     "source": [
      "abs()"
     ]
    },
    {
     "cell_type": "code",
     "collapsed": false,
     "input": [
      "x = -5.\n",
      "print abs(x)\n",
      "y = 6\n",
      "print abs(y)"
     ],
     "language": "python",
     "metadata": {},
     "outputs": []
    },
    {
     "cell_type": "raw",
     "metadata": {},
     "source": [
      "all()"
     ]
    },
    {
     "cell_type": "code",
     "collapsed": false,
     "input": [
      "# it equals to\n",
      "# def all(iterable):\n",
      "#     for element in iterable:\n",
      "#         if not element:\n",
      "#             return False\n",
      "#     return True\n",
      "\n",
      "f = [5>6, True, 7<8]\n",
      "print all(f)\n",
      "\n",
      "t = [5<6, True]\n",
      "print all(t)\n",
      "\n",
      "e = []\n",
      "print all(e)"
     ],
     "language": "python",
     "metadata": {},
     "outputs": []
    },
    {
     "cell_type": "raw",
     "metadata": {},
     "source": [
      "any()"
     ]
    },
    {
     "cell_type": "code",
     "collapsed": false,
     "input": [
      "# def any(iterable):\n",
      "#     for element in iterable:\n",
      "#         if element:\n",
      "#             return True\n",
      "#     return False\n",
      "\n",
      "t = [5>6, 1<100, 7>8]\n",
      "print any(t)\n",
      "\n",
      "e = []\n",
      "print any(e)\n",
      "\n",
      "f = [5>6, False]\n",
      "print any(f)\n"
     ],
     "language": "python",
     "metadata": {},
     "outputs": []
    },
    {
     "cell_type": "raw",
     "metadata": {},
     "source": [
      "bin()"
     ]
    },
    {
     "cell_type": "code",
     "collapsed": false,
     "input": [
      "# returns binary representation of an integer\n",
      "\n",
      "x = 428\n",
      "print bin(x)\n",
      "\n",
      "y = 2"
     ],
     "language": "python",
     "metadata": {},
     "outputs": []
    },
    {
     "cell_type": "raw",
     "metadata": {},
     "source": [
      "callable()"
     ]
    },
    {
     "cell_type": "code",
     "collapsed": false,
     "input": [
      "# return True if the object argument appears callable,\n",
      "# False otherwise\n",
      "\n",
      "def x():\n",
      "    return 8\n",
      "print callable(x)\n",
      "\n",
      "y = 8\n",
      "print callable(y)\n"
     ],
     "language": "python",
     "metadata": {},
     "outputs": []
    },
    {
     "cell_type": "raw",
     "metadata": {},
     "source": [
      "chr()"
     ]
    },
    {
     "cell_type": "code",
     "collapsed": false,
     "input": [
      "# chr(i) returns a string of one character whose ASCII code \n",
      "#   is the integer i\n",
      "\n",
      "print chr(0)\n",
      "\n",
      "print chr(112)\n",
      "\n",
      "print chr(106)\n",
      "\n",
      "print chr(255)"
     ],
     "language": "python",
     "metadata": {},
     "outputs": [
      {
       "output_type": "stream",
       "stream": "stdout",
       "text": [
        "\u0000\n",
        "p\n",
        "j\n",
        "\ufffd\n"
       ]
      }
     ],
     "prompt_number": 150
    },
    {
     "cell_type": "raw",
     "metadata": {},
     "source": [
      "cmp()"
     ]
    },
    {
     "cell_type": "code",
     "collapsed": false,
     "input": [
      "#cmp(x, y) compares the two objects x and y and returns \n",
      "# an integer according to the outcome\n",
      "# the return value is negative if x<y, zero if x==y, positive if x>y\n",
      "\n",
      "ls = [(1, 2), (5, 5), (8, 6)]\n",
      "\n",
      "[cmp(x, y) for x, y in ls]"
     ],
     "language": "python",
     "metadata": {},
     "outputs": []
    },
    {
     "cell_type": "raw",
     "metadata": {},
     "source": [
      "divmod()"
     ]
    },
    {
     "cell_type": "code",
     "collapsed": false,
     "input": [
      "# Take two (non complex) numbers as arguments \n",
      "# and return a pair of numbers consisting of \n",
      "# their quotient and remainder when using long division.\n",
      "\n",
      "[divmod(x, y) for x, y in [(2, 1), (6, 7), (10., 2.), (11., 3.)]]"
     ],
     "language": "python",
     "metadata": {},
     "outputs": []
    },
    {
     "cell_type": "raw",
     "metadata": {},
     "source": [
      "enumerate()"
     ]
    },
    {
     "cell_type": "code",
     "collapsed": false,
     "input": [
      "# enumerate(sequence, start=0)\n",
      "\n",
      "season = ['Spring', 'Summer', 'August', 'Winter']\n",
      "\n",
      "print list(enumerate(season))\n",
      "print list(enumerate(season, start=1))\n",
      "print list(enumerate(season, start=7))\n",
      "print list(enumerate(season, start=-4))"
     ],
     "language": "python",
     "metadata": {},
     "outputs": []
    },
    {
     "cell_type": "raw",
     "metadata": {},
     "source": [
      "eval()"
     ]
    },
    {
     "cell_type": "code",
     "collapsed": false,
     "input": [
      "x = 1\n",
      "print eval('x+1')\n",
      "print type(eval('x+1'))"
     ],
     "language": "python",
     "metadata": {},
     "outputs": []
    },
    {
     "cell_type": "raw",
     "metadata": {},
     "source": [
      "execfile()"
     ]
    },
    {
     "cell_type": "code",
     "collapsed": false,
     "input": [
      "execfile(#filename)\n",
      "         "
     ],
     "language": "python",
     "metadata": {},
     "outputs": []
    },
    {
     "cell_type": "raw",
     "metadata": {},
     "source": [
      "help()"
     ]
    },
    {
     "cell_type": "code",
     "collapsed": false,
     "input": [
      "help()\n"
     ],
     "language": "python",
     "metadata": {},
     "outputs": [],
     "prompt_number": 1
    },
    {
     "cell_type": "raw",
     "metadata": {},
     "source": [
      "hex()"
     ]
    },
    {
     "cell_type": "code",
     "collapsed": false,
     "input": [
      "print hex(5)\n",
      "print hex(55)\n",
      "print hex(-55)"
     ],
     "language": "python",
     "metadata": {},
     "outputs": [
      {
       "output_type": "stream",
       "stream": "stdout",
       "text": [
        "0x5\n",
        "0x37\n",
        "-0x37\n"
       ]
      }
     ],
     "prompt_number": 63
    },
    {
     "cell_type": "raw",
     "metadata": {},
     "source": [
      "int()"
     ]
    },
    {
     "cell_type": "code",
     "collapsed": false,
     "input": [
      "print int(6)\n",
      "print int(6.3)\n",
      "print int(6.9)\n",
      "print int('6')\n",
      "print int('6', base=20)"
     ],
     "language": "python",
     "metadata": {},
     "outputs": [
      {
       "output_type": "stream",
       "stream": "stdout",
       "text": [
        "6\n",
        "6\n",
        "6\n",
        "6\n",
        "6\n"
       ]
      }
     ],
     "prompt_number": 77
    },
    {
     "cell_type": "raw",
     "metadata": {},
     "source": [
      "isinstance()"
     ]
    },
    {
     "cell_type": "code",
     "collapsed": false,
     "input": [
      "truelist = [isinstance(x, y) for x, y in \n",
      " [(6, int), (6.6, float), ('6', str), (6<7, bool)]]\n",
      "falselist = [isinstance(x, y) for x, y in \n",
      " [(6, float), (6.6, str), ('6', bool), (6<7, float)]]\n",
      "\n",
      "print truelist\n",
      "print falselist"
     ],
     "language": "python",
     "metadata": {},
     "outputs": [
      {
       "output_type": "stream",
       "stream": "stdout",
       "text": [
        "[True, True, True, True]\n",
        "[False, False, False, False]\n"
       ]
      }
     ],
     "prompt_number": 84
    },
    {
     "cell_type": "raw",
     "metadata": {},
     "source": [
      "list()"
     ]
    },
    {
     "cell_type": "code",
     "collapsed": false,
     "input": [
      "print list('howard')\n",
      "print list('345678')\n",
      "print list((1, 2, 3))"
     ],
     "language": "python",
     "metadata": {},
     "outputs": [
      {
       "output_type": "stream",
       "stream": "stdout",
       "text": [
        "['h', 'o', 'w', 'a', 'r', 'd']\n",
        "['3', '4', '5', '6', '7', '8']\n",
        "[1, 2, 3]\n"
       ]
      }
     ],
     "prompt_number": 87
    },
    {
     "cell_type": "raw",
     "metadata": {},
     "source": [
      "long()"
     ]
    },
    {
     "cell_type": "code",
     "collapsed": false,
     "input": [
      "print long(4)\n",
      "print long('4', base=5)\n",
      "print long(4.4)"
     ],
     "language": "python",
     "metadata": {},
     "outputs": [
      {
       "output_type": "stream",
       "stream": "stdout",
       "text": [
        "4\n",
        "4\n",
        "4\n"
       ]
      }
     ],
     "prompt_number": 98
    },
    {
     "cell_type": "raw",
     "metadata": {},
     "source": [
      "map()"
     ]
    },
    {
     "cell_type": "code",
     "collapsed": false,
     "input": [
      "# apply function to every tem of iterable and \n",
      "# retuen a list of the result \n",
      "\n",
      "def func1(x):\n",
      "    return x**2.\n",
      "\n",
      "def func2(a, b):\n",
      "    return (a, b)\n",
      "\n",
      "y = [1, 2, 3]\n",
      "z = [4, 5, 6]\n",
      "w = [7, 8, 9, 10, 11]\n",
      "k = []\n",
      "print map(func, y)\n",
      "print map(func2, y, z)\n",
      "print map(func2, y, w)\n",
      "print map(func, k)\n"
     ],
     "language": "python",
     "metadata": {},
     "outputs": [
      {
       "output_type": "stream",
       "stream": "stdout",
       "text": [
        "[1.0, 4.0, 9.0]\n",
        "[(1, 4), (2, 5), (3, 6)]\n",
        "[(1, 7), (2, 8), (3, 9), (None, 10), (None, 11)]\n",
        "[]\n"
       ]
      }
     ],
     "prompt_number": 103
    },
    {
     "cell_type": "raw",
     "metadata": {},
     "source": [
      "max()"
     ]
    },
    {
     "cell_type": "code",
     "collapsed": false,
     "input": [
      "# return the largest item in an iterable or the largest\n",
      "# of two or more arguments\n",
      "\n",
      "print max(1, 2, 3, -1)\n",
      "print max(-1, -2 , -4)\n",
      "print max(range(9))\n",
      "a = list(range(9))\n",
      "print max(a[3],a[7])"
     ],
     "language": "python",
     "metadata": {},
     "outputs": [
      {
       "output_type": "stream",
       "stream": "stdout",
       "text": [
        "3\n",
        "-1\n",
        "8\n",
        "7\n"
       ]
      }
     ],
     "prompt_number": 106
    },
    {
     "cell_type": "raw",
     "metadata": {},
     "source": [
      "min()"
     ]
    },
    {
     "cell_type": "code",
     "collapsed": false,
     "input": [
      "print min(1, 2, 3, -1)\n",
      "print min(-1, -2 , -4)\n",
      "print min(range(9))\n",
      "a = list(range(9))\n",
      "print min(a[3],a[7])"
     ],
     "language": "python",
     "metadata": {},
     "outputs": [
      {
       "output_type": "stream",
       "stream": "stdout",
       "text": [
        "-1\n",
        "-4\n",
        "0\n",
        "3\n"
       ]
      }
     ],
     "prompt_number": 108
    },
    {
     "cell_type": "raw",
     "metadata": {},
     "source": [
      "oct()"
     ]
    },
    {
     "cell_type": "code",
     "collapsed": false,
     "input": [
      "# convert integer to octal string \n",
      "\n",
      "print oct(9)\n",
      "print oct(87)\n",
      "print oct(-9)\n",
      "print oct(-87)"
     ],
     "language": "python",
     "metadata": {},
     "outputs": [
      {
       "output_type": "stream",
       "stream": "stdout",
       "text": [
        "011\n",
        "0127\n",
        "-011\n",
        "-0127\n"
       ]
      }
     ],
     "prompt_number": 112
    },
    {
     "cell_type": "raw",
     "metadata": {},
     "source": [
      "reduce()"
     ]
    },
    {
     "cell_type": "code",
     "collapsed": false,
     "input": [
      "# apply function of two arguments cumulatively \n",
      "# to the items of iterable, from left to right, so as to reduce\n",
      "# the iterble to a single value\n",
      "\n",
      "print reduce(lambda x, y: x+y, [1, 2, 3, 4, 5])\n",
      "\n",
      "def f(x, y):\n",
      "    return x+y\n",
      "print reduce(f, range(4))"
     ],
     "language": "python",
     "metadata": {},
     "outputs": [
      {
       "output_type": "stream",
       "stream": "stdout",
       "text": [
        "15\n",
        "6\n"
       ]
      }
     ],
     "prompt_number": 120
    },
    {
     "cell_type": "raw",
     "metadata": {},
     "source": [
      "reversed()"
     ]
    },
    {
     "cell_type": "code",
     "collapsed": false,
     "input": [
      "# return a reversed iterator\n",
      "\n",
      "print reversed(range(9))\n",
      "print reversed([1, 2, 3, 4, 5])\n",
      "print reversed('string')"
     ],
     "language": "python",
     "metadata": {},
     "outputs": [
      {
       "output_type": "stream",
       "stream": "stdout",
       "text": [
        "<listreverseiterator object at 0x10aea8e50>\n",
        "<listreverseiterator object at 0x10aea8b90>\n",
        "<reversed object at 0x10aea8e50>\n"
       ]
      }
     ],
     "prompt_number": 135
    },
    {
     "cell_type": "raw",
     "metadata": {},
     "source": [
      "round()"
     ]
    },
    {
     "cell_type": "code",
     "collapsed": false,
     "input": [
      "# return the floating point value number rounded to \n",
      "# n digits after the decimal point \n",
      "\n",
      "print [round(x) for x in [5.7, -2.3, 4, -5]]\n",
      "print [round(x, n) for x, n in[(6.45673, 1), (6.45673, 2), (6.45673, 3), (6.45673, 4)]] "
     ],
     "language": "python",
     "metadata": {},
     "outputs": [
      {
       "output_type": "stream",
       "stream": "stdout",
       "text": [
        "[6.0, -2.0, 4.0, -5.0]\n",
        "[6.5, 6.46, 6.457, 6.4567]\n"
       ]
      }
     ],
     "prompt_number": 131
    },
    {
     "cell_type": "raw",
     "metadata": {},
     "source": [
      "sum()"
     ]
    },
    {
     "cell_type": "code",
     "collapsed": false,
     "input": [
      "# sums the item of an iterable from left to right and returns the total\n",
      "\n",
      "print sum(range(100))\n",
      "print sum(range(-5, 6))\n"
     ],
     "language": "python",
     "metadata": {},
     "outputs": [
      {
       "output_type": "stream",
       "stream": "stdout",
       "text": [
        "4950\n",
        "0\n"
       ]
      }
     ],
     "prompt_number": 134
    },
    {
     "cell_type": "raw",
     "metadata": {},
     "source": [
      "tuple()"
     ]
    },
    {
     "cell_type": "code",
     "collapsed": false,
     "input": [
      "print tuple()\n",
      "print tuple('howard')\n",
      "print tuple([1, 2, 3])\n",
      "print tuple((1, 2, 3))"
     ],
     "language": "python",
     "metadata": {},
     "outputs": [
      {
       "output_type": "stream",
       "stream": "stdout",
       "text": [
        "()\n",
        "('h', 'o', 'w', 'a', 'r', 'd')\n",
        "(1, 2, 3)\n",
        "(1, 2, 3)\n"
       ]
      }
     ],
     "prompt_number": 138
    },
    {
     "cell_type": "raw",
     "metadata": {},
     "source": [
      "xrange()"
     ]
    },
    {
     "cell_type": "code",
     "collapsed": false,
     "input": [
      "# similar to range, but returns an xrange object instead of a list\n",
      "print xrange(9)\n",
      "print range(9)\n",
      "print xrange(1, 20, 2)\n",
      "print range(1, 20, 2)"
     ],
     "language": "python",
     "metadata": {},
     "outputs": [
      {
       "output_type": "stream",
       "stream": "stdout",
       "text": [
        "xrange(9)\n",
        "[0, 1, 2, 3, 4, 5, 6, 7, 8]\n",
        "xrange(1, 21, 2)\n",
        "[1, 3, 5, 7, 9, 11, 13, 15, 17, 19]\n"
       ]
      }
     ],
     "prompt_number": 144
    },
    {
     "cell_type": "raw",
     "metadata": {},
     "source": [
      "zip()"
     ]
    },
    {
     "cell_type": "code",
     "collapsed": false,
     "input": [
      "# returns a list of tuples, \n",
      "# where the i-th tuple contains the i-th element \n",
      "# from each of the argument sequences or ierables\n",
      "# evaluate from left to right\n",
      "x = [1, 2, 3]\n",
      "y = [4, 5, 6]\n",
      "z = [7, 8, 9, 10, 11]\n",
      "print zip(x, y)\n",
      "print zip(x, z)\n",
      "print zip(z)\n",
      "print zip()"
     ],
     "language": "python",
     "metadata": {},
     "outputs": [
      {
       "output_type": "stream",
       "stream": "stdout",
       "text": [
        "[(1, 4), (2, 5), (3, 6)]\n",
        "[(1, 7), (2, 8), (3, 9)]\n",
        "[(7,), (8,), (9,), (10,), (11,)]\n",
        "[]\n"
       ]
      }
     ],
     "prompt_number": 146
    }
   ],
   "metadata": {}
  }
 ]
}