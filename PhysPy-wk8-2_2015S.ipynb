{
 "cells": [
  {
   "cell_type": "markdown",
   "metadata": {},
   "source": [
    "# Topics\n",
    "\n",
    "## 1. Random Numbers and Histogram\n",
    "## 2. Monte Carlo"
   ]
  },
  {
   "cell_type": "markdown",
   "metadata": {
    "collapsed": false
   },
   "source": [
    "## random numbers and histogram\n",
    "### Distributions\n",
    "### 1. Uniform\n",
    "### 2. Gaussian\n",
    "### 3. Poisson"
   ]
  },
  {
   "cell_type": "markdown",
   "metadata": {},
   "source": [
    "## Random Number with Different Distribution and Plotting the Histogram"
   ]
  },
  {
   "cell_type": "code",
   "execution_count": 39,
   "metadata": {
    "collapsed": false
   },
   "outputs": [
    {
     "name": "stdout",
     "output_type": "stream",
     "text": [
      "n (normalized height, or probability density): [  6.64504922e-09   4.46167590e-08   7.68927124e-08   3.03773679e-07\n",
      "   9.04675986e-07   2.50138638e-06   6.49790884e-06   1.65756006e-05\n",
      "   3.95532315e-05   8.90977692e-05   1.91398302e-04   3.88779996e-04\n",
      "   7.45944746e-04   1.35430755e-03   2.33149146e-03   3.79393864e-03\n",
      "   5.85236035e-03   8.55054366e-03   1.18220950e-02   1.54797902e-02\n",
      "   1.92013368e-02   2.25442370e-02   2.50654551e-02   2.63968742e-02\n",
      "   2.63098317e-02   2.48383557e-02   2.21995887e-02   1.87971479e-02\n",
      "   1.50684161e-02   1.14348016e-02   8.22363572e-03   5.59302116e-03\n",
      "   3.60458037e-03   2.19868825e-03   1.27102514e-03   6.95260108e-04\n",
      "   3.60005984e-04   1.76421310e-04   8.21565406e-05   3.64471457e-05\n",
      "   1.50111662e-05   5.92168815e-06   2.19381553e-06   8.08797419e-07\n",
      "   2.57258334e-07   9.30306890e-08   2.94280751e-08   8.54363471e-09\n",
      "   0.00000000e+00   9.49292745e-10] 50\n",
      "bins (locations of bin edges): [  15.92184878   19.43323486   22.94462094   26.45600702   29.9673931\n",
      "   33.47877919   36.99016527   40.50155135   44.01293743   47.52432351\n",
      "   51.03570959   54.54709568   58.05848176   61.56986784   65.08125392\n",
      "   68.59264      72.10402608   75.61541216   79.12679825   82.63818433\n",
      "   86.14957041   89.66095649   93.17234257   96.68372865  100.19511473\n",
      "  103.70650082  107.2178869   110.72927298  114.24065906  117.75204514\n",
      "  121.26343122  124.77481731  128.28620339  131.79758947  135.30897555\n",
      "  138.82036163  142.33174771  145.84313379  149.35451988  152.86590596\n",
      "  156.37729204  159.88867812  163.4000642   166.91145028  170.42283636\n",
      "  173.93422245  177.44560853  180.95699461  184.46838069  187.97976677\n",
      "  191.49115285] 51\n"
     ]
    },
    {
     "data": {
      "image/png": "[encoded data removed]",
      "text/plain": [
       "<matplotlib.figure.Figure at 0x11608b9d0>"
      ]
     },
     "metadata": {},
     "output_type": "display_data"
    }
   ],
   "source": [
    "%matplotlib inline\n",
    "'''Histogram Plot'''\n",
    "\n",
    "import numpy as np\n",
    "import matplotlib.pyplot as plt\n",
    "\n",
    "avg = 100.\n",
    "sig = 15.\n",
    "\n",
    "num_pts = 300000000\n",
    "\n",
    "x = np.random.randn(num_pts)*sig + avg\n",
    "fig = plt.figure()\n",
    "ax = fig.add_subplot(111)\n",
    "\n",
    "# the histogram of the data\n",
    "\n",
    "Nbins = 50\n",
    "# normed=1: the total area adds up to 1; # alpha: level of tranparency.\n",
    "n, bins, patches = ax.hist(x, Nbins, normed=1, facecolor='green', alpha=.5)\n",
    "print 'n (normalized height, or probability density):', n, len(n)\n",
    "print 'bins (locations of bin edges):', bins, len(bins)\n",
    "\n",
    "# hist uses np.histogram under the hood to create 'n' and 'bins'.\n",
    "# np.histogram returns the bin edges, so there will be Nbin probability\n",
    "# density values (n), Nbin+1 bin edges (bins), and finally, Nbin patches.\n",
    "\n",
    "ax.set_xlabel('IQ')\n",
    "ax.set_ylabel('Probability')\n",
    "# The is Latex, a typsetting \"program\".\n",
    "ax.set_title(r'$\\mathrm{Histogram\\ of\\ IQ:}\\ \\mu=100,\\ \\sigma=15$')\n",
    "# Pay attention to how the x and y axis limits are set.\n",
    "ax.set_xlim(0, 200)\n",
    "ax.set_ylim(0, 0.03)\n",
    "#ax.grid(True)\n",
    "\n",
    "plt.show()\n"
   ]
  },
  {
   "cell_type": "code",
   "execution_count": 40,
   "metadata": {
    "collapsed": false
   },
   "outputs": [
    {
     "name": "stdout",
     "output_type": "stream",
     "text": [
      "476065.06\n",
      "68250.84\n",
      "4051.52\n",
      "17\n",
      "0.0017\n"
     ]
    }
   ],
   "source": [
    "ind1 = np.where(x>115)\n",
    "ind2 = np.where(x>130)\n",
    "ind3 = np.where(x>145)\n",
    "print len(ind1[0])/100.\n",
    "print len(ind2[0])/100.\n",
    "print len(ind3[0])/100.\n",
    "ind4 = np.where(x>180)\n",
    "print len(ind4[0])\n",
    "print len(ind4[0])/10000."
   ]
  },
  {
   "cell_type": "code",
   "execution_count": 11,
   "metadata": {
    "collapsed": false
   },
   "outputs": [
    {
     "name": "stdout",
     "output_type": "stream",
     "text": [
      "[False False False False False  True  True  True  True  True]\n",
      "(array([5, 6, 7, 8, 9]),)\n",
      "5\n",
      "[ 18.  21.  24.  27.  30.]\n",
      "[ 18.  21.  24.  27.  30.]\n"
     ]
    }
   ],
   "source": [
    "import numpy as np\n",
    "x = np.linspace(1, 10, 10)*3\n",
    "ind1 = x>15\n",
    "ind2 = np.where(x>15)\n",
    "print ind1\n",
    "print ind2\n",
    "print len(ind2[0])\n",
    "print x[ind1]\n",
    "print x[ind2]"
   ]
  },
  {
   "cell_type": "markdown",
   "metadata": {},
   "source": [
    "## What percentage of the population have IQ 1-sigma, 2-sigma, and 3-sigma above the mean?\n",
    "## Verify your number using the Gaussian random variables generated above.\n",
    "## What's the probability of finding someone with an IQ of 180?  How many such people are there in the US?"
   ]
  },
  {
   "cell_type": "markdown",
   "metadata": {},
   "source": [
    "## Plot a histogram for 10000 number generated with np.random.rand()"
   ]
  },
  {
   "cell_type": "code",
   "execution_count": 62,
   "metadata": {
    "collapsed": false
   },
   "outputs": [
    {
     "name": "stdout",
     "output_type": "stream",
     "text": [
      "0.51\n"
     ]
    }
   ],
   "source": [
    "import numpy as np\n",
    "import matplotlib.pyplot as plt\n",
    "xrand = np.random.rand(100)\n",
    "yrand = np.random.rand(100)\n",
    "x = np.linspace(0, 1, 1000)\n",
    "y = x\n",
    "\n",
    "ind = np.where(xrand>yrand)\n",
    "print len(ind[0])/100."
   ]
  },
  {
   "cell_type": "code",
   "execution_count": 177,
   "metadata": {
    "collapsed": false
   },
   "outputs": [
    {
     "name": "stdout",
     "output_type": "stream",
     "text": [
      "3.14044\n"
     ]
    }
   ],
   "source": [
    "import numpy as np\n",
    "import matplotlib.pyplot as plt\n",
    "xrand = np.random.rand(100000)\n",
    "yrand = np.random.rand(100000)\n",
    "x = np.linspace(0, 1, 100000)\n",
    "\n",
    "ind = np.where(((xrand-0.5)**2+(yrand-0.5)**2)<0.25)\n",
    "print len(ind[0])*4/100000."
   ]
  },
  {
   "cell_type": "code",
   "execution_count": null,
   "metadata": {
    "collapsed": true
   },
   "outputs": [],
   "source": [
    "%matplotlib inline\n",
    "import numpy as np\n",
    "n = np.random.poisson(5, 10000)\n"
   ]
  },
  {
   "cell_type": "markdown",
   "metadata": {},
   "source": [
    "## Integration"
   ]
  },
  {
   "cell_type": "markdown",
   "metadata": {},
   "source": [
    "## Find the value of pi with MC"
   ]
  },
  {
   "cell_type": "markdown",
   "metadata": {
    "collapsed": false
   },
   "source": [
    "## End of wk8-2"
   ]
  }
 ],
 "metadata": {
  "kernelspec": {
   "display_name": "Python 2",
   "language": "python",
   "name": "python2"
  },
  "language_info": {
   "codemirror_mode": {
    "name": "ipython",
    "version": 2
   },
   "file_extension": ".py",
   "mimetype": "text/x-python",
   "name": "python",
   "nbconvert_exporter": "python",
   "pygments_lexer": "ipython2",
   "version": "2.7.9"
  }
 },
 "nbformat": 4,
 "nbformat_minor": 0
}
