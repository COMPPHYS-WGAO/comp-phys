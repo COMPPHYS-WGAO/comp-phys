{
 "metadata": {
  "name": ""
 },
 "nbformat": 3,
 "nbformat_minor": 0,
 "worksheets": [
  {
   "cells": [
    {
     "cell_type": "code",
     "collapsed": false,
     "input": [
      "a = 3 \n",
      "print 'outside f(), a = ', a\n",
      "\n",
      "def f():\n",
      "    b = 3\n",
      "    #global a\n",
      "    #or\n",
      "    #c = 1./a\n",
      "    a = 1./a\n",
      "    print a\n",
      "    return\n",
      "f()\n",
      "\n",
      "print a\n",
      "\n",
      "#you are trying to change a gl"
     ],
     "language": "python",
     "metadata": {},
     "outputs": [
      {
       "output_type": "stream",
       "stream": "stdout",
       "text": [
        "outside f(), a =  3\n",
        "0.333333333333\n",
        "3\n"
       ]
      }
     ],
     "prompt_number": 8
    },
    {
     "cell_type": "code",
     "collapsed": false,
     "input": [
      "#positional argument\n",
      "def yfunc(t,v0):\n",
      "    g = 9.81\n",
      "    return v0*t - 0.5*g*t**2.\n",
      "print yfunc(10, 100)\n",
      "print yfunc(100, 10)\n",
      "print 'docstring for yfunc():', yfunc.__doc__\n",
      "print 'docstring for yfunc():', sum.__doc__"
     ],
     "language": "python",
     "metadata": {},
     "outputs": [
      {
       "output_type": "stream",
       "stream": "stdout",
       "text": [
        "509.5\n",
        "-48050.0\n",
        "docstring for yfunc(): None\n",
        "docstring for yfunc(): sum(sequence[, start]) -> value\n",
        "\n",
        "Return the sum of a sequence of numbers (NOT strings) plus the value\n",
        "of parameter 'start' (which defaults to 0).  When the sequence is\n",
        "empty, return start.\n"
       ]
      }
     ],
     "prompt_number": 11
    },
    {
     "cell_type": "code",
     "collapsed": false,
     "input": [
      "#keyword argument\n",
      "def yfunc2(t = 1,v0 = 0):\n",
      "    g = 9.81\n",
      "    return v0*t - 0.5*g*t**2.\n",
      "print yfunc(t = 10, v0 = 100)\n",
      "print yfunc(v0 = 100, t = 10)\n",
      "print 'docstring for yfunc():', yfunc.__doc__\n",
      "print 'docstring for yfunc():', sum.__doc__"
     ],
     "language": "python",
     "metadata": {},
     "outputs": [
      {
       "output_type": "stream",
       "stream": "stdout",
       "text": [
        "509.5\n",
        "509.5\n",
        "docstring for yfunc(): None\n",
        "docstring for yfunc(): sum(sequence[, start]) -> value\n",
        "\n",
        "Return the sum of a sequence of numbers (NOT strings) plus the value\n",
        "of parameter 'start' (which defaults to 0).  When the sequence is\n",
        "empty, return start.\n"
       ]
      }
     ],
     "prompt_number": 12
    },
    {
     "cell_type": "code",
     "collapsed": false,
     "input": [
      "#mix keyword argument and positional \n",
      "def yfunc2(t ,v0 = 0):\n",
      "    g = 9.81\n",
      "    return v0*t - 0.5*g*t**2.\n",
      "print yfunc(10, v0 = 100)\n",
      "print yfunc(v0 = 100, t = 10)\n",
      "print 'docstring for yfunc():', yfunc.__doc__\n",
      "print 'docstring for yfunc():', sum.__doc__"
     ],
     "language": "python",
     "metadata": {},
     "outputs": []
    },
    {
     "cell_type": "code",
     "collapsed": false,
     "input": [
      "#line magic\n",
      "%timeit range(100)"
     ],
     "language": "python",
     "metadata": {},
     "outputs": [
      {
       "output_type": "stream",
       "stream": "stdout",
       "text": [
        "1000000 loops, best of 3: 885 ns per loop\n"
       ]
      }
     ],
     "prompt_number": 16
    },
    {
     "cell_type": "code",
     "collapsed": false,
     "input": [
      "#cell magic \n",
      "%%timeit rnage(1000)\n"
     ],
     "language": "python",
     "metadata": {},
     "outputs": []
    },
    {
     "cell_type": "code",
     "collapsed": false,
     "input": [
      "def makelist"
     ],
     "language": "python",
     "metadata": {},
     "outputs": []
    },
    {
     "cell_type": "code",
     "collapsed": false,
     "input": [
      "def yfunc2(t,v0):\n",
      "    g = 9.81\n",
      "    y = v0*t - 0.5*g*t**2.\n",
      "    yprime = v0 - g*t\n",
      "    return y, yprime\n",
      "pos, vel = yfunc2(2, 10)\n",
      "print 'position = {:10.2g} velocity = {:10.2g}'.format(pos, vel)\n",
      "print 'position = {:+10.2g} velocity = {:+10.2g}'.format(pos, vel)\n",
      "print yfunc(10, 100)\n",
      "print yfunc(100, 10)\n",
      "print 'docstring for yfunc():', yfunc.__doc__\n",
      "print 'docstring for yfunc():', sum.__doc__"
     ],
     "language": "python",
     "metadata": {},
     "outputs": [
      {
       "output_type": "stream",
       "stream": "stdout",
       "text": [
        "position =       0.38 velocity =       -9.6\n",
        "position =      +0.38 velocity =       -9.6\n",
        "(509.5, 1.8999999999999915)\n",
        "(-48050.0, -971.0)\n",
        "docstring for yfunc(): None\n",
        "docstring for yfunc(): sum(sequence[, start]) -> value\n",
        "\n",
        "Return the sum of a sequence of numbers (NOT strings) plus the value\n",
        "of parameter 'start' (which defaults to 0).  When the sequence is\n",
        "empty, return start.\n"
       ]
      }
     ],
     "prompt_number": 22
    },
    {
     "cell_type": "code",
     "collapsed": false,
     "input": [
      "# with a * , we ca n unpack the list / tupple\n",
      "print range(3, 6)\n",
      "range_params = [3,6]\n",
      "print range(*range_params)\n",
      "range_params = 3,6\n",
      "print range(*range_params)\n",
      "#print range(range_params)"
     ],
     "language": "python",
     "metadata": {},
     "outputs": [
      {
       "output_type": "stream",
       "stream": "stdout",
       "text": [
        "[3, 4, 5]\n",
        "[3, 4, 5]\n",
        "[3, 4, 5]\n"
       ]
      }
     ],
     "prompt_number": 24
    },
    {
     "cell_type": "code",
     "collapsed": false,
     "input": [
      "def mean(nums):\n",
      "    bot = "
     ],
     "language": "python",
     "metadata": {},
     "outputs": [
      {
       "ename": "SyntaxError",
       "evalue": "invalid syntax (<ipython-input-25-4b8f0f9f3589>, line 2)",
       "output_type": "pyerr",
       "traceback": [
        "\u001b[0;36m  File \u001b[0;32m\"<ipython-input-25-4b8f0f9f3589>\"\u001b[0;36m, line \u001b[0;32m2\u001b[0m\n\u001b[0;31m    bot =\u001b[0m\n\u001b[0m          ^\u001b[0m\n\u001b[0;31mSyntaxError\u001b[0m\u001b[0;31m:\u001b[0m invalid syntax\n"
       ]
      }
     ],
     "prompt_number": 25
    },
    {
     "cell_type": "code",
     "collapsed": false,
     "input": [
      "import pdb\n",
      "\n",
      "def L(x, n):\n",
      "    pdb.set_trace()\n",
      "    for i in range(1, n + 1):\n",
      "        approx += (1/(i+1))*(x/(1+x))**(i+1)\n",
      "    return approx\n",
      "    return approx\n",
      "\n",
      "\n",
      "\n",
      "x = 2\n",
      "approx = 0\n",
      "y = L(x, 100)\n",
      "print 'Taylor Series Approximation:', y\n",
      "from math import log  #you would guess math module would have log...yes!\n",
      "exact_val = log(1+x)\n",
      "print 'exact_val', exact_val\n",
      "from math import log1p  #more accurate for small x.\n",
      "print 'log1p output', log1p(x)\n"
     ],
     "language": "python",
     "metadata": {},
     "outputs": [],
     "prompt_number": "*"
    },
    {
     "cell_type": "code",
     "collapsed": false,
     "input": [
      "import pdb\n",
      "\n",
      "def L(x, n):\n",
      "#     pdb.set_trace()\n",
      "    approx = 0\n",
      "    for i in range(0, n + 1):\n",
      "        approx += (1/(i+1.))*(x/(1.+x))**(i+1.)\n",
      "    return approx\n",
      "\n",
      "\n",
      "\n",
      "\n",
      "x = 2\n",
      "\n",
      "y = L(x, 100)\n",
      "print 'Taylor Series Approximation:', y\n",
      "from math import log  #you would guess math module would have log...yes!\n",
      "exact_val = log(1+x)\n",
      "print 'exact_val', exact_val\n",
      "from math import log1p  #more accurate for small x.\n",
      "print 'log1p output', log1p(x)"
     ],
     "language": "python",
     "metadata": {},
     "outputs": [],
     "prompt_number": "*"
    }
   ],
   "metadata": {}
  }
 ]
}