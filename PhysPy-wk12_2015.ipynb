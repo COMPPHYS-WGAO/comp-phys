{
 "cells": [
  {
   "cell_type": "markdown",
   "metadata": {},
   "source": [
    "# Topics\n",
    "\n",
    "## 1. Fourier Descriptor \n",
    "###     i)   DFT on 1D Outline \n",
    "###     ii)  The Importance of the Order \n",
    "## 2. Contour Plots\n",
    "###     i) Contour Plots\n",
    "###     ii) The Extraction of Coordinates of Contour Points \n",
    "## 3. Back to Fourier Descriptor \n",
    "###     i) Order-by-order  \n",
    "###     ii) Invariance (location, size, rotation)  \n",
    "## 4. Toward Character Recognition (\"OCR\" --> Computer Vision) \n",
    " \n"
   ]
  },
  {
   "cell_type": "code",
   "execution_count": 2,
   "metadata": {
    "collapsed": false
   },
   "outputs": [
    {
     "name": "stdout",
     "output_type": "stream",
     "text": [
      "(1+2j)\n"
     ]
    }
   ],
   "source": [
    "a = 1.\n",
    "b = 2.\n",
    "# It's not c = a + b*j!!\n",
    "c = a + b*1j\n",
    "\n",
    "print c"
   ]
  },
  {
   "cell_type": "code",
   "execution_count": 3,
   "metadata": {
    "collapsed": false
   },
   "outputs": [
    {
     "data": {
      "image/png": "[encoded data removed]",
      "text/plain": [
       "<matplotlib.figure.Figure at 0x1062019d0>"
      ]
     },
     "metadata": {},
     "output_type": "display_data"
    }
   ],
   "source": [
    "%matplotlib inline\n",
    "'''Generating a square'''\n",
    "\n",
    "\n",
    "import numpy as np\n",
    "import matplotlib.pyplot as plt\n",
    "\n",
    "num_pts = 100\n",
    "sz = 10\n",
    "\n",
    "\n",
    "x1 = np.linspace(1, sz, num_pts)\n",
    "x2 = np.ones(num_pts)*sz\n",
    "x3 = np.linspace(sz, 1, num_pts)\n",
    "x4 = np.ones(num_pts)\n",
    "x = np.concatenate((x1, x2, x3, x4))\n",
    "\n",
    "y1 = np.ones(num_pts)\n",
    "y2 = np.linspace(1, sz, num_pts)\n",
    "y3 = np.ones(num_pts)*sz\n",
    "y4 = np.linspace(sz, 1, num_pts)\n",
    "y = np.concatenate((y1, y2, y3, y4))\n",
    "\n",
    "\n",
    "plt.plot(x, y, 'b.')\n",
    "plt.axis([0, sz + 1, 0, sz + 1])\n",
    "plt.show()"
   ]
  },
  {
   "cell_type": "markdown",
   "metadata": {},
   "source": [
    "## Fourier Descriptor (FD): FT of z = x + 1j\\*y, where x and y are the coordinates of the outline of a shape.\n"
   ]
  },
  {
   "cell_type": "code",
   "execution_count": 4,
   "metadata": {
    "collapsed": false
   },
   "outputs": [
    {
     "name": "stdout",
     "output_type": "stream",
     "text": [
      "Nyquist index 200\n",
      "Note: I'm take the same number of component from the low and high ends: 10 10\n"
     ]
    },
    {
     "data": {
      "image/png": "[encoded data removed]",
      "text/plain": [
       "<matplotlib.figure.Figure at 0x104718610>"
      ]
     },
     "metadata": {},
     "output_type": "display_data"
    },
    {
     "data": {
      "image/png": "[encoded data removed]",
      "text/plain": [
       "<matplotlib.figure.Figure at 0x106599a10>"
      ]
     },
     "metadata": {},
     "output_type": "display_data"
    }
   ],
   "source": [
    "%matplotlib inline\n",
    "\n",
    "'''\n",
    "\n",
    "Fourier Descriptor (FD): FT of (x + 1j*y), where x and y are the coordinates \n",
    "of the outline of a shape.\n",
    "\n",
    "\n",
    "Below: I reject the 0th FT term -- why?\n",
    "\n",
    "'''\n",
    "\n",
    "\n",
    "import numpy as np\n",
    "N = len(x)\n",
    "n = np.arange(N)\n",
    "\n",
    "\n",
    "z = x + y*1j\n",
    "\n",
    "Z = np.fft.fft(z)\n",
    "\n",
    "plt.figure()\n",
    "plt.title('FD real and imag')\n",
    "plt.plot(Z.real, 'b-')\n",
    "plt.plot(Z.imag, 'g-')\n",
    "plt.ylim([-10, 10])\n",
    "\n",
    "\n",
    "# Setting up filters\n",
    "\n",
    "n = np.arange(len(x))\n",
    "print 'Nyquist index', N/2\n",
    "\n",
    "n_keep = 10\n",
    "# low freq: low n terms\n",
    "filt1 = (n > 0)*(n <= n_keep)  \n",
    "# low freq: high n terms\n",
    "filt2 = (n > ((N-1) - n_keep))\n",
    "print \"Note: I'm take the same number of component from the low and high ends:\", \\\n",
    "      filt1.sum(), filt2.sum()\n",
    "\n",
    "# low freq: both low and high n terms   \n",
    "filt = filt1 + filt2\n",
    "\n",
    "# Note: 1. How few components are needed to recover the basic shape\n",
    "#       2. How I approach symmetrically from both ends, since the highest freq (Nyquist freq)\n",
    "#          is in the middle.\n",
    "plt.plot( filt*5, 'r-' )\n",
    "\n",
    "plt.show()\n",
    "\n",
    "\n",
    "# Recovery -- with and without low-pass filter\n",
    "# A *lot* of fourier components go into get the sharp corners right!  \n",
    "# (Get those right require high freq terms; but they are not necessary for pattern recognition.)\n",
    "\n",
    "Z *= filt\n",
    "z_rec = np.fft.ifft(Z)\n",
    "\n",
    "x_rec = z_rec.real\n",
    "y_rec = z_rec.imag\n",
    "\n",
    "plt.plot(x_rec, y_rec, 'b.')\n",
    "plt.show()\n",
    "\n"
   ]
  },
  {
   "cell_type": "markdown",
   "metadata": {},
   "source": [
    "## Breakout1: Write the following 2 useful functions:\n",
    "\n",
    "### 1. FD(x, y, plot_FD = False, y_lim = None) \n",
    "###     - if plot_FD is True, plot the real and imaginary parts of FD on the same figure.\n",
    "###     - if y_lim is None, autoscale. If it's specified, then set the vertical scale to be between -y_lim and +y_lim.\n",
    "###     - returns Z, i.e., the FD's.\n",
    "\n",
    "### 2. filt_FD(Z, n_keep, no_zeroth = True) \n",
    "###     - should have the option of including the zeroth order term in Z.\n",
    "###     - returns Z\\*filt.  The truth table of filt depends on n_keep, of course.\n",
    "\n"
   ]
  },
  {
   "cell_type": "code",
   "execution_count": 5,
   "metadata": {
    "collapsed": false
   },
   "outputs": [
    {
     "data": {
      "image/png": "[encoded data removed]",
      "text/plain": [
       "<matplotlib.figure.Figure at 0x104718890>"
      ]
     },
     "metadata": {},
     "output_type": "display_data"
    }
   ],
   "source": [
    "import numpy as np\n",
    "\n",
    "\n",
    "def FD(x, y, plot_FD = False, y_lim = None):\n",
    "    N = len(x)\n",
    "    n = np.arange(N)\n",
    "    z = x + y*1j\n",
    "    Z = np.fft.fft(z)\n",
    "        \n",
    "    if plot_FD is True:\n",
    "        \n",
    "        plt.figure()\n",
    "        plt.title('FD real and imag')\n",
    "        plt.plot(Z.real, 'b-')\n",
    "        plt.plot(Z.imag, 'g-')\n",
    "        if y_lim != None:\n",
    "            plt.ylim([-y_lim, y_lim])\n",
    "#         plt.ylim([-10, 10])\n",
    "    \n",
    "    return Z\n",
    "\n",
    "Z = FD(x, y, plot_FD = True, y_lim = 5)\n",
    "\n",
    "def filt_FD(Z, n_keep, no_zeroth = True):\n",
    "    N = len(Z)\n",
    "    n = np.arrange(len(Z))\n",
    "    if no_zeroth:\n",
    "        filt0 = n > 0 if np_zeroth else 1\n",
    "    filt1 = filt0*(n <= n_keep)  \n",
    "    # low freq: high n terms\n",
    "    filt2 = (n > ((N-1) - n_keep))\n",
    "    # low freq: both low and high n terms   \n",
    "    filt = filt1 + filt2\n",
    "    return Z*filt\n",
    "\n",
    "def recover_shape(Z):\n",
    "    z_rec = np.fft.ifft(Z)\n",
    "\n",
    "    x_rec = z_rec.real\n",
    "    y_rec = z_rec.imag\n",
    "\n",
    "    return x_rec, y_rec\n",
    "\n",
    "def plot_shape(x, y, plot_style = 'b.'):\n",
    "    fig, ax = plt.subplots()\n",
    "    ax.set_title('Recovered Shape')\n",
    "    try:\n",
    "        xlen = len(x)\n",
    "    except:\n",
    "        ax.plot(x, y, plot_style)\n",
    "    else:\n",
    "        for i in range(xlen):\n",
    "            ax.plot(x[i], y[i], plot_style)"
   ]
  },
  {
   "cell_type": "code",
   "execution_count": 6,
   "metadata": {
    "collapsed": false
   },
   "outputs": [],
   "source": [
    "%matplotlib inline\n",
    "\n",
    "'''\n",
    "Breakout1 Solution\n",
    "\n",
    "Useful functions\n",
    "\n",
    "'''\n",
    "import numpy as np\n",
    "import matplotlib.pyplot as plt\n",
    "\n",
    "\n",
    "def FD(x, y, plot_FD = False, y_lim = None):\n",
    "\n",
    "    N = len(x)\n",
    "    n = np.arange(N)\n",
    "\n",
    "\n",
    "    z = x + y*1j\n",
    "\n",
    "    Z = np.fft.fft(z)\n",
    "\n",
    "    if plot_FD:\n",
    "        plt.figure()\n",
    "        plt.title('FD real and imag')\n",
    "        plt.plot(Z.real, 'b-')\n",
    "        plt.plot(Z.imag, 'g-')\n",
    "        if y_lim != None:\n",
    "            plt.ylim([-y_lim, y_lim])\n",
    "\n",
    "    return Z\n",
    "\n",
    "# Setting up filters\n",
    "\n",
    "def filt_FD(Z, n_keep, no_zeroth = True):\n",
    "    N = len(Z)\n",
    "    n = np.arange(len(Z))\n",
    "    print 'Nyquist index', N/2\n",
    "    # in case I want the centroid position.\n",
    "    filt0 = n > 0 if no_zeroth else 1\n",
    "    filt1 = filt0*(n <= n_keep)\n",
    "    \n",
    "    filt2 = (n > ((N-1) - n_keep))\n",
    "    print 'Number of components from both sides:', filt1.sum(), filt2.sum()\n",
    "    filt = filt1 + filt2\n",
    "    #print Z.real[N/2]\n",
    "    return Z*filt\n",
    "\n",
    "# I'm giving away the following 2 functions for free!\n",
    "def recover_shape(Z):\n",
    "    z_rec = np.fft.ifft(Z)\n",
    "\n",
    "    x_rec = z_rec.real\n",
    "    y_rec = z_rec.imag\n",
    "    \n",
    "    return x_rec, y_rec\n",
    "\n",
    "\n",
    "def plot_shape(x, y, plot_style = 'b.'):\n",
    "    fig, ax = plt.subplots()\n",
    "    ax.set_title('Recovered Shape')\n",
    "    try:\n",
    "        xlen = len(x)\n",
    "    except:\n",
    "        ax.plot(x, y, plot_style)\n",
    "    else:\n",
    "        for i in range(xlen):\n",
    "            ax.plot(x[i], y[i], plot_style)\n",
    "\n",
    "\n"
   ]
  },
  {
   "cell_type": "code",
   "execution_count": 7,
   "metadata": {
    "collapsed": false
   },
   "outputs": [
    {
     "name": "stdout",
     "output_type": "stream",
     "text": [
      "Nyquist index 200\n",
      "Number of components from both sides: 10 10\n"
     ]
    },
    {
     "data": {
      "image/png": "[encoded data removed]",
      "text/plain": [
       "<matplotlib.figure.Figure at 0x1062ac0d0>"
      ]
     },
     "metadata": {},
     "output_type": "display_data"
    },
    {
     "data": {
      "image/png": "[encoded data removed]",
      "text/plain": [
       "<matplotlib.figure.Figure at 0x1062a2190>"
      ]
     },
     "metadata": {},
     "output_type": "display_data"
    }
   ],
   "source": [
    "'''\n",
    "\n",
    "Check to see if the functinos in breakout1 work.\n",
    "\n",
    "To emphasize:\n",
    "\n",
    "- 0th order: average (or sum, depending on DFT convention adopted) of all points\n",
    "\n",
    "\n",
    "'''\n",
    "#************************************Main Program*************************************\n",
    "# Note: this is how most programs should be written.\n",
    "Z = FD(x, y, plot_FD=True, y_lim = 10)\n",
    "Z_filt = filt_FD(Z, 10)\n",
    "x_rec, y_rec = recover_shape(Z_filt)\n",
    "plot_shape(x_rec, y_rec)\n"
   ]
  },
  {
   "cell_type": "code",
   "execution_count": 8,
   "metadata": {
    "collapsed": false
   },
   "outputs": [
    {
     "data": {
      "image/png": "[encoded data removed]",
      "text/plain": [
       "<matplotlib.figure.Figure at 0x1062ac190>"
      ]
     },
     "metadata": {},
     "output_type": "display_data"
    }
   ],
   "source": [
    "%matplotlib inline\n",
    "'''Noise added'''\n",
    "\n",
    "\n",
    "import numpy as np\n",
    "import matplotlib.pyplot as plt\n",
    "\n",
    "num_pts = 100\n",
    "sz = 10\n",
    "noiz_sz = 0.1\n",
    "\n",
    "x1 = np.linspace(1, sz, num_pts)\n",
    "x2 = np.ones(num_pts)*sz\n",
    "x3 = np.linspace(sz, 1, num_pts)\n",
    "x4 = np.ones(num_pts)\n",
    "x = np.concatenate((x1, x2, x3, x4))\n",
    "x += np.random.randn(len(x))*noiz_sz\n",
    "\n",
    "\n",
    "\n",
    "y1 = np.ones(num_pts)\n",
    "y2 = np.linspace(1, sz, num_pts)\n",
    "y3 = np.ones(num_pts)*sz\n",
    "y4 = np.linspace(sz, 1, num_pts)\n",
    "y = np.concatenate((y1, y2, y3, y4))\n",
    "y += np.random.randn(len(y))*noiz_sz\n",
    "\n",
    "\n",
    "plot_shape(x, y)\n",
    "\n"
   ]
  },
  {
   "cell_type": "code",
   "execution_count": 9,
   "metadata": {
    "collapsed": false
   },
   "outputs": [
    {
     "name": "stdout",
     "output_type": "stream",
     "text": [
      "Nyquist index 200\n",
      "Number of components from both sides: 10 10\n"
     ]
    },
    {
     "data": {
      "image/png": "[encoded data removed]",
      "text/plain": [
       "<matplotlib.figure.Figure at 0x106201ad0>"
      ]
     },
     "metadata": {},
     "output_type": "display_data"
    },
    {
     "data": {
      "image/png": "[encoded data removed]",
      "text/plain": [
       "<matplotlib.figure.Figure at 0x106df78d0>"
      ]
     },
     "metadata": {},
     "output_type": "display_data"
    }
   ],
   "source": [
    "Z = FD(x, y, plot_FD=True, y_lim = 10)\n",
    "Z_filt = filt_FD(Z, 10)\n",
    "x_rec, y_rec = recover_shape(Z_filt)\n",
    "plot_shape(x_rec, y_rec)\n"
   ]
  },
  {
   "cell_type": "markdown",
   "metadata": {},
   "source": [
    "## The Order of the Points Matters"
   ]
  },
  {
   "cell_type": "code",
   "execution_count": 10,
   "metadata": {
    "collapsed": false
   },
   "outputs": [
    {
     "ename": "ImportError",
     "evalue": "cannot import name find_contours",
     "output_type": "error",
     "traceback": [
      "\u001b[0;31m---------------------------------------------------------------------------\u001b[0m",
      "\u001b[0;31mImportError\u001b[0m                               Traceback (most recent call last)",
      "\u001b[0;32m<ipython-input-10-bfeed2564708>\u001b[0m in \u001b[0;36m<module>\u001b[0;34m()\u001b[0m\n\u001b[1;32m     15\u001b[0m \u001b[0;32mfrom\u001b[0m \u001b[0mscipy\u001b[0m \u001b[0;32mimport\u001b[0m \u001b[0mndimage\u001b[0m \u001b[0;32mas\u001b[0m \u001b[0mndi\u001b[0m\u001b[0;34m\u001b[0m\u001b[0m\n\u001b[1;32m     16\u001b[0m \u001b[0;34m\u001b[0m\u001b[0m\n\u001b[0;32m---> 17\u001b[0;31m \u001b[0;32mfrom\u001b[0m \u001b[0mskimage\u001b[0m \u001b[0;32mimport\u001b[0m \u001b[0mfeature\u001b[0m\u001b[0;34m\u001b[0m\u001b[0m\n\u001b[0m\u001b[1;32m     18\u001b[0m \u001b[0;34m\u001b[0m\u001b[0m\n\u001b[1;32m     19\u001b[0m \u001b[0;34m\u001b[0m\u001b[0m\n",
      "\u001b[0;32m/Users/gaowenyi/Library/Enthought/Canopy_64bit/User/lib/python2.7/site-packages/skimage/feature/__init__.py\u001b[0m in \u001b[0;36m<module>\u001b[0;34m()\u001b[0m\n\u001b[1;32m      4\u001b[0m \u001b[0;32mfrom\u001b[0m \u001b[0;34m.\u001b[0m\u001b[0mtexture\u001b[0m \u001b[0;32mimport\u001b[0m \u001b[0mgreycomatrix\u001b[0m\u001b[0;34m,\u001b[0m \u001b[0mgreycoprops\u001b[0m\u001b[0;34m,\u001b[0m \u001b[0mlocal_binary_pattern\u001b[0m\u001b[0;34m\u001b[0m\u001b[0m\n\u001b[1;32m      5\u001b[0m \u001b[0;32mfrom\u001b[0m \u001b[0;34m.\u001b[0m\u001b[0mpeak\u001b[0m \u001b[0;32mimport\u001b[0m \u001b[0mpeak_local_max\u001b[0m\u001b[0;34m\u001b[0m\u001b[0m\n\u001b[0;32m----> 6\u001b[0;31m from .corner import (corner_kitchen_rosenfeld, corner_harris,\n\u001b[0m\u001b[1;32m      7\u001b[0m                      \u001b[0mcorner_shi_tomasi\u001b[0m\u001b[0;34m,\u001b[0m \u001b[0mcorner_foerstner\u001b[0m\u001b[0;34m,\u001b[0m \u001b[0mcorner_subpix\u001b[0m\u001b[0;34m,\u001b[0m\u001b[0;34m\u001b[0m\u001b[0m\n\u001b[1;32m      8\u001b[0m                      \u001b[0mcorner_peaks\u001b[0m\u001b[0;34m,\u001b[0m \u001b[0mcorner_fast\u001b[0m\u001b[0;34m,\u001b[0m \u001b[0mstructure_tensor\u001b[0m\u001b[0;34m,\u001b[0m\u001b[0;34m\u001b[0m\u001b[0m\n",
      "\u001b[0;32m/Users/gaowenyi/Library/Enthought/Canopy_64bit/User/lib/python2.7/site-packages/skimage/feature/corner.py\u001b[0m in \u001b[0;36m<module>\u001b[0;34m()\u001b[0m\n\u001b[1;32m      8\u001b[0m \u001b[0;32mfrom\u001b[0m \u001b[0;34m.\u001b[0m\u001b[0;34m.\u001b[0m\u001b[0mfeature\u001b[0m\u001b[0;34m.\u001b[0m\u001b[0mcorner_cy\u001b[0m \u001b[0;32mimport\u001b[0m \u001b[0m_corner_fast\u001b[0m\u001b[0;34m\u001b[0m\u001b[0m\n\u001b[1;32m      9\u001b[0m \u001b[0;32mfrom\u001b[0m \u001b[0;34m.\u001b[0m\u001b[0m_hessian_det_appx\u001b[0m \u001b[0;32mimport\u001b[0m \u001b[0m_hessian_matrix_det\u001b[0m\u001b[0;34m\u001b[0m\u001b[0m\n\u001b[0;32m---> 10\u001b[0;31m \u001b[0;32mfrom\u001b[0m \u001b[0;34m.\u001b[0m\u001b[0;34m.\u001b[0m\u001b[0mtransform\u001b[0m \u001b[0;32mimport\u001b[0m \u001b[0mintegral_image\u001b[0m\u001b[0;34m\u001b[0m\u001b[0m\n\u001b[0m\u001b[1;32m     11\u001b[0m \u001b[0;32mfrom\u001b[0m \u001b[0;34m.\u001b[0m\u001b[0;34m.\u001b[0m\u001b[0m_shared\u001b[0m\u001b[0;34m.\u001b[0m\u001b[0mutils\u001b[0m \u001b[0;32mimport\u001b[0m \u001b[0msafe_as_int\u001b[0m\u001b[0;34m\u001b[0m\u001b[0m\n\u001b[1;32m     12\u001b[0m \u001b[0;34m\u001b[0m\u001b[0m\n",
      "\u001b[0;32m/Users/gaowenyi/Library/Enthought/Canopy_64bit/User/lib/python2.7/site-packages/skimage/transform/__init__.py\u001b[0m in \u001b[0;36m<module>\u001b[0;34m()\u001b[0m\n\u001b[1;32m      1\u001b[0m from ._hough_transform import (hough_ellipse, hough_line,\n\u001b[1;32m      2\u001b[0m                                probabilistic_hough_line)\n\u001b[0;32m----> 3\u001b[0;31m \u001b[0;32mfrom\u001b[0m \u001b[0;34m.\u001b[0m\u001b[0mhough_transform\u001b[0m \u001b[0;32mimport\u001b[0m \u001b[0mhough_circle\u001b[0m\u001b[0;34m,\u001b[0m \u001b[0mhough_line_peaks\u001b[0m\u001b[0;34m\u001b[0m\u001b[0m\n\u001b[0m\u001b[1;32m      4\u001b[0m \u001b[0;32mfrom\u001b[0m \u001b[0;34m.\u001b[0m\u001b[0mradon_transform\u001b[0m \u001b[0;32mimport\u001b[0m \u001b[0mradon\u001b[0m\u001b[0;34m,\u001b[0m \u001b[0miradon\u001b[0m\u001b[0;34m,\u001b[0m \u001b[0miradon_sart\u001b[0m\u001b[0;34m\u001b[0m\u001b[0m\n\u001b[1;32m      5\u001b[0m \u001b[0;32mfrom\u001b[0m \u001b[0;34m.\u001b[0m\u001b[0mfinite_radon_transform\u001b[0m \u001b[0;32mimport\u001b[0m \u001b[0mfrt2\u001b[0m\u001b[0;34m,\u001b[0m \u001b[0mifrt2\u001b[0m\u001b[0;34m\u001b[0m\u001b[0m\n",
      "\u001b[0;32m/Users/gaowenyi/Library/Enthought/Canopy_64bit/User/lib/python2.7/site-packages/skimage/transform/hough_transform.py\u001b[0m in \u001b[0;36m<module>\u001b[0;34m()\u001b[0m\n\u001b[1;32m      1\u001b[0m \u001b[0;32mimport\u001b[0m \u001b[0mnumpy\u001b[0m \u001b[0;32mas\u001b[0m \u001b[0mnp\u001b[0m\u001b[0;34m\u001b[0m\u001b[0m\n\u001b[1;32m      2\u001b[0m \u001b[0;32mfrom\u001b[0m \u001b[0mscipy\u001b[0m \u001b[0;32mimport\u001b[0m \u001b[0mndimage\u001b[0m\u001b[0;34m\u001b[0m\u001b[0m\n\u001b[0;32m----> 3\u001b[0;31m \u001b[0;32mfrom\u001b[0m \u001b[0;34m.\u001b[0m\u001b[0;34m.\u001b[0m \u001b[0;32mimport\u001b[0m \u001b[0mmeasure\u001b[0m\u001b[0;34m,\u001b[0m \u001b[0mmorphology\u001b[0m\u001b[0;34m\u001b[0m\u001b[0m\n\u001b[0m\u001b[1;32m      4\u001b[0m \u001b[0;32mfrom\u001b[0m \u001b[0;34m.\u001b[0m\u001b[0m_hough_transform\u001b[0m \u001b[0;32mimport\u001b[0m \u001b[0m_hough_circle\u001b[0m\u001b[0;34m\u001b[0m\u001b[0m\n\u001b[1;32m      5\u001b[0m \u001b[0;34m\u001b[0m\u001b[0m\n",
      "\u001b[0;32m/Users/gaowenyi/Library/Enthought/Canopy_64bit/User/lib/python2.7/site-packages/skimage/measure/__init__.py\u001b[0m in \u001b[0;36m<module>\u001b[0;34m()\u001b[0m\n\u001b[0;32m----> 1\u001b[0;31m \u001b[0;32mfrom\u001b[0m \u001b[0;34m.\u001b[0m\u001b[0m_find_contours\u001b[0m \u001b[0;32mimport\u001b[0m \u001b[0mfind_contours\u001b[0m\u001b[0;34m\u001b[0m\u001b[0m\n\u001b[0m\u001b[1;32m      2\u001b[0m from ._marching_cubes import (marching_cubes, mesh_surface_area,\n\u001b[1;32m      3\u001b[0m                               correct_mesh_orientation)\n\u001b[1;32m      4\u001b[0m \u001b[0;32mfrom\u001b[0m \u001b[0;34m.\u001b[0m\u001b[0m_regionprops\u001b[0m \u001b[0;32mimport\u001b[0m \u001b[0mregionprops\u001b[0m\u001b[0;34m,\u001b[0m \u001b[0mperimeter\u001b[0m\u001b[0;34m\u001b[0m\u001b[0m\n\u001b[1;32m      5\u001b[0m \u001b[0;32mfrom\u001b[0m \u001b[0;34m.\u001b[0m\u001b[0m_structural_similarity\u001b[0m \u001b[0;32mimport\u001b[0m \u001b[0mstructural_similarity\u001b[0m\u001b[0;34m\u001b[0m\u001b[0m\n",
      "\u001b[0;31mImportError\u001b[0m: cannot import name find_contours"
     ]
    }
   ],
   "source": [
    "%matplotlib inline\n",
    "'''\n",
    "\n",
    "Two Purposes:\n",
    "\n",
    "1. Introduce the idea of an edge detector.\n",
    "2. Show the order of points matters a great deal.\n",
    "\n",
    "\n",
    "'''\n",
    "\n",
    "\n",
    "import numpy as np\n",
    "import matplotlib.pyplot as plt\n",
    "from scipy import ndimage as ndi\n",
    "\n",
    "from skimage import feature\n",
    "\n",
    "\n",
    "# Generate noisy image of a square\n",
    "im = np.zeros((128, 128))\n",
    "im[32:-32, 32:-32] = 1\n",
    "\n",
    "# rotation\n",
    "#im = ndi.rotate(im, 15, mode='constant')\n",
    "# Gaussian smoothing\n",
    "im = ndi.gaussian_filter(im, 4)\n",
    "# Add noise\n",
    "im += 0.1*np.random.random(im.shape)\n",
    "\n",
    "# Compute the Canny filter for two values of sigma\n",
    "edges = feature.canny(im, sigma=3)\n",
    "\n",
    "# display results -- creating figure and subplots at the same time.\n",
    "fig, (ax1, ax2) = plt.subplots(nrows=1, ncols=2, figsize=(8, 3), sharex=True, sharey=True)\n",
    "\n",
    "ax1.imshow(im, cmap=plt.cm.jet)\n",
    "ax1.axis('off')\n",
    "ax1.set_title('noisy image', fontsize=20)\n",
    "\n",
    "\n",
    "ax2.imshow(edges, cmap=plt.cm.gray, interpolation='none')\n",
    "ax2.axis('off')\n",
    "ax2.set_title('Canny filter, $\\sigma=3$', fontsize=20)\n",
    "\n",
    "fig.subplots_adjust(wspace=0.02, hspace=0.02, top=0.9,\n",
    "                    bottom=0.02, left=0.02, right=0.98)\n",
    "\n",
    "plt.show()"
   ]
  },
  {
   "cell_type": "code",
   "execution_count": 20,
   "metadata": {
    "collapsed": false
   },
   "outputs": [
    {
     "ename": "NameError",
     "evalue": "name 'edges' is not defined",
     "output_type": "error",
     "traceback": [
      "\u001b[0;31m---------------------------------------------------------------------------\u001b[0m",
      "\u001b[0;31mNameError\u001b[0m                                 Traceback (most recent call last)",
      "\u001b[0;32m<ipython-input-20-7b934a10bcbc>\u001b[0m in \u001b[0;36m<module>\u001b[0;34m()\u001b[0m\n\u001b[0;32m----> 1\u001b[0;31m \u001b[0;32mprint\u001b[0m \u001b[0medges\u001b[0m\u001b[0;34m.\u001b[0m\u001b[0mshape\u001b[0m\u001b[0;34m,\u001b[0m \u001b[0medges\u001b[0m\u001b[0;34m.\u001b[0m\u001b[0mdtype\u001b[0m\u001b[0;34m\u001b[0m\u001b[0m\n\u001b[0m",
      "\u001b[0;31mNameError\u001b[0m: name 'edges' is not defined"
     ]
    }
   ],
   "source": [
    "print edges.shape, edges.dtype"
   ]
  },
  {
   "cell_type": "code",
   "execution_count": 19,
   "metadata": {
    "collapsed": false
   },
   "outputs": [
    {
     "ename": "NameError",
     "evalue": "name 'edges' is not defined",
     "output_type": "error",
     "traceback": [
      "\u001b[0;31m---------------------------------------------------------------------------\u001b[0m",
      "\u001b[0;31mNameError\u001b[0m                                 Traceback (most recent call last)",
      "\u001b[0;32m<ipython-input-19-2826ac324444>\u001b[0m in \u001b[0;36m<module>\u001b[0;34m()\u001b[0m\n\u001b[1;32m      8\u001b[0m \u001b[0my_arr\u001b[0m \u001b[0;34m=\u001b[0m \u001b[0;34m[\u001b[0m\u001b[0;34m]\u001b[0m\u001b[0;34m\u001b[0m\u001b[0m\n\u001b[1;32m      9\u001b[0m \u001b[0;34m\u001b[0m\u001b[0m\n\u001b[0;32m---> 10\u001b[0;31m \u001b[0;32mfor\u001b[0m \u001b[0mi\u001b[0m \u001b[0;32min\u001b[0m \u001b[0mrange\u001b[0m\u001b[0;34m(\u001b[0m\u001b[0medges\u001b[0m\u001b[0;34m.\u001b[0m\u001b[0mshape\u001b[0m\u001b[0;34m[\u001b[0m\u001b[0;36m0\u001b[0m\u001b[0;34m]\u001b[0m\u001b[0;34m)\u001b[0m\u001b[0;34m:\u001b[0m\u001b[0;34m\u001b[0m\u001b[0m\n\u001b[0m\u001b[1;32m     11\u001b[0m     \u001b[0;32mfor\u001b[0m \u001b[0mj\u001b[0m \u001b[0;32min\u001b[0m \u001b[0mrange\u001b[0m\u001b[0;34m(\u001b[0m\u001b[0medges\u001b[0m\u001b[0;34m.\u001b[0m\u001b[0mshape\u001b[0m\u001b[0;34m[\u001b[0m\u001b[0;36m1\u001b[0m\u001b[0;34m]\u001b[0m\u001b[0;34m)\u001b[0m\u001b[0;34m:\u001b[0m\u001b[0;34m\u001b[0m\u001b[0m\n\u001b[1;32m     12\u001b[0m         \u001b[0;32mif\u001b[0m \u001b[0medges\u001b[0m\u001b[0;34m[\u001b[0m\u001b[0mi\u001b[0m\u001b[0;34m,\u001b[0m \u001b[0mj\u001b[0m\u001b[0;34m]\u001b[0m \u001b[0;34m>\u001b[0m \u001b[0;36m0\u001b[0m\u001b[0;34m:\u001b[0m\u001b[0;34m\u001b[0m\u001b[0m\n",
      "\u001b[0;31mNameError\u001b[0m: name 'edges' is not defined"
     ]
    }
   ],
   "source": [
    "%matplotlib inline\n",
    "'''Converting edge image to arrays'''\n",
    "\n",
    "\n",
    "import numpy as np\n",
    "import matplotlib.pyplot as plt\n",
    "x_arr = []\n",
    "y_arr = []\n",
    "\n",
    "for i in range(edges.shape[0]):\n",
    "    for j in range(edges.shape[1]):\n",
    "        if edges[i, j] > 0:\n",
    "            x_arr.append(i)\n",
    "            y_arr.append(j)\n",
    "\n",
    "x_arr = np.array(x_arr)\n",
    "y_arr = np.array(y_arr)\n",
    "plt.plot(x_arr, y_arr, 'k.')\n",
    "\n",
    "plt.show()"
   ]
  },
  {
   "cell_type": "code",
   "execution_count": 25,
   "metadata": {
    "collapsed": false
   },
   "outputs": [
    {
     "name": "stdout",
     "output_type": "stream",
     "text": [
      "Nyquist index 125\n",
      "Number of components from both sides: 10 10\n"
     ]
    },
    {
     "data": {
      "image/png": "[encoded data removed]",
      "text/plain": [
       "<matplotlib.figure.Figure at 0x116417a50>"
      ]
     },
     "metadata": {},
     "output_type": "display_data"
    },
    {
     "data": {
      "image/png": "[encoded data removed]",
      "text/plain": [
       "<matplotlib.figure.Figure at 0x115b9f590>"
      ]
     },
     "metadata": {},
     "output_type": "display_data"
    }
   ],
   "source": [
    "Z = FD(x_arr, y_arr, plot_FD=True, y_lim = 1000)\n",
    "Z_filt = filt_FD(Z, 10)\n",
    "x_rec, y_rec = recover_shape(Z_filt)\n",
    "plot_shape(x_rec, y_rec)\n",
    "\n",
    "# Uh oh, what's going on????\n"
   ]
  },
  {
   "cell_type": "code",
   "execution_count": 21,
   "metadata": {
    "collapsed": false
   },
   "outputs": [
    {
     "ename": "ZeroDivisionError",
     "evalue": "integer division or modulo by zero",
     "output_type": "error",
     "traceback": [
      "\u001b[0;31m---------------------------------------------------------------------------\u001b[0m",
      "\u001b[0;31mZeroDivisionError\u001b[0m                         Traceback (most recent call last)",
      "\u001b[0;32m<ipython-input-21-c88f549a824c>\u001b[0m in \u001b[0;36m<module>\u001b[0;34m()\u001b[0m\n\u001b[1;32m     12\u001b[0m \u001b[0mpts\u001b[0m \u001b[0;34m=\u001b[0m \u001b[0mzip\u001b[0m\u001b[0;34m(\u001b[0m\u001b[0mx_arr\u001b[0m\u001b[0;34m,\u001b[0m \u001b[0my_arr\u001b[0m\u001b[0;34m)\u001b[0m\u001b[0;34m\u001b[0m\u001b[0m\n\u001b[1;32m     13\u001b[0m \u001b[0;31m# compute centroid\u001b[0m\u001b[0;34m\u001b[0m\u001b[0;34m\u001b[0m\u001b[0m\n\u001b[0;32m---> 14\u001b[0;31m \u001b[0mcent\u001b[0m\u001b[0;34m=\u001b[0m\u001b[0;34m(\u001b[0m\u001b[0msum\u001b[0m\u001b[0;34m(\u001b[0m\u001b[0;34m[\u001b[0m\u001b[0mp\u001b[0m\u001b[0;34m[\u001b[0m\u001b[0;36m0\u001b[0m\u001b[0;34m]\u001b[0m \u001b[0;32mfor\u001b[0m \u001b[0mp\u001b[0m \u001b[0;32min\u001b[0m \u001b[0mpts\u001b[0m\u001b[0;34m]\u001b[0m\u001b[0;34m)\u001b[0m\u001b[0;34m/\u001b[0m\u001b[0mlen\u001b[0m\u001b[0;34m(\u001b[0m\u001b[0mpts\u001b[0m\u001b[0;34m)\u001b[0m\u001b[0;34m,\u001b[0m\u001b[0msum\u001b[0m\u001b[0;34m(\u001b[0m\u001b[0;34m[\u001b[0m\u001b[0mp\u001b[0m\u001b[0;34m[\u001b[0m\u001b[0;36m1\u001b[0m\u001b[0;34m]\u001b[0m \u001b[0;32mfor\u001b[0m \u001b[0mp\u001b[0m \u001b[0;32min\u001b[0m \u001b[0mpts\u001b[0m\u001b[0;34m]\u001b[0m\u001b[0;34m)\u001b[0m\u001b[0;34m/\u001b[0m\u001b[0mlen\u001b[0m\u001b[0;34m(\u001b[0m\u001b[0mpts\u001b[0m\u001b[0;34m)\u001b[0m\u001b[0;34m)\u001b[0m\u001b[0;34m\u001b[0m\u001b[0m\n\u001b[0m\u001b[1;32m     15\u001b[0m \u001b[0;31m# sort by polar angle\u001b[0m\u001b[0;34m\u001b[0m\u001b[0;34m\u001b[0m\u001b[0m\n\u001b[1;32m     16\u001b[0m \u001b[0mpts\u001b[0m\u001b[0;34m.\u001b[0m\u001b[0msort\u001b[0m\u001b[0;34m(\u001b[0m\u001b[0mkey\u001b[0m\u001b[0;34m=\u001b[0m\u001b[0;32mlambda\u001b[0m \u001b[0mp\u001b[0m\u001b[0;34m:\u001b[0m \u001b[0mnp\u001b[0m\u001b[0;34m.\u001b[0m\u001b[0marctan2\u001b[0m\u001b[0;34m(\u001b[0m\u001b[0mp\u001b[0m\u001b[0;34m[\u001b[0m\u001b[0;36m1\u001b[0m\u001b[0;34m]\u001b[0m\u001b[0;34m-\u001b[0m\u001b[0mcent\u001b[0m\u001b[0;34m[\u001b[0m\u001b[0;36m1\u001b[0m\u001b[0;34m]\u001b[0m\u001b[0;34m,\u001b[0m\u001b[0mp\u001b[0m\u001b[0;34m[\u001b[0m\u001b[0;36m0\u001b[0m\u001b[0;34m]\u001b[0m\u001b[0;34m-\u001b[0m\u001b[0mcent\u001b[0m\u001b[0;34m[\u001b[0m\u001b[0;36m0\u001b[0m\u001b[0;34m]\u001b[0m\u001b[0;34m)\u001b[0m\u001b[0;34m)\u001b[0m\u001b[0;34m\u001b[0m\u001b[0m\n",
      "\u001b[0;31mZeroDivisionError\u001b[0m: integer division or modulo by zero"
     ]
    }
   ],
   "source": [
    "'''\n",
    "\n",
    "Order the points in polar coordinates so that they are sequential.\n",
    "\n",
    "Note the usage of arctan2() again.\n",
    "\n",
    "'''\n",
    "\n",
    "import numpy as np\n",
    "import matplotlib.patches as patches\n",
    "\n",
    "pts = zip(x_arr, y_arr)\n",
    "# compute centroid\n",
    "cent=(sum([p[0] for p in pts])/len(pts),sum([p[1] for p in pts])/len(pts))\n",
    "# sort by polar angle\n",
    "pts.sort(key=lambda p: np.arctan2(p[1]-cent[1],p[0]-cent[0]))\n",
    "\n",
    "x = np.array([p[0] for p in pts])\n",
    "y = np.array([p[1] for p in pts])\n",
    "\n",
    "# plot points\n",
    "plt.scatter(x, y)\n",
    "plt.show()"
   ]
  },
  {
   "cell_type": "code",
   "execution_count": 14,
   "metadata": {
    "collapsed": false
   },
   "outputs": [
    {
     "ename": "AttributeError",
     "evalue": "'module' object has no attribute 'arrange'",
     "output_type": "error",
     "traceback": [
      "\u001b[0;31m---------------------------------------------------------------------------\u001b[0m",
      "\u001b[0;31mAttributeError\u001b[0m                            Traceback (most recent call last)",
      "\u001b[0;32m<ipython-input-14-c9b64f3c4981>\u001b[0m in \u001b[0;36m<module>\u001b[0;34m()\u001b[0m\n\u001b[1;32m      7\u001b[0m \u001b[0;34m\u001b[0m\u001b[0m\n\u001b[1;32m      8\u001b[0m \u001b[0mZ\u001b[0m \u001b[0;34m=\u001b[0m \u001b[0mFD\u001b[0m\u001b[0;34m(\u001b[0m\u001b[0mx\u001b[0m\u001b[0;34m,\u001b[0m \u001b[0my\u001b[0m\u001b[0;34m,\u001b[0m \u001b[0mplot_FD\u001b[0m\u001b[0;34m=\u001b[0m\u001b[0mTrue\u001b[0m\u001b[0;34m,\u001b[0m \u001b[0my_lim\u001b[0m \u001b[0;34m=\u001b[0m \u001b[0;36m1000\u001b[0m\u001b[0;34m)\u001b[0m\u001b[0;34m\u001b[0m\u001b[0m\n\u001b[0;32m----> 9\u001b[0;31m \u001b[0mZ_filt\u001b[0m \u001b[0;34m=\u001b[0m \u001b[0mfilt_FD\u001b[0m\u001b[0;34m(\u001b[0m\u001b[0mZ\u001b[0m\u001b[0;34m,\u001b[0m \u001b[0;36m5\u001b[0m\u001b[0;34m)\u001b[0m\u001b[0;34m\u001b[0m\u001b[0m\n\u001b[0m\u001b[1;32m     10\u001b[0m \u001b[0mx_rec\u001b[0m\u001b[0;34m,\u001b[0m \u001b[0my_rec\u001b[0m \u001b[0;34m=\u001b[0m \u001b[0mrecover_shape\u001b[0m\u001b[0;34m(\u001b[0m\u001b[0mZ_filt\u001b[0m\u001b[0;34m)\u001b[0m\u001b[0;34m\u001b[0m\u001b[0m\n\u001b[1;32m     11\u001b[0m \u001b[0mplot_shape\u001b[0m\u001b[0;34m(\u001b[0m\u001b[0mx_rec\u001b[0m\u001b[0;34m,\u001b[0m \u001b[0my_rec\u001b[0m\u001b[0;34m)\u001b[0m\u001b[0;34m\u001b[0m\u001b[0m\n",
      "\u001b[0;32m<ipython-input-10-c5e825dfac9b>\u001b[0m in \u001b[0;36mfilt_FD\u001b[0;34m(Z, n_keep, no_zeroth)\u001b[0m\n\u001b[1;32m     24\u001b[0m \u001b[0;32mdef\u001b[0m \u001b[0mfilt_FD\u001b[0m\u001b[0;34m(\u001b[0m\u001b[0mZ\u001b[0m\u001b[0;34m,\u001b[0m \u001b[0mn_keep\u001b[0m\u001b[0;34m,\u001b[0m \u001b[0mno_zeroth\u001b[0m \u001b[0;34m=\u001b[0m \u001b[0mTrue\u001b[0m\u001b[0;34m)\u001b[0m\u001b[0;34m:\u001b[0m\u001b[0;34m\u001b[0m\u001b[0m\n\u001b[1;32m     25\u001b[0m     \u001b[0mN\u001b[0m \u001b[0;34m=\u001b[0m \u001b[0mlen\u001b[0m\u001b[0;34m(\u001b[0m\u001b[0mZ\u001b[0m\u001b[0;34m)\u001b[0m\u001b[0;34m\u001b[0m\u001b[0m\n\u001b[0;32m---> 26\u001b[0;31m     \u001b[0mn\u001b[0m \u001b[0;34m=\u001b[0m \u001b[0mnp\u001b[0m\u001b[0;34m.\u001b[0m\u001b[0marrange\u001b[0m\u001b[0;34m(\u001b[0m\u001b[0mlen\u001b[0m\u001b[0;34m(\u001b[0m\u001b[0mZ\u001b[0m\u001b[0;34m)\u001b[0m\u001b[0;34m)\u001b[0m\u001b[0;34m\u001b[0m\u001b[0m\n\u001b[0m\u001b[1;32m     27\u001b[0m     \u001b[0;32mif\u001b[0m \u001b[0mno_zeroth\u001b[0m\u001b[0;34m:\u001b[0m\u001b[0;34m\u001b[0m\u001b[0m\n\u001b[1;32m     28\u001b[0m         \u001b[0mfilt0\u001b[0m \u001b[0;34m=\u001b[0m \u001b[0mn\u001b[0m \u001b[0;34m>\u001b[0m \u001b[0;36m0\u001b[0m \u001b[0;32mif\u001b[0m \u001b[0mnp_zeroth\u001b[0m \u001b[0;32melse\u001b[0m \u001b[0;36m1\u001b[0m\u001b[0;34m\u001b[0m\u001b[0m\n",
      "\u001b[0;31mAttributeError\u001b[0m: 'module' object has no attribute 'arrange'"
     ]
    },
    {
     "data": {
      "image/png": "[encoded data removed]",
      "text/plain": [
       "<matplotlib.figure.Figure at 0x10366e210>"
      ]
     },
     "metadata": {},
     "output_type": "display_data"
    }
   ],
   "source": [
    "%matplotlib inline\n",
    "\n",
    "'''\n",
    "With points in the right order, all is right.\n",
    "\n",
    "'''\n",
    "\n",
    "Z = FD(x, y, plot_FD=True, y_lim = 1000)\n",
    "Z_filt = filt_FD(Z, 5)\n",
    "x_rec, y_rec = recover_shape(Z_filt)\n",
    "plot_shape(x_rec, y_rec)\n",
    "\n"
   ]
  },
  {
   "cell_type": "markdown",
   "metadata": {},
   "source": [
    "## Use Contour Plots \n",
    "## (The points are always arranged in the right order)"
   ]
  },
  {
   "cell_type": "code",
   "execution_count": 13,
   "metadata": {
    "collapsed": false
   },
   "outputs": [
    {
     "ename": "ImportError",
     "evalue": "cannot import name find_contours",
     "output_type": "error",
     "traceback": [
      "\u001b[0;31m---------------------------------------------------------------------------\u001b[0m",
      "\u001b[0;31mImportError\u001b[0m                               Traceback (most recent call last)",
      "\u001b[0;32m<ipython-input-13-3758cc1a1929>\u001b[0m in \u001b[0;36m<module>\u001b[0;34m()\u001b[0m\n\u001b[1;32m     17\u001b[0m \u001b[0;32mimport\u001b[0m \u001b[0mmatplotlib\u001b[0m\u001b[0;34m.\u001b[0m\u001b[0mimage\u001b[0m \u001b[0;32mas\u001b[0m \u001b[0mmpimg\u001b[0m\u001b[0;34m\u001b[0m\u001b[0m\n\u001b[1;32m     18\u001b[0m \u001b[0;32mimport\u001b[0m \u001b[0mmatplotlib\u001b[0m\u001b[0;34m.\u001b[0m\u001b[0mpyplot\u001b[0m \u001b[0;32mas\u001b[0m \u001b[0mplt\u001b[0m\u001b[0;34m\u001b[0m\u001b[0m\n\u001b[0;32m---> 19\u001b[0;31m \u001b[0;32mfrom\u001b[0m \u001b[0mskimage\u001b[0m \u001b[0;32mimport\u001b[0m \u001b[0mfeature\u001b[0m\u001b[0;34m\u001b[0m\u001b[0m\n\u001b[0m\u001b[1;32m     20\u001b[0m \u001b[0;34m\u001b[0m\u001b[0m\n\u001b[1;32m     21\u001b[0m \u001b[0;34m\u001b[0m\u001b[0m\n",
      "\u001b[0;32m/Users/gaowenyi/Library/Enthought/Canopy_64bit/User/lib/python2.7/site-packages/skimage/feature/__init__.py\u001b[0m in \u001b[0;36m<module>\u001b[0;34m()\u001b[0m\n\u001b[1;32m      4\u001b[0m \u001b[0;32mfrom\u001b[0m \u001b[0;34m.\u001b[0m\u001b[0mtexture\u001b[0m \u001b[0;32mimport\u001b[0m \u001b[0mgreycomatrix\u001b[0m\u001b[0;34m,\u001b[0m \u001b[0mgreycoprops\u001b[0m\u001b[0;34m,\u001b[0m \u001b[0mlocal_binary_pattern\u001b[0m\u001b[0;34m\u001b[0m\u001b[0m\n\u001b[1;32m      5\u001b[0m \u001b[0;32mfrom\u001b[0m \u001b[0;34m.\u001b[0m\u001b[0mpeak\u001b[0m \u001b[0;32mimport\u001b[0m \u001b[0mpeak_local_max\u001b[0m\u001b[0;34m\u001b[0m\u001b[0m\n\u001b[0;32m----> 6\u001b[0;31m from .corner import (corner_kitchen_rosenfeld, corner_harris,\n\u001b[0m\u001b[1;32m      7\u001b[0m                      \u001b[0mcorner_shi_tomasi\u001b[0m\u001b[0;34m,\u001b[0m \u001b[0mcorner_foerstner\u001b[0m\u001b[0;34m,\u001b[0m \u001b[0mcorner_subpix\u001b[0m\u001b[0;34m,\u001b[0m\u001b[0;34m\u001b[0m\u001b[0m\n\u001b[1;32m      8\u001b[0m                      \u001b[0mcorner_peaks\u001b[0m\u001b[0;34m,\u001b[0m \u001b[0mcorner_fast\u001b[0m\u001b[0;34m,\u001b[0m \u001b[0mstructure_tensor\u001b[0m\u001b[0;34m,\u001b[0m\u001b[0;34m\u001b[0m\u001b[0m\n",
      "\u001b[0;32m/Users/gaowenyi/Library/Enthought/Canopy_64bit/User/lib/python2.7/site-packages/skimage/feature/corner.py\u001b[0m in \u001b[0;36m<module>\u001b[0;34m()\u001b[0m\n\u001b[1;32m      8\u001b[0m \u001b[0;32mfrom\u001b[0m \u001b[0;34m.\u001b[0m\u001b[0;34m.\u001b[0m\u001b[0mfeature\u001b[0m\u001b[0;34m.\u001b[0m\u001b[0mcorner_cy\u001b[0m \u001b[0;32mimport\u001b[0m \u001b[0m_corner_fast\u001b[0m\u001b[0;34m\u001b[0m\u001b[0m\n\u001b[1;32m      9\u001b[0m \u001b[0;32mfrom\u001b[0m \u001b[0;34m.\u001b[0m\u001b[0m_hessian_det_appx\u001b[0m \u001b[0;32mimport\u001b[0m \u001b[0m_hessian_matrix_det\u001b[0m\u001b[0;34m\u001b[0m\u001b[0m\n\u001b[0;32m---> 10\u001b[0;31m \u001b[0;32mfrom\u001b[0m \u001b[0;34m.\u001b[0m\u001b[0;34m.\u001b[0m\u001b[0mtransform\u001b[0m \u001b[0;32mimport\u001b[0m \u001b[0mintegral_image\u001b[0m\u001b[0;34m\u001b[0m\u001b[0m\n\u001b[0m\u001b[1;32m     11\u001b[0m \u001b[0;32mfrom\u001b[0m \u001b[0;34m.\u001b[0m\u001b[0;34m.\u001b[0m\u001b[0m_shared\u001b[0m\u001b[0;34m.\u001b[0m\u001b[0mutils\u001b[0m \u001b[0;32mimport\u001b[0m \u001b[0msafe_as_int\u001b[0m\u001b[0;34m\u001b[0m\u001b[0m\n\u001b[1;32m     12\u001b[0m \u001b[0;34m\u001b[0m\u001b[0m\n",
      "\u001b[0;32m/Users/gaowenyi/Library/Enthought/Canopy_64bit/User/lib/python2.7/site-packages/skimage/transform/__init__.py\u001b[0m in \u001b[0;36m<module>\u001b[0;34m()\u001b[0m\n\u001b[1;32m      1\u001b[0m from ._hough_transform import (hough_ellipse, hough_line,\n\u001b[1;32m      2\u001b[0m                                probabilistic_hough_line)\n\u001b[0;32m----> 3\u001b[0;31m \u001b[0;32mfrom\u001b[0m \u001b[0;34m.\u001b[0m\u001b[0mhough_transform\u001b[0m \u001b[0;32mimport\u001b[0m \u001b[0mhough_circle\u001b[0m\u001b[0;34m,\u001b[0m \u001b[0mhough_line_peaks\u001b[0m\u001b[0;34m\u001b[0m\u001b[0m\n\u001b[0m\u001b[1;32m      4\u001b[0m \u001b[0;32mfrom\u001b[0m \u001b[0;34m.\u001b[0m\u001b[0mradon_transform\u001b[0m \u001b[0;32mimport\u001b[0m \u001b[0mradon\u001b[0m\u001b[0;34m,\u001b[0m \u001b[0miradon\u001b[0m\u001b[0;34m,\u001b[0m \u001b[0miradon_sart\u001b[0m\u001b[0;34m\u001b[0m\u001b[0m\n\u001b[1;32m      5\u001b[0m \u001b[0;32mfrom\u001b[0m \u001b[0;34m.\u001b[0m\u001b[0mfinite_radon_transform\u001b[0m \u001b[0;32mimport\u001b[0m \u001b[0mfrt2\u001b[0m\u001b[0;34m,\u001b[0m \u001b[0mifrt2\u001b[0m\u001b[0;34m\u001b[0m\u001b[0m\n",
      "\u001b[0;32m/Users/gaowenyi/Library/Enthought/Canopy_64bit/User/lib/python2.7/site-packages/skimage/transform/hough_transform.py\u001b[0m in \u001b[0;36m<module>\u001b[0;34m()\u001b[0m\n\u001b[1;32m      1\u001b[0m \u001b[0;32mimport\u001b[0m \u001b[0mnumpy\u001b[0m \u001b[0;32mas\u001b[0m \u001b[0mnp\u001b[0m\u001b[0;34m\u001b[0m\u001b[0m\n\u001b[1;32m      2\u001b[0m \u001b[0;32mfrom\u001b[0m \u001b[0mscipy\u001b[0m \u001b[0;32mimport\u001b[0m \u001b[0mndimage\u001b[0m\u001b[0;34m\u001b[0m\u001b[0m\n\u001b[0;32m----> 3\u001b[0;31m \u001b[0;32mfrom\u001b[0m \u001b[0;34m.\u001b[0m\u001b[0;34m.\u001b[0m \u001b[0;32mimport\u001b[0m \u001b[0mmeasure\u001b[0m\u001b[0;34m,\u001b[0m \u001b[0mmorphology\u001b[0m\u001b[0;34m\u001b[0m\u001b[0m\n\u001b[0m\u001b[1;32m      4\u001b[0m \u001b[0;32mfrom\u001b[0m \u001b[0;34m.\u001b[0m\u001b[0m_hough_transform\u001b[0m \u001b[0;32mimport\u001b[0m \u001b[0m_hough_circle\u001b[0m\u001b[0;34m\u001b[0m\u001b[0m\n\u001b[1;32m      5\u001b[0m \u001b[0;34m\u001b[0m\u001b[0m\n",
      "\u001b[0;32m/Users/gaowenyi/Library/Enthought/Canopy_64bit/User/lib/python2.7/site-packages/skimage/measure/__init__.py\u001b[0m in \u001b[0;36m<module>\u001b[0;34m()\u001b[0m\n\u001b[0;32m----> 1\u001b[0;31m \u001b[0;32mfrom\u001b[0m \u001b[0;34m.\u001b[0m\u001b[0m_find_contours\u001b[0m \u001b[0;32mimport\u001b[0m \u001b[0mfind_contours\u001b[0m\u001b[0;34m\u001b[0m\u001b[0m\n\u001b[0m\u001b[1;32m      2\u001b[0m from ._marching_cubes import (marching_cubes, mesh_surface_area,\n\u001b[1;32m      3\u001b[0m                               correct_mesh_orientation)\n\u001b[1;32m      4\u001b[0m \u001b[0;32mfrom\u001b[0m \u001b[0;34m.\u001b[0m\u001b[0m_regionprops\u001b[0m \u001b[0;32mimport\u001b[0m \u001b[0mregionprops\u001b[0m\u001b[0;34m,\u001b[0m \u001b[0mperimeter\u001b[0m\u001b[0;34m\u001b[0m\u001b[0m\n\u001b[1;32m      5\u001b[0m \u001b[0;32mfrom\u001b[0m \u001b[0;34m.\u001b[0m\u001b[0m_structural_similarity\u001b[0m \u001b[0;32mimport\u001b[0m \u001b[0mstructural_similarity\u001b[0m\u001b[0;34m\u001b[0m\u001b[0m\n",
      "\u001b[0;31mImportError\u001b[0m: cannot import name find_contours"
     ]
    }
   ],
   "source": [
    "%matplotlib inline\n",
    "'''\n",
    "\n",
    "\n",
    "To get the order of the points right the first time: Using contours.\n",
    "\n",
    "- Advantage: Get the order right and can deal with concave polygons and polygons with holes \n",
    "  very easily (compared with edge detector)\n",
    "- Disadvantage: Harder to deal with a noisy image (compared with edge detector)\n",
    "- For OCR with hi-def images, no problem -- for more sophisticated OCR techniques, \n",
    "  next semester!\n",
    "\n",
    "\n",
    "'''\n",
    "\n",
    "\n",
    "import matplotlib.image as mpimg\n",
    "import matplotlib.pyplot as plt\n",
    "from skimage import feature\n",
    "\n",
    "\n",
    "\n",
    "\n",
    "plt.figure()\n",
    "plt.imshow(im, cmap=plt.cm.gray)\n",
    "plt.title('The Image')\n",
    "\n",
    "# Note: by convention, in this case, y values comes from the 0th index.\n",
    "# Otherwise one has to transpose the image and the contour will appear sideways \n",
    "# (no an issue here since it's a square).\n",
    "x = np.arange(im.shape[1])\n",
    "y = np.arange(im.shape[0])\n",
    "# make 2D coordinate grid \n",
    "X, Y = np.meshgrid(x, y)\n",
    "\n",
    "# Find and plot contours\n",
    "plt.figure()\n",
    "# Note the peculiarity of needing the transpose operation.\n",
    "plt.title('Contour')\n",
    "CS = plt.contour(X, Y, im, 1)\n",
    "levels = CS.levels\n",
    "print 'contour level', levels\n",
    "\n",
    "# Find the (x, y) coodinates of the contour lines.\n",
    "cs_paths = CS.collections[0].get_paths()\n",
    "\n",
    "print 'number of contour path', len(cs_paths)\n",
    "p = cs_paths[0]\n",
    "v = p.vertices\n",
    "x_arr = v[:,0]\n",
    "y_arr = v[:,1]\n",
    "\n",
    "plt.figure()\n",
    "plt.title(\"Verify the contour points are correct\")\n",
    "plt.scatter(x_arr, y_arr)\n",
    "\n",
    "plt.show()\n"
   ]
  },
  {
   "cell_type": "markdown",
   "metadata": {},
   "source": [
    "## A More Interesting Example: The Letter \"E\""
   ]
  },
  {
   "cell_type": "code",
   "execution_count": 12,
   "metadata": {
    "collapsed": false
   },
   "outputs": [
    {
     "ename": "ImportError",
     "evalue": "cannot import name find_contours",
     "output_type": "error",
     "traceback": [
      "\u001b[0;31m---------------------------------------------------------------------------\u001b[0m",
      "\u001b[0;31mImportError\u001b[0m                               Traceback (most recent call last)",
      "\u001b[0;32m<ipython-input-12-e00abd914b00>\u001b[0m in \u001b[0;36m<module>\u001b[0;34m()\u001b[0m\n\u001b[1;32m     13\u001b[0m \u001b[0;32mimport\u001b[0m \u001b[0mmatplotlib\u001b[0m\u001b[0;34m.\u001b[0m\u001b[0mpyplot\u001b[0m \u001b[0;32mas\u001b[0m \u001b[0mplt\u001b[0m\u001b[0;34m\u001b[0m\u001b[0m\n\u001b[1;32m     14\u001b[0m \u001b[0;32mimport\u001b[0m \u001b[0mnumpy\u001b[0m \u001b[0;32mas\u001b[0m \u001b[0mnp\u001b[0m\u001b[0;34m\u001b[0m\u001b[0m\n\u001b[0;32m---> 15\u001b[0;31m \u001b[0;32mfrom\u001b[0m \u001b[0mskimage\u001b[0m \u001b[0;32mimport\u001b[0m \u001b[0mfeature\u001b[0m\u001b[0;34m\u001b[0m\u001b[0m\n\u001b[0m\u001b[1;32m     16\u001b[0m \u001b[0;34m\u001b[0m\u001b[0m\n\u001b[1;32m     17\u001b[0m \u001b[0;34m\u001b[0m\u001b[0m\n",
      "\u001b[0;32m/Users/gaowenyi/Library/Enthought/Canopy_64bit/User/lib/python2.7/site-packages/skimage/feature/__init__.py\u001b[0m in \u001b[0;36m<module>\u001b[0;34m()\u001b[0m\n\u001b[1;32m      4\u001b[0m \u001b[0;32mfrom\u001b[0m \u001b[0;34m.\u001b[0m\u001b[0mtexture\u001b[0m \u001b[0;32mimport\u001b[0m \u001b[0mgreycomatrix\u001b[0m\u001b[0;34m,\u001b[0m \u001b[0mgreycoprops\u001b[0m\u001b[0;34m,\u001b[0m \u001b[0mlocal_binary_pattern\u001b[0m\u001b[0;34m\u001b[0m\u001b[0m\n\u001b[1;32m      5\u001b[0m \u001b[0;32mfrom\u001b[0m \u001b[0;34m.\u001b[0m\u001b[0mpeak\u001b[0m \u001b[0;32mimport\u001b[0m \u001b[0mpeak_local_max\u001b[0m\u001b[0;34m\u001b[0m\u001b[0m\n\u001b[0;32m----> 6\u001b[0;31m from .corner import (corner_kitchen_rosenfeld, corner_harris,\n\u001b[0m\u001b[1;32m      7\u001b[0m                      \u001b[0mcorner_shi_tomasi\u001b[0m\u001b[0;34m,\u001b[0m \u001b[0mcorner_foerstner\u001b[0m\u001b[0;34m,\u001b[0m \u001b[0mcorner_subpix\u001b[0m\u001b[0;34m,\u001b[0m\u001b[0;34m\u001b[0m\u001b[0m\n\u001b[1;32m      8\u001b[0m                      \u001b[0mcorner_peaks\u001b[0m\u001b[0;34m,\u001b[0m \u001b[0mcorner_fast\u001b[0m\u001b[0;34m,\u001b[0m \u001b[0mstructure_tensor\u001b[0m\u001b[0;34m,\u001b[0m\u001b[0;34m\u001b[0m\u001b[0m\n",
      "\u001b[0;32m/Users/gaowenyi/Library/Enthought/Canopy_64bit/User/lib/python2.7/site-packages/skimage/feature/corner.py\u001b[0m in \u001b[0;36m<module>\u001b[0;34m()\u001b[0m\n\u001b[1;32m      8\u001b[0m \u001b[0;32mfrom\u001b[0m \u001b[0;34m.\u001b[0m\u001b[0;34m.\u001b[0m\u001b[0mfeature\u001b[0m\u001b[0;34m.\u001b[0m\u001b[0mcorner_cy\u001b[0m \u001b[0;32mimport\u001b[0m \u001b[0m_corner_fast\u001b[0m\u001b[0;34m\u001b[0m\u001b[0m\n\u001b[1;32m      9\u001b[0m \u001b[0;32mfrom\u001b[0m \u001b[0;34m.\u001b[0m\u001b[0m_hessian_det_appx\u001b[0m \u001b[0;32mimport\u001b[0m \u001b[0m_hessian_matrix_det\u001b[0m\u001b[0;34m\u001b[0m\u001b[0m\n\u001b[0;32m---> 10\u001b[0;31m \u001b[0;32mfrom\u001b[0m \u001b[0;34m.\u001b[0m\u001b[0;34m.\u001b[0m\u001b[0mtransform\u001b[0m \u001b[0;32mimport\u001b[0m \u001b[0mintegral_image\u001b[0m\u001b[0;34m\u001b[0m\u001b[0m\n\u001b[0m\u001b[1;32m     11\u001b[0m \u001b[0;32mfrom\u001b[0m \u001b[0;34m.\u001b[0m\u001b[0;34m.\u001b[0m\u001b[0m_shared\u001b[0m\u001b[0;34m.\u001b[0m\u001b[0mutils\u001b[0m \u001b[0;32mimport\u001b[0m \u001b[0msafe_as_int\u001b[0m\u001b[0;34m\u001b[0m\u001b[0m\n\u001b[1;32m     12\u001b[0m \u001b[0;34m\u001b[0m\u001b[0m\n",
      "\u001b[0;32m/Users/gaowenyi/Library/Enthought/Canopy_64bit/User/lib/python2.7/site-packages/skimage/transform/__init__.py\u001b[0m in \u001b[0;36m<module>\u001b[0;34m()\u001b[0m\n\u001b[1;32m      1\u001b[0m from ._hough_transform import (hough_ellipse, hough_line,\n\u001b[1;32m      2\u001b[0m                                probabilistic_hough_line)\n\u001b[0;32m----> 3\u001b[0;31m \u001b[0;32mfrom\u001b[0m \u001b[0;34m.\u001b[0m\u001b[0mhough_transform\u001b[0m \u001b[0;32mimport\u001b[0m \u001b[0mhough_circle\u001b[0m\u001b[0;34m,\u001b[0m \u001b[0mhough_line_peaks\u001b[0m\u001b[0;34m\u001b[0m\u001b[0m\n\u001b[0m\u001b[1;32m      4\u001b[0m \u001b[0;32mfrom\u001b[0m \u001b[0;34m.\u001b[0m\u001b[0mradon_transform\u001b[0m \u001b[0;32mimport\u001b[0m \u001b[0mradon\u001b[0m\u001b[0;34m,\u001b[0m \u001b[0miradon\u001b[0m\u001b[0;34m,\u001b[0m \u001b[0miradon_sart\u001b[0m\u001b[0;34m\u001b[0m\u001b[0m\n\u001b[1;32m      5\u001b[0m \u001b[0;32mfrom\u001b[0m \u001b[0;34m.\u001b[0m\u001b[0mfinite_radon_transform\u001b[0m \u001b[0;32mimport\u001b[0m \u001b[0mfrt2\u001b[0m\u001b[0;34m,\u001b[0m \u001b[0mifrt2\u001b[0m\u001b[0;34m\u001b[0m\u001b[0m\n",
      "\u001b[0;32m/Users/gaowenyi/Library/Enthought/Canopy_64bit/User/lib/python2.7/site-packages/skimage/transform/hough_transform.py\u001b[0m in \u001b[0;36m<module>\u001b[0;34m()\u001b[0m\n\u001b[1;32m      1\u001b[0m \u001b[0;32mimport\u001b[0m \u001b[0mnumpy\u001b[0m \u001b[0;32mas\u001b[0m \u001b[0mnp\u001b[0m\u001b[0;34m\u001b[0m\u001b[0m\n\u001b[1;32m      2\u001b[0m \u001b[0;32mfrom\u001b[0m \u001b[0mscipy\u001b[0m \u001b[0;32mimport\u001b[0m \u001b[0mndimage\u001b[0m\u001b[0;34m\u001b[0m\u001b[0m\n\u001b[0;32m----> 3\u001b[0;31m \u001b[0;32mfrom\u001b[0m \u001b[0;34m.\u001b[0m\u001b[0;34m.\u001b[0m \u001b[0;32mimport\u001b[0m \u001b[0mmeasure\u001b[0m\u001b[0;34m,\u001b[0m \u001b[0mmorphology\u001b[0m\u001b[0;34m\u001b[0m\u001b[0m\n\u001b[0m\u001b[1;32m      4\u001b[0m \u001b[0;32mfrom\u001b[0m \u001b[0;34m.\u001b[0m\u001b[0m_hough_transform\u001b[0m \u001b[0;32mimport\u001b[0m \u001b[0m_hough_circle\u001b[0m\u001b[0;34m\u001b[0m\u001b[0m\n\u001b[1;32m      5\u001b[0m \u001b[0;34m\u001b[0m\u001b[0m\n",
      "\u001b[0;32m/Users/gaowenyi/Library/Enthought/Canopy_64bit/User/lib/python2.7/site-packages/skimage/measure/__init__.py\u001b[0m in \u001b[0;36m<module>\u001b[0;34m()\u001b[0m\n\u001b[0;32m----> 1\u001b[0;31m \u001b[0;32mfrom\u001b[0m \u001b[0;34m.\u001b[0m\u001b[0m_find_contours\u001b[0m \u001b[0;32mimport\u001b[0m \u001b[0mfind_contours\u001b[0m\u001b[0;34m\u001b[0m\u001b[0m\n\u001b[0m\u001b[1;32m      2\u001b[0m from ._marching_cubes import (marching_cubes, mesh_surface_area,\n\u001b[1;32m      3\u001b[0m                               correct_mesh_orientation)\n\u001b[1;32m      4\u001b[0m \u001b[0;32mfrom\u001b[0m \u001b[0;34m.\u001b[0m\u001b[0m_regionprops\u001b[0m \u001b[0;32mimport\u001b[0m \u001b[0mregionprops\u001b[0m\u001b[0;34m,\u001b[0m \u001b[0mperimeter\u001b[0m\u001b[0;34m\u001b[0m\u001b[0m\n\u001b[1;32m      5\u001b[0m \u001b[0;32mfrom\u001b[0m \u001b[0;34m.\u001b[0m\u001b[0m_structural_similarity\u001b[0m \u001b[0;32mimport\u001b[0m \u001b[0mstructural_similarity\u001b[0m\u001b[0;34m\u001b[0m\u001b[0m\n",
      "\u001b[0;31mImportError\u001b[0m: cannot import name find_contours"
     ]
    }
   ],
   "source": [
    "%matplotlib inline\n",
    "'''\n",
    "\n",
    "Use the letter \"E\" as the example case.\n",
    "\n",
    "Given an image of a letter, the code below will find it's shape (complext) vector \n",
    "by using contour.\n",
    "\n",
    "\n",
    "'''\n",
    "\n",
    "import matplotlib.image as mpimg\n",
    "import matplotlib.pyplot as plt\n",
    "import numpy as np\n",
    "from skimage import feature\n",
    "\n",
    "\n",
    "im = mpimg.imread('letterE.jpg')\n",
    "\n",
    "# Take only one of RGB channels\n",
    "im = im[:, :, 0]\n",
    "\n",
    "\n",
    "plt.figure()\n",
    "plt.imshow(im, cmap=plt.cm.gray)\n",
    "plt.title('The Image')\n",
    "\n",
    "x = np.arange(im.shape[1])\n",
    "y = np.arange(im.shape[0])\n",
    "# make 2D coordinate grid \n",
    "X, Y = np.meshgrid(x, y)\n",
    "\n",
    "# Find and plot contours\n",
    "plt.figure()\n",
    "# Note the peculiarity of needing the transpose operation.\n",
    "# The contour appear sideways because the transpose.\n",
    "plt.title('Contour')\n",
    "CS = plt.contour(X, Y, im, 1)\n",
    "levels = CS.levels\n",
    "print 'contour level', levels\n",
    "\n",
    "# Find the (x, y) coodinates of the contour lines.\n",
    "cs_paths = CS.collections[0].get_paths()\n",
    "\n",
    "print 'number of contour path', len(cs_paths)\n",
    "p = cs_paths[0]\n",
    "v = p.vertices\n",
    "x = v[:,0]\n",
    "y = v[:,1]\n",
    "\n",
    "plt.figure()\n",
    "plt.title(\"Verify the contour points are correct\")\n",
    "plt.scatter(x, y)\n",
    "\n",
    "plt.show()\n"
   ]
  },
  {
   "cell_type": "code",
   "execution_count": 11,
   "metadata": {
    "collapsed": false
   },
   "outputs": [
    {
     "ename": "AttributeError",
     "evalue": "'module' object has no attribute 'arrange'",
     "output_type": "error",
     "traceback": [
      "\u001b[0;31m---------------------------------------------------------------------------\u001b[0m",
      "\u001b[0;31mAttributeError\u001b[0m                            Traceback (most recent call last)",
      "\u001b[0;32m<ipython-input-11-758cce05db45>\u001b[0m in \u001b[0;36m<module>\u001b[0;34m()\u001b[0m\n\u001b[1;32m      7\u001b[0m \u001b[0;31m# the essence of the shape!\u001b[0m\u001b[0;34m\u001b[0m\u001b[0;34m\u001b[0m\u001b[0m\n\u001b[1;32m      8\u001b[0m \u001b[0morder\u001b[0m \u001b[0;34m=\u001b[0m \u001b[0;36m5\u001b[0m\u001b[0;34m\u001b[0m\u001b[0m\n\u001b[0;32m----> 9\u001b[0;31m \u001b[0mZ_filt\u001b[0m \u001b[0;34m=\u001b[0m \u001b[0mfilt_FD\u001b[0m\u001b[0;34m(\u001b[0m\u001b[0mZ\u001b[0m\u001b[0;34m,\u001b[0m \u001b[0morder\u001b[0m\u001b[0;34m)\u001b[0m\u001b[0;34m\u001b[0m\u001b[0m\n\u001b[0m\u001b[1;32m     10\u001b[0m \u001b[0mx_rec\u001b[0m\u001b[0;34m,\u001b[0m \u001b[0my_rec\u001b[0m \u001b[0;34m=\u001b[0m \u001b[0mrecover_shape\u001b[0m\u001b[0;34m(\u001b[0m\u001b[0mZ_filt\u001b[0m\u001b[0;34m)\u001b[0m\u001b[0;34m\u001b[0m\u001b[0m\n\u001b[1;32m     11\u001b[0m \u001b[0mplot_shape\u001b[0m\u001b[0;34m(\u001b[0m\u001b[0mx_rec\u001b[0m\u001b[0;34m,\u001b[0m \u001b[0my_rec\u001b[0m\u001b[0;34m)\u001b[0m\u001b[0;34m\u001b[0m\u001b[0m\n",
      "\u001b[0;32m<ipython-input-10-c5e825dfac9b>\u001b[0m in \u001b[0;36mfilt_FD\u001b[0;34m(Z, n_keep, no_zeroth)\u001b[0m\n\u001b[1;32m     24\u001b[0m \u001b[0;32mdef\u001b[0m \u001b[0mfilt_FD\u001b[0m\u001b[0;34m(\u001b[0m\u001b[0mZ\u001b[0m\u001b[0;34m,\u001b[0m \u001b[0mn_keep\u001b[0m\u001b[0;34m,\u001b[0m \u001b[0mno_zeroth\u001b[0m \u001b[0;34m=\u001b[0m \u001b[0mTrue\u001b[0m\u001b[0;34m)\u001b[0m\u001b[0;34m:\u001b[0m\u001b[0;34m\u001b[0m\u001b[0m\n\u001b[1;32m     25\u001b[0m     \u001b[0mN\u001b[0m \u001b[0;34m=\u001b[0m \u001b[0mlen\u001b[0m\u001b[0;34m(\u001b[0m\u001b[0mZ\u001b[0m\u001b[0;34m)\u001b[0m\u001b[0;34m\u001b[0m\u001b[0m\n\u001b[0;32m---> 26\u001b[0;31m     \u001b[0mn\u001b[0m \u001b[0;34m=\u001b[0m \u001b[0mnp\u001b[0m\u001b[0;34m.\u001b[0m\u001b[0marrange\u001b[0m\u001b[0;34m(\u001b[0m\u001b[0mlen\u001b[0m\u001b[0;34m(\u001b[0m\u001b[0mZ\u001b[0m\u001b[0;34m)\u001b[0m\u001b[0;34m)\u001b[0m\u001b[0;34m\u001b[0m\u001b[0m\n\u001b[0m\u001b[1;32m     27\u001b[0m     \u001b[0;32mif\u001b[0m \u001b[0mno_zeroth\u001b[0m\u001b[0;34m:\u001b[0m\u001b[0;34m\u001b[0m\u001b[0m\n\u001b[1;32m     28\u001b[0m         \u001b[0mfilt0\u001b[0m \u001b[0;34m=\u001b[0m \u001b[0mn\u001b[0m \u001b[0;34m>\u001b[0m \u001b[0;36m0\u001b[0m \u001b[0;32mif\u001b[0m \u001b[0mnp_zeroth\u001b[0m \u001b[0;32melse\u001b[0m \u001b[0;36m1\u001b[0m\u001b[0;34m\u001b[0m\u001b[0m\n",
      "\u001b[0;31mAttributeError\u001b[0m: 'module' object has no attribute 'arrange'"
     ]
    },
    {
     "data": {
      "image/png": "[encoded data removed]",
      "text/plain": [
       "<matplotlib.figure.Figure at 0x10c0d2990>"
      ]
     },
     "metadata": {},
     "output_type": "display_data"
    }
   ],
   "source": [
    "Z = FD(x, y, plot_FD=True, y_lim = 1000)\n",
    "\n",
    "# Let's see how order = 5 will do, and how about 10?\n",
    "# Note: the Nyquist index is 1258, and yet we've only gone up to n = 10!\n",
    "# Put it another way: there are 1258*2 pairs of (x, y) in the contour, but it turns out\n",
    "# we only need 10*2*2 (remember each FD is a complex number), or 40 numbers to capture \n",
    "# the essence of the shape!\n",
    "order = 5\n",
    "Z_filt = filt_FD(Z, order)\n",
    "x_rec, y_rec = recover_shape(Z_filt)\n",
    "plot_shape(x_rec, y_rec)\n"
   ]
  },
  {
   "cell_type": "markdown",
   "metadata": {},
   "source": [
    "##  Breakout 2: Write a function extract_shape_v0(im_file, blowup = 1.0) \n",
    "\n",
    "### - returns the x and y arrays of the outline (contour) of the shape.\n",
    "\n",
    "### - should check whether the image has a single and mutliple channels.  If the later, take the 0th (usu. R) channels\n",
    "\n",
    "### - should have the ability of blowing up the image by a factor specified by blowup.\n",
    "\n"
   ]
  },
  {
   "cell_type": "code",
   "execution_count": 34,
   "metadata": {
    "collapsed": false
   },
   "outputs": [],
   "source": [
    "'''\n",
    "Breakout2 Solution\n",
    "\n",
    "'''\n",
    "\n",
    "import matplotlib.image as mpimg\n",
    "import matplotlib.pyplot as plt\n",
    "import numpy as np\n",
    "from skimage import feature\n",
    "\n",
    "\n",
    "def extract_shape_v0(im_file, blowup = 1., plot_img = False, plot_contour = False, plot_contour_pts = False):\n",
    "\n",
    "    \n",
    "    im = mpimg.imread(im_file)\n",
    "    # Take one of RGB(A) channels\n",
    "    if len(im.shape) > 2:\n",
    "        im = im[:, :, 0]\n",
    "    \n",
    "    if plot_img:\n",
    "        plt.figure()\n",
    "        plt.title('Original Shape')\n",
    "        plt.imshow(im, cmap = plt.cm.gray)\n",
    "\n",
    "    # Note: by convention, in this case, y values comes from the 0th index.\n",
    "    # Otherwise one has to transpose the image and the contour will appear sideways \n",
    "    x = np.arange(im.shape[1])*blowup  \n",
    "    y = np.arange(im.shape[0])*blowup\n",
    "    \n",
    "    # Have to flip y to get the orientation right, again just a peculiar convention we have to work around\n",
    "    # Note the [::] notation: a[3:20:2] means from the 3rd element to the 20th element, choose every 2nd element.\n",
    "    y = y[::-1]\n",
    "\n",
    "    # In case I want to shift x.\n",
    "    #x_shift = 200\n",
    "    #x += x_shift\n",
    "\n",
    "    X, Y = np.meshgrid(x, y)\n",
    "    \n",
    "    plt.figure()\n",
    "    plt.title('Contours')\n",
    "    # Note the dimensions of x and y may NOT the same, thus the necessity of the \n",
    "    # tranpose operation (an oddity, I admit...)\n",
    "    CS = plt.contour(X, Y, im, 1)\n",
    "    levels = CS.levels\n",
    "    print 'contour level', levels\n",
    "    if not plot_contour:\n",
    "        plt.close()\n",
    "\n",
    "    cs_paths = CS.collections[0].get_paths()\n",
    "\n",
    "    print 'number of contour path', len(cs_paths)\n",
    "\n",
    "    p = cs_paths[0]\n",
    "    v = p.vertices\n",
    "    x_arr = v[:,0]\n",
    "    y_arr = v[:,1]\n",
    "\n",
    "    if plot_contour_pts:\n",
    "        plt.figure()\n",
    "        plt.title(\"Verify the contour points are correct\")\n",
    "        plt.scatter(x_arr, y_arr)\n",
    "\n",
    "    return x_arr, y_arr"
   ]
  },
  {
   "cell_type": "markdown",
   "metadata": {},
   "source": [
    "## The Meaning of the Terms in FD -- Order by Order"
   ]
  },
  {
   "cell_type": "markdown",
   "metadata": {},
   "source": [
    "### The descriptors Z[k] (Fourier Desriptors, or FD's) are components of a shape in frequency space (or more precisely, \"k-space\"): Components with low k provides low frequency information -- an approximation to the shape, and components with higher frequencies provide details.\n",
    "\n",
    "### 1. Translational Invariance.  For k = 0, Z[k] represents the position of the center of gravity of the shape. This term is not interesting for the shape description. Without this term, the description won't be affected by a translation of the shape.  \n",
    "\n",
    "\n",
    "\n",
    "### 2. Size Invariance.  The first frequency component, Z[k] for k = 1 (more precisely, the first and last terms), describes the size of the shape. If all the other components are set to zero, the shape becomes an ellipse (actually, a N-sided polygon).  The product of the first and last terms -- Z[1] and Z[-1] in Python notation -- is related the area of the ellipse (basically area = pi\\*a\\*b -- you can think of the these two terms as being related to the major and minor axes of an ellipse).  One can use this component to normalize the other Fourier descriptors.  This way, two identical shapes, but with different sizes, can recognized as such.  To the first order (literally!):  all enclosed shapes are ellipses with the major and minor axes determined by the aspect ratio and the overall size of the shape)\n",
    "\n",
    "\n",
    "\n",
    "### 3. Convavity.  The seond frequency components, Z[2] and Z[-2], together show which way the shape bends (\"concavity\").\n",
    "\n",
    "\n",
    "\n",
    "### 4. The other frequency components will make higher frequency alterations.  \n",
    "\n",
    "\n",
    "\n",
    "### 5. The phase of Z[k] describes the place where the higher order corrections are applied -- just like in linear FT, the phase in sin/cos will affect where the corrections will be applied.  \n",
    "\n",
    "### 6. Rotational Invariance.  Related to \\#5, multiplying Z[k] by an additional phase factor amounts to rotating the shape.  This means |Z[k]|'s are the same whichever the orientation of the shape may be.\n",
    "\n",
    "\n",
    "(Adapted from http://www.tsi.telecom-paristech.fr/pages/enseignement/ressources/beti/descript_fourier/Part1.htmlf)"
   ]
  },
  {
   "cell_type": "code",
   "execution_count": 38,
   "metadata": {
    "collapsed": false
   },
   "outputs": [
    {
     "name": "stdout",
     "output_type": "stream",
     "text": [
      "contour level [ 150.]\n",
      "number of contour path 1\n",
      "Nyquist index 1258\n",
      "Number of components from both sides: 10 10\n"
     ]
    },
    {
     "data": {
      "image/png": "[encoded data removed]",
      "text/plain": [
       "<matplotlib.figure.Figure at 0x11cc82410>"
      ]
     },
     "metadata": {},
     "output_type": "display_data"
    },
    {
     "data": {
      "image/png": "[encoded data removed]",
      "text/plain": [
       "<matplotlib.figure.Figure at 0x121134890>"
      ]
     },
     "metadata": {},
     "output_type": "display_data"
    }
   ],
   "source": [
    "'''\n",
    "1. Translational Invariance Example\n",
    "'''\n",
    "\n",
    "x, y = extract_shape_v0('letterE.jpg')\n",
    "Z = FD(x, y, plot_FD=True, y_lim = 1000)\n",
    "\n",
    "order = 10\n",
    "# Observe the effects of whether or not we include the zeroth order term.\n",
    "Z_filt = filt_FD(Z, order)\n",
    "# Z_filt = filt_FD(Z, order, no_zeroth=False)\n",
    "x_rec, y_rec = recover_shape(Z_filt)\n",
    "plt.figure()\n",
    "plt.plot(x, y)\n",
    "plt.plot(x_rec, y_rec)\n",
    "plt.show()\n"
   ]
  },
  {
   "cell_type": "code",
   "execution_count": 39,
   "metadata": {
    "collapsed": false
   },
   "outputs": [
    {
     "name": "stdout",
     "output_type": "stream",
     "text": [
      "contour level [ 150.]\n",
      "number of contour path 1\n",
      "Nyquist index 1258\n",
      "Number of components from both sides: 10 10\n"
     ]
    },
    {
     "data": {
      "image/png": "[encoded data removed]",
      "text/plain": [
       "<matplotlib.figure.Figure at 0x121134e10>"
      ]
     },
     "metadata": {},
     "output_type": "display_data"
    },
    {
     "data": {
      "image/png": "[encoded data removed]",
      "text/plain": [
       "<matplotlib.figure.Figure at 0x121dffe90>"
      ]
     },
     "metadata": {},
     "output_type": "display_data"
    }
   ],
   "source": [
    "'''\n",
    "2. Size Invariance\n",
    "\n",
    "- without normalization\n",
    "'''\n",
    "\n",
    "x_L, y_L = extract_shape_v0('letterE.jpg', blowup = 10.)\n",
    "Z = FD(x_L, y_L, plot_FD=True, y_lim = 1000)\n",
    "\n",
    "order = 10\n",
    "Z_filt = filt_FD(Z, order)\n",
    "x_rec, y_rec = recover_shape(Z_filt)\n",
    "plt.figure()\n",
    "plt.plot(x_L, y_L)\n",
    "plt.plot(x_rec, y_rec)\n",
    "plt.show()\n"
   ]
  },
  {
   "cell_type": "code",
   "execution_count": 43,
   "metadata": {
    "collapsed": false
   },
   "outputs": [
    {
     "name": "stdout",
     "output_type": "stream",
     "text": [
      "contour level [ 150.]\n",
      "number of contour path 1\n",
      "Nyquist index 1258\n",
      "Number of components from both sides: 10 10\n",
      "contour level [ 150.]\n",
      "number of contour path 1\n",
      "Nyquist index 1258\n",
      "Number of components from both sides: 10 10\n"
     ]
    },
    {
     "data": {
      "image/png": "[encoded data removed]",
      "text/plain": [
       "<matplotlib.figure.Figure at 0x1265ea8d0>"
      ]
     },
     "metadata": {},
     "output_type": "display_data"
    }
   ],
   "source": [
    "'''\n",
    "2. Size Invariance\n",
    "\n",
    "Comparing two E's with very different sizes: Without and with normalization. \n",
    "'''\n",
    "\n",
    "def size_norm(Z):\n",
    "    return Z/np.sqrt( np.abs(Z[1])*np.abs(Z[-1]) )\n",
    "\n",
    "x_L, y_L = extract_shape_v0('letterE.jpg', blowup = 10.)\n",
    "Z = FD(x_L, y_L)\n",
    "\n",
    "order = 10\n",
    "Z_filt = filt_FD(Z, order)\n",
    "#normalization\n",
    "#Z_filt = size_norm(Z_filt)\n",
    "x_L_rec, y_L_rec = recover_shape(Z_filt)\n",
    "\n",
    "\n",
    "x, y = extract_shape_v0('letterE.jpg', blowup = 1.)\n",
    "Z = FD(x, y)\n",
    "\n",
    "order = 10\n",
    "Z_filt = filt_FD(Z, order)\n",
    "# normalization\n",
    "#Z_filt = size_norm(Z_filt)\n",
    "x_rec, y_rec = recover_shape(Z_filt)\n",
    "\n",
    "\n",
    "plt.figure()\n",
    "plt.plot(x_rec, y_rec, 'g-')   # after normalization, use 'gx' as plot symbol\n",
    "plt.plot(x_L_rec, y_L_rec, 'b-', lw = 2)\n",
    "plt.show()\n"
   ]
  },
  {
   "cell_type": "code",
   "execution_count": 44,
   "metadata": {
    "collapsed": false
   },
   "outputs": [
    {
     "name": "stdout",
     "output_type": "stream",
     "text": [
      "contour level [ 150.]\n",
      "number of contour path 1\n",
      "Nyquist index 1258\n",
      "Number of components from both sides: 1 0\n"
     ]
    },
    {
     "data": {
      "image/png": "[encoded data removed]",
      "text/plain": [
       "<matplotlib.figure.Figure at 0x123cf1e10>"
      ]
     },
     "metadata": {},
     "output_type": "display_data"
    },
    {
     "name": "stdout",
     "output_type": "stream",
     "text": [
      "Nyquist index 1258\n",
      "Number of components from both sides: 2 1\n"
     ]
    },
    {
     "data": {
      "image/png": "[encoded data removed]",
      "text/plain": [
       "<matplotlib.figure.Figure at 0x1063d6910>"
      ]
     },
     "metadata": {},
     "output_type": "display_data"
    },
    {
     "name": "stdout",
     "output_type": "stream",
     "text": [
      "Nyquist index 1258\n",
      "Number of components from both sides: 3 2\n"
     ]
    },
    {
     "data": {
      "image/png": "[encoded data removed]",
      "text/plain": [
       "<matplotlib.figure.Figure at 0x10595cc50>"
      ]
     },
     "metadata": {},
     "output_type": "display_data"
    }
   ],
   "source": [
    "'''\n",
    "3. Concavity (and the beginning of \"order-by-order\")\n",
    "\n",
    "- 0th: Centroid\n",
    "- 1st: Size\n",
    "- 2nd: Convavity.\n",
    "\n",
    "'''\n",
    "\n",
    "x, y = extract_shape_v0('letterE.jpg')\n",
    "Z = FD(x, y)\n",
    "\n",
    "order = 0\n",
    "Z_filt = filt_FD(Z, order, no_zeroth=False)\n",
    "x_rec, y_rec = recover_shape(Z_filt)\n",
    "plt.figure()\n",
    "plt.plot(x, y)\n",
    "plt.plot(x_rec, y_rec, 'gx')\n",
    "plt.show()\n",
    "\n",
    "order = 1\n",
    "Z_filt = filt_FD(Z, order, no_zeroth=False)\n",
    "x_rec, y_rec = recover_shape(Z_filt)\n",
    "plt.figure()\n",
    "plt.plot(x, y)\n",
    "plt.plot(x_rec, y_rec, 'g.')\n",
    "plt.show()\n",
    "\n",
    "order = 2\n",
    "Z_filt = filt_FD(Z, order, no_zeroth=False)\n",
    "x_rec, y_rec = recover_shape(Z_filt)\n",
    "plt.figure()\n",
    "plt.plot(x, y)\n",
    "plt.plot(x_rec, y_rec, 'g.')\n",
    "plt.show()\n",
    "\n",
    "\n",
    "\n"
   ]
  },
  {
   "cell_type": "code",
   "execution_count": 45,
   "metadata": {
    "collapsed": false
   },
   "outputs": [
    {
     "name": "stdout",
     "output_type": "stream",
     "text": [
      "Nyquist index 1258\n",
      "Number of components from both sides: 6 5\n"
     ]
    },
    {
     "data": {
      "image/png": "[encoded data removed]",
      "text/plain": [
       "<matplotlib.figure.Figure at 0x121232fd0>"
      ]
     },
     "metadata": {},
     "output_type": "display_data"
    },
    {
     "name": "stdout",
     "output_type": "stream",
     "text": [
      "Nyquist index 1258\n",
      "Number of components from both sides: 11 10\n"
     ]
    },
    {
     "data": {
      "image/png": "[encoded data removed]",
      "text/plain": [
       "<matplotlib.figure.Figure at 0x1183c6b50>"
      ]
     },
     "metadata": {},
     "output_type": "display_data"
    }
   ],
   "source": [
    "'''\n",
    "4. Higher Order Terms (and the continuation of \"order-by-order\")\n",
    "\n",
    "'''\n",
    "\n",
    "\n",
    "order = 5\n",
    "Z_filt = filt_FD(Z, order, no_zeroth=False)\n",
    "x_rec, y_rec = recover_shape(Z_filt)\n",
    "plt.figure()\n",
    "plt.plot(x, y)\n",
    "plt.plot(x_rec, y_rec, 'g.')\n",
    "plt.show()\n",
    "\n",
    "order = 10\n",
    "Z_filt = filt_FD(Z, order, no_zeroth=False)\n",
    "x_rec, y_rec = recover_shape(Z_filt)\n",
    "plt.figure()\n",
    "plt.plot(x, y)\n",
    "plt.plot(x_rec, y_rec, 'g.')\n",
    "plt.show()\n"
   ]
  },
  {
   "cell_type": "code",
   "execution_count": 46,
   "metadata": {
    "collapsed": false
   },
   "outputs": [
    {
     "name": "stdout",
     "output_type": "stream",
     "text": [
      "contour level [ 150.]\n",
      "number of contour path 1\n",
      "Nyquist index 1258\n",
      "Number of components from both sides: 10 10\n"
     ]
    },
    {
     "data": {
      "image/png": "[encoded data removed]",
      "text/plain": [
       "<matplotlib.figure.Figure at 0x115bd1ad0>"
      ]
     },
     "metadata": {},
     "output_type": "display_data"
    }
   ],
   "source": [
    "'''\n",
    "Rotational Invariance.\n",
    "\n",
    "Multiplying Z[k] by an additional phase factor amounts to rotating the shape. \n",
    "\n",
    "'''\n",
    "\n",
    "\n",
    "x, y = extract_shape_v0('letterE.jpg')\n",
    "# rotate shape in configuration space\n",
    "z = x + 1j*y\n",
    "z *= np.exp(1j*np.pi/3.)\n",
    "\n",
    "x_pr, y_pr = z.real, z.imag\n",
    "\n",
    "Z_pr = FD(x_pr, y_pr)\n",
    "\n",
    "\n",
    "order = 10\n",
    "Z_filt = filt_FD(Z_pr, order)\n",
    "x_rec, y_rec = recover_shape(Z_filt)\n",
    "plt.figure()\n",
    "plt.plot(x_pr, y_pr)\n",
    "plt.plot(x_rec, y_rec, 'gx')\n",
    "plt.show()\n"
   ]
  },
  {
   "cell_type": "code",
   "execution_count": 47,
   "metadata": {
    "collapsed": false
   },
   "outputs": [
    {
     "name": "stdout",
     "output_type": "stream",
     "text": [
      "contour level [ 150.]\n",
      "number of contour path 1\n",
      "Nyquist index 1258\n",
      "Number of components from both sides: 10 10\n",
      "Nyquist index 1258\n",
      "Number of components from both sides: 10 10\n"
     ]
    },
    {
     "data": {
      "image/png": "[encoded data removed]",
      "text/plain": [
       "<matplotlib.figure.Figure at 0x115a0ef90>"
      ]
     },
     "metadata": {},
     "output_type": "display_data"
    },
    {
     "data": {
      "image/png": "[encoded data removed]",
      "text/plain": [
       "<matplotlib.figure.Figure at 0x1183d0050>"
      ]
     },
     "metadata": {},
     "output_type": "display_data"
    }
   ],
   "source": [
    "'''\n",
    "Rotational Invariance.\n",
    "\n",
    "Multiplying Z[k] by an additional phase factor amounts to rotating the shape...\n",
    "the two shapes, though identical, would have different FD's.\n",
    "\n",
    "\n",
    "'''\n",
    "\n",
    "\n",
    "x, y = extract_shape_v0('letterE.jpg')\n",
    "\n",
    "order = 10\n",
    "\n",
    "Z = FD(x, y)\n",
    "Z_filt = filt_FD(Z, order)\n",
    "Z_filt = size_norm(Z_filt)\n",
    "x_rec, y_rec = recover_shape(Z_filt)\n",
    "plt.figure()\n",
    "plt.plot(x_rec, y_rec)\n",
    "\n",
    "\n",
    "# rotate shape in configuration space\n",
    "z = x + 1j*y\n",
    "z *= np.exp(1j*np.pi/3.)\n",
    "x_pr, y_pr = z.real, z.imag\n",
    "Z_pr = FD(x_pr, y_pr)\n",
    "\n",
    "Z_filt_pr = filt_FD(Z_pr, order)\n",
    "Z_filt_pr = size_norm(Z_filt_pr)\n",
    "\n",
    "x_rec, y_rec = recover_shape(Z_filt_pr)\n",
    "plt.plot(x_rec, y_rec)\n",
    "plt.show()\n",
    "\n",
    "# Clearly the FD would be different for the two E's.\n",
    "plt.figure()\n",
    "plt.title(\"10 size-normalized FD's for 2 E's with Different Orientations\")\n",
    "plt.plot(Z_filt.real, Z_filt_pr.real, 'r.')\n",
    "plt.plot(Z_filt.imag, Z_filt_pr.imag, 'yx')\n",
    "plt.show()"
   ]
  },
  {
   "cell_type": "code",
   "execution_count": 48,
   "metadata": {
    "collapsed": false
   },
   "outputs": [
    {
     "name": "stdout",
     "output_type": "stream",
     "text": [
      "contour level [ 150.]\n",
      "number of contour path 1\n",
      "Nyquist index 1258\n",
      "Number of components from both sides: 10 10\n",
      "Nyquist index 1258\n",
      "Number of components from both sides: 10 10\n"
     ]
    },
    {
     "data": {
      "image/png": "[encoded data removed]",
      "text/plain": [
       "<matplotlib.figure.Figure at 0x1183d5150>"
      ]
     },
     "metadata": {},
     "output_type": "display_data"
    },
    {
     "data": {
      "image/png": "[encoded data removed]",
      "text/plain": [
       "<matplotlib.figure.Figure at 0x105996350>"
      ]
     },
     "metadata": {},
     "output_type": "display_data"
    }
   ],
   "source": [
    "'''\n",
    "Rotational Invariance.\n",
    "\n",
    "Multiplying Z[k] by an additional phase factor amounts to rotating the shape...\n",
    "This means |Z[k]|'s are the same whichever the orientation of the shape may be.\n",
    "\n",
    "'''\n",
    "\n",
    "\n",
    "x, y = extract_shape_v0('letterE.jpg')\n",
    "\n",
    "order = 10\n",
    "\n",
    "Z = FD(x, y)\n",
    "Z_filt = filt_FD(Z, order)\n",
    "Z_filt = size_norm(Z_filt)\n",
    "x_rec, y_rec = recover_shape(Z_filt)\n",
    "plt.figure()\n",
    "plt.plot(x_rec, y_rec)\n",
    "\n",
    "\n",
    "# rotate shape in configuration space\n",
    "z = x + 1j*y\n",
    "z *= np.exp(1j*np.pi/3.)\n",
    "x_pr, y_pr = z.real, z.imag\n",
    "Z_pr = FD(x_pr, y_pr)\n",
    "\n",
    "Z_filt_pr = filt_FD(Z_pr, order)\n",
    "Z_filt_pr = size_norm(Z_filt_pr)\n",
    "\n",
    "x_rec, y_rec = recover_shape(Z_filt_pr)\n",
    "plt.plot(x_rec, y_rec)\n",
    "plt.show()\n",
    "\n",
    "# But the |FD| are the same.  We thus have achieved rotational invariance!\n",
    "plt.figure()\n",
    "plt.title(\"10 size-normalized FD's for 2 E's with Different Orientations\")\n",
    "plt.plot(np.abs(Z_filt), np.abs(Z_filt_pr), 'r.')\n",
    "plt.show()"
   ]
  },
  {
   "cell_type": "markdown",
   "metadata": {},
   "source": [
    "## Breakout 3 \n",
    "## Write a function get_FD_abs(x, y, order = 10, norm = True, no_zeroth = True)\n",
    "\n",
    "### - returns fd_mag, x_rec, y_rec"
   ]
  },
  {
   "cell_type": "code",
   "execution_count": 49,
   "metadata": {
    "collapsed": false
   },
   "outputs": [
    {
     "name": "stdout",
     "output_type": "stream",
     "text": [
      "contour level [ 150.]\n",
      "number of contour path 1\n",
      "len(Z) 2517\n",
      "Nyquist index 1258\n",
      "Number of components from both sides: 10 10\n",
      "len(Z_filt) 2517\n"
     ]
    },
    {
     "data": {
      "image/png": "[encoded data removed]",
      "text/plain": [
       "<matplotlib.figure.Figure at 0x102a9b1d0>"
      ]
     },
     "metadata": {},
     "output_type": "display_data"
    },
    {
     "data": {
      "image/png": "[encoded data removed]",
      "text/plain": [
       "<matplotlib.figure.Figure at 0x115b2d250>"
      ]
     },
     "metadata": {},
     "output_type": "display_data"
    }
   ],
   "source": [
    "'''\n",
    "Breakout 3 Solution\n",
    "'''\n",
    "\n",
    "def get_FD_abs(x, y, order = 10, norm = True, no_zeroth = True):\n",
    "    '''Finds the Fourier Descriptors and the recovered x and y for a shape.'''\n",
    "    Z = FD(x, y)\n",
    "    print 'len(Z)', len(Z)\n",
    "\n",
    "    Z_filt = filt_FD(Z, order, no_zeroth=no_zeroth)\n",
    "    if norm:\n",
    "        Z_filt = size_norm(Z_filt)\n",
    "    print 'len(Z_filt)', len(Z_filt)\n",
    "    x_rec, y_rec = recover_shape(Z_filt)\n",
    "\n",
    "    # throw away zero terms\n",
    "    fd_mag = np.abs(Z_filt[Z_filt != 0])\n",
    "#     fd_mag = fd_mag[fd_mag > 0]\n",
    "    \n",
    "    return fd_mag, x_rec, y_rec\n",
    "\n",
    "order = 10\n",
    "no_zeroth = True\n",
    "\n",
    "x, y = extract_shape_v0('letterE.jpg')\n",
    "fd, x_rec, y_rec = get_FD_abs(x, y, order = order, norm = False, no_zeroth = True)\n",
    "\n",
    "plt.figure()\n",
    "plt.plot(x_rec, y_rec, 'b')\n",
    "\n",
    "plt.figure()\n",
    "plt.plot(np.arange(2, 2*order), fd[1:-1], 'bo')\n",
    "    \n",
    "plt.show()"
   ]
  },
  {
   "cell_type": "markdown",
   "metadata": {},
   "source": [
    "## What's All This Good for??\n",
    "## Shape recognition regardless of location, size or orientation!\n",
    "## ...the beginning of computer vision!"
   ]
  },
  {
   "cell_type": "code",
   "execution_count": 50,
   "metadata": {
    "collapsed": false
   },
   "outputs": [
    {
     "name": "stdout",
     "output_type": "stream",
     "text": [
      "contour level [ 150.]\n",
      "number of contour path 1\n",
      "len(Z) 2517\n",
      "Nyquist index 1258\n",
      "Number of components from both sides: 10 10\n",
      "len(Z_filt) 2517\n",
      "contour level [ 150.]\n",
      "number of contour path 1\n",
      "len(Z) 2717\n",
      "Nyquist index 1358\n",
      "Number of components from both sides: 10 10\n",
      "len(Z_filt) 2717\n"
     ]
    },
    {
     "data": {
      "image/png": "[encoded data removed]",
      "text/plain": [
       "<matplotlib.figure.Figure at 0x115b3e450>"
      ]
     },
     "metadata": {},
     "output_type": "display_data"
    },
    {
     "data": {
      "image/png": "[encoded data removed]",
      "text/plain": [
       "<matplotlib.figure.Figure at 0x10598e850>"
      ]
     },
     "metadata": {},
     "output_type": "display_data"
    },
    {
     "data": {
      "image/png": "[encoded data removed]",
      "text/plain": [
       "<matplotlib.figure.Figure at 0x115a181d0>"
      ]
     },
     "metadata": {},
     "output_type": "display_data"
    },
    {
     "name": "stdout",
     "output_type": "stream",
     "text": [
      "20 20\n"
     ]
    }
   ],
   "source": [
    "'''To tell E from G'''\n",
    "\n",
    "order = 10\n",
    "\n",
    "def get_FD_abs(x, y, order = 10):\n",
    "    '''Finds the Fourier Descriptors and the recovered x and y for a shape.'''\n",
    "    Z = FD(x, y)\n",
    "    print 'len(Z)', len(Z)\n",
    "\n",
    "    Z_filt = filt_FD(Z, order)\n",
    "    Z_filt = size_norm(Z_filt)\n",
    "    print 'len(Z_filt)', len(Z_filt)\n",
    "    x_rec, y_rec = recover_shape(Z_filt)\n",
    "\n",
    "    # throw away zero terms\n",
    "    fd_mag = np.abs(Z_filt[Z_filt != 0])\n",
    "    \n",
    "    return fd_mag, x_rec, y_rec\n",
    "\n",
    "x, y = extract_shape_v0('letterE.jpg')\n",
    "fd_E, x_rec_E, y_rec_E = get_FD_abs(x, y, order = order)\n",
    "\n",
    "x, y = extract_shape_v0('letterH.jpg')\n",
    "fd_G, x_rec_G, y_rec_G = get_FD_abs(x, y, order = order)\n",
    "\n",
    "\n",
    "plt.figure()\n",
    "plt.plot(x_rec_E, y_rec_E)\n",
    "plt.figure()\n",
    "plt.plot(x_rec_G, y_rec_G)\n",
    "\n",
    "plt.figure()\n",
    "plt.plot(np.arange(2, 2*order), fd_E[1:-1], 'gx')\n",
    "plt.plot(np.arange(2, 2*order), fd_G[1:-1], 'bo')\n",
    "plt.axis([0, 2*order + 2, -0.5, 3])\n",
    "plt.show()\n",
    "\n",
    "print len(fd_G), len(fd_E)"
   ]
  },
  {
   "cell_type": "markdown",
   "metadata": {},
   "source": [
    "## End of week 12, Lecture 1"
   ]
  },
  {
   "cell_type": "code",
   "execution_count": null,
   "metadata": {
    "collapsed": true
   },
   "outputs": [],
   "source": [
    "'''\n",
    "Toward HW07 Solution\n",
    "'''\n",
    "\n",
    "def get_FD_abs(x, y, order = 10, norm = True, no_zeroth = True):\n",
    "    '''Finds the Fourier Descriptors and the recovered x and y for a shape.'''\n",
    "    Z = FD(x, y)\n",
    "    print 'len(Z)', len(Z)\n",
    "\n",
    "    Z_filt = filt_FD(Z, order, no_zeroth=no_zeroth)\n",
    "    if norm:\n",
    "        Z_filt = size_norm(Z_filt)\n",
    "    print 'len(Z_filt)', len(Z_filt)\n",
    "    x_rec, y_rec = recover_shape(Z_filt)\n",
    "\n",
    "    # throw away zero terms\n",
    "    fd_mag = np.abs(Z_filt[Z_filt != 0])\n",
    "#     fd_mag = fd_mag[fd_mag > 0]\n",
    "    \n",
    "    return fd_mag, x_rec, y_rec\n",
    "\n",
    "order = 10\n",
    "no_zeroth = False\n",
    "\n",
    "x1, y1 = extract_shape('number1.png')\n",
    "fd1 = []\n",
    "x_rec1 = []\n",
    "y_rec1 = []\n",
    "for i in range(len(x1)):\n",
    "    fd, x_rec, y_rec = get_FD_abs(x1[i], y1[i], order = order, norm = False, no_zeroth = no_zeroth)\n",
    "    fd1.append(fd)\n",
    "    x_rec1.append(x_rec)\n",
    "    y_rec1.append(y_rec)\n",
    "\n",
    "\n",
    "x2, y2 = extract_shape('number2.png')\n",
    "fd2 = []\n",
    "x_rec2 = []\n",
    "y_rec2 = []\n",
    "for i in range(len(x2)):\n",
    "    fd, x_rec, y_rec = get_FD_abs(x2[i], y2[i], order = order, norm = False, no_zeroth = no_zeroth)\n",
    "    fd2.append(fd)\n",
    "    x_rec2.append(x_rec)\n",
    "    y_rec2.append(y_rec)\n",
    "\n",
    "    \n",
    "x6, y6 = extract_shape('number6.png')\n",
    "fd6 = []\n",
    "x_rec6 = []\n",
    "y_rec6 = []\n",
    "for i in range(len(x6)):\n",
    "    fd, x_rec, y_rec = get_FD_abs(x6[i], y6[i], order = order, norm = False, no_zeroth = no_zeroth)\n",
    "    fd6.append(fd)\n",
    "    x_rec6.append(x_rec)\n",
    "    y_rec6.append(y_rec)\n",
    "\n",
    "\n",
    "plt.figure()\n",
    "for i in range(len(x1)):\n",
    "    plt.plot(x_rec1[i], y_rec1[i], 'b')\n",
    "for i in range(len(x2)):\n",
    "    plt.plot(x_rec2[i], y_rec2[i], 'g')\n",
    "for i in range(len(x6)):\n",
    "    plt.plot(x_rec6[i], y_rec6[i], 'r')\n",
    "\n",
    "start_idx = 1 if no_zeroth else 2\n",
    "\n",
    "plt.figure()\n",
    "for i in range(len(x1)):\n",
    "    plt.plot(np.arange(2, 2*order), fd1[i][start_idx:-1], 'bo')\n",
    "for i in range(len(x2)):\n",
    "    plt.plot(np.arange(2, 2*order), fd2[i][start_idx:-1], 'gx')\n",
    "for i in range(len(x6)):\n",
    "    plt.plot(np.arange(2, 2*order), fd6[i][start_idx:-1], 'r8')\n",
    "\n",
    "    \n",
    "plt.show()"
   ]
  },
  {
   "cell_type": "code",
   "execution_count": 140,
   "metadata": {
    "collapsed": false
   },
   "outputs": [
    {
     "name": "stdout",
     "output_type": "stream",
     "text": [
      "contour level [ 0.5]\n",
      "contour level [ 0.5]\n",
      "number of contour path 1\n",
      "len(Z) 437\n",
      "Nyquist index 218\n",
      "Number of components from both sides: 11 10\n",
      "len(Z_filt) 437\n",
      "contour level [ 0.5]\n",
      "contour level [ 0.5]\n",
      "number of contour path 1\n",
      "len(Z) 817\n",
      "Nyquist index 408\n",
      "Number of components from both sides: 11 10\n",
      "len(Z_filt) 817\n",
      "contour level [ 0.5]\n",
      "contour level [ 0.5]\n",
      "number of contour path 2\n",
      "len(Z) 709\n",
      "Nyquist index 354\n",
      "Number of components from both sides: 11 10\n",
      "len(Z_filt) 709\n",
      "len(Z) 243\n",
      "Nyquist index 121\n",
      "Number of components from both sides: 11 10\n",
      "len(Z_filt) 243\n"
     ]
    },
    {
     "data": {
      "image/png": "[encoded data removed]",
      "text/plain": [
       "<matplotlib.figure.Figure at 0x1173e3610>"
      ]
     },
     "metadata": {},
     "output_type": "display_data"
    },
    {
     "data": {
      "image/png": "[encoded data removed]",
      "text/plain": [
       "<matplotlib.figure.Figure at 0x11a2b9dd0>"
      ]
     },
     "metadata": {},
     "output_type": "display_data"
    }
   ],
   "source": [
    "'''\n",
    "\n",
    "HW07 Solution\n",
    "\n",
    "'''\n",
    "\n",
    "\n",
    "import matplotlib.image as mpimg\n",
    "import matplotlib.pyplot as plt\n",
    "import numpy as np\n",
    "from skimage import feature\n",
    "\n",
    "def FD(x, y, plot_FD = False, y_lim = None):\n",
    "\n",
    "    N = len(x)\n",
    "    n = np.arange(N)\n",
    "\n",
    "\n",
    "    z = x + y*1j\n",
    "\n",
    "    Z = np.fft.fft(z)\n",
    "\n",
    "    if plot_FD:\n",
    "        plt.figure()\n",
    "        plt.title('FD real and imag')\n",
    "        plt.plot(Z.real, 'b-')\n",
    "        plt.plot(Z.imag, 'g-')\n",
    "        if y_lim != None:\n",
    "            plt.ylim([-y_lim, y_lim])\n",
    "\n",
    "    return Z\n",
    "\n",
    "# Setting up filters\n",
    "\n",
    "def filt_FD(Z, n_keep, no_zeroth = True):\n",
    "    N = len(Z)\n",
    "    n = np.arange(len(Z))\n",
    "    print 'Nyquist index', N/2\n",
    "    # in case I want the centroid position.\n",
    "    filt0 = n > 0 if no_zeroth else 1\n",
    "    filt1 = filt0*(n <= n_keep)\n",
    "    \n",
    "    filt2 = (n > ((N-1) - n_keep))\n",
    "    print 'Number of components from both sides:', filt1.sum(), filt2.sum()\n",
    "    filt = filt1 + filt2\n",
    "    #print Z.real[N/2]\n",
    "    return Z*filt\n",
    "    \n",
    "def recover_shape(Z):\n",
    "    z_rec = np.fft.ifft(Z)\n",
    "\n",
    "    x_rec = z_rec.real\n",
    "    y_rec = z_rec.imag\n",
    "    \n",
    "    return x_rec, y_rec\n",
    "\n",
    "\n",
    "def plot_shape(x, y, plot_style = 'b.'):\n",
    "    fig, ax = plt.subplots()\n",
    "    ax.set_title('Recovered Shape')\n",
    "    try:\n",
    "        xlen = len(x)\n",
    "    except:\n",
    "        ax.plot(x, y, plot_style)\n",
    "    else:\n",
    "        for i in range(xlen):\n",
    "            ax.plot(x[i], y[i], plot_style)\n",
    "\n",
    "\n",
    "def extract_shape(im_file, blowup = 1., plot_img = False, plot_contour = False, plot_contour_pts = False):\n",
    "\n",
    "    im = mpimg.imread(im_file)\n",
    "    # Take one of RGB(A) channels\n",
    "    if len(im.shape) > 2:\n",
    "        im = im[:, :, 0]\n",
    "\n",
    "    # To remove border -- which sometimes annoyingly are valued at 1.\n",
    "    im = im[2:-2, 2:-2]\n",
    "        \n",
    "    if plot_img:\n",
    "        plt.figure()\n",
    "        plt.title('Original Shape')\n",
    "        plt.imshow(im, cmap = plt.cm.gray)\n",
    "\n",
    "    x = np.arange(im.shape[0])\n",
    "    y = np.arange(im.shape[1])\n",
    "\n",
    "    X, Y = np.meshgrid(x, y)\n",
    "\n",
    "    plt.figure()\n",
    "    plt.title('Contours')\n",
    "    # Note the dimensions of x and y may NOT the same, thus the necessity of the \n",
    "    # tranpose operation (an oddity, I admit...)\n",
    "    CS = plt.contour(X, Y, im.T, 1)\n",
    "    levels = CS.levels\n",
    "    print 'contour level', levels\n",
    "    print 'contour level', levels\n",
    "    if not plot_contour:\n",
    "        plt.close()\n",
    "    \n",
    "    cs_paths = CS.collections[0].get_paths()\n",
    "\n",
    "    print 'number of contour path', len(cs_paths)\n",
    "\n",
    "    x_arr = []\n",
    "    y_arr = []\n",
    "    for p in cs_paths:\n",
    "        v = p.vertices\n",
    "        x_arr.append(v[:,0])\n",
    "        y_arr.append(v[:,1])\n",
    "\n",
    "    if plot_contour_pts: \n",
    "        plt.figure()\n",
    "        plt.title(\"Verify the contour points are correct\")\n",
    "        for i in range(len(x_arr)):\n",
    "            plt.scatter(x_arr[i], y_arr[i])\n",
    "\n",
    "    return x_arr, y_arr \n",
    "\n",
    "def get_FD_abs(x, y, order = 10, norm = True, no_zeroth = True):\n",
    "    '''Finds the Fourier Descriptors and the recovered x and y for a shape.'''\n",
    "    fd_mag = []\n",
    "    x_rec = []\n",
    "    y_rec = []\n",
    "    for i in range(len(x)):\n",
    "        Z = FD(x[i], y[i])\n",
    "        print 'len(Z)', len(Z)\n",
    "\n",
    "        Z_filt = filt_FD(Z, order, no_zeroth = no_zeroth)\n",
    "        if norm:\n",
    "            Z_filt = size_norm(Z_filt)\n",
    "        print 'len(Z_filt)', len(Z_filt)\n",
    "        xy_rec = recover_shape(Z_filt)\n",
    "        x_rec.append(xy_rec[0])\n",
    "        y_rec.append(xy_rec[1])\n",
    "        \n",
    "        # throw away zero terms\n",
    "        fd_mag.append( np.abs(Z_filt[Z_filt != 0]) )\n",
    "    \n",
    "    return fd_mag, x_rec, y_rec\n",
    "\n",
    "\n",
    "def size_norm(Z):\n",
    "    return Z/np.sqrt( np.abs(Z[1])*np.abs(Z[-1]) )\n",
    "\n",
    "\n",
    "order = 10\n",
    "no_zeroth = False\n",
    "start_idx = 1 if no_zeroth else 2\n",
    "\n",
    "\n",
    "x1, y1 = extract_shape('number1.png')\n",
    "fd1, x_rec1, y_rec1 = get_FD_abs(x1, y1, order = order, no_zeroth = no_zeroth, norm = False)\n",
    "x2, y2 = extract_shape('number2.png')\n",
    "fd2, x_rec2, y_rec2 = get_FD_abs(x2, y2, order = order, no_zeroth = no_zeroth, norm = False)\n",
    "x6, y6 = extract_shape('number6.png')\n",
    "fd6, x_rec6, y_rec6 = get_FD_abs(x6, y6, order = order, no_zeroth = no_zeroth, norm = False)\n",
    "\n",
    "plt.figure()\n",
    "for i in range(len(x1)):\n",
    "    plt.plot(x_rec1[i], y_rec1[i])\n",
    "for i in range(len(x2)):\n",
    "    plt.plot(x_rec2[i], y_rec2[i])\n",
    "for i in range(len(x6)):\n",
    "    plt.plot(x_rec6[i], y_rec6[i])\n",
    "\n",
    "\n",
    "plt.figure()\n",
    "for i in range(len(x1)):\n",
    "    plt.plot(np.arange(2, 2*order), fd1[i][start_idx:-1], 'bo')\n",
    "for i in range(len(x2)):\n",
    "    plt.plot(np.arange(2, 2*order), fd2[i][start_idx:-1], 'gx')\n",
    "for i in range(len(x6)):\n",
    "    plt.plot(np.arange(2, 2*order), fd6[i][start_idx:-1], 'r8')\n",
    "\n",
    "    \n",
    "plt.show()\n"
   ]
  },
  {
   "cell_type": "code",
   "execution_count": null,
   "metadata": {
    "collapsed": true
   },
   "outputs": [],
   "source": [
    "\n",
    "\n",
    "import matplotlib.image as mpimg\n",
    "import matplotlib.pyplot as plt\n",
    "import numpy as np\n",
    "from skimage import feature\n",
    "\n",
    "def extract_shape(im_file, blowup = 1., plot_img = False, plot_contour = False, plot_contour_pts = False):\n",
    "\n",
    "    im = mpimg.imread(im_file)\n",
    "    # Take one of RGB(A) channels\n",
    "    if len(im.shape) > 2:\n",
    "        im = im[:, :, 0]\n",
    "\n",
    "    # To remove border -- which sometimes annoyingly are valued at 1.\n",
    "    im = im[2:-2, 2:-2]\n",
    "        \n",
    "    if plot_img:\n",
    "        plt.figure()\n",
    "        plt.title('Original Shape')\n",
    "        plt.imshow(im, cmap = plt.cm.gray)\n",
    "\n",
    "    x = np.arange(im.shape[0])\n",
    "    y = np.arange(im.shape[1])\n",
    "\n",
    "    X, Y = np.meshgrid(x, y)\n",
    "\n",
    "    plt.figure()\n",
    "    plt.title('Contours')\n",
    "    # Note the dimensions of x and y may NOT the same, thus the necessity of the \n",
    "    # tranpose operation (an oddity, I admit...)\n",
    "    CS = plt.contour(X, Y, im.T, 1)\n",
    "    levels = CS.levels\n",
    "    print 'contour level', levels\n",
    "    print 'contour level', levels\n",
    "    if not plot_contour:\n",
    "        plt.close()\n",
    "    \n",
    "    cs_paths = CS.collections[0].get_paths()\n",
    "\n",
    "    print 'number of contour path', len(cs_paths)\n",
    "\n",
    "    x_arr = []\n",
    "    y_arr = []\n",
    "    for p in cs_paths:\n",
    "        v = p.vertices\n",
    "        x_arr.append(v[:,0])\n",
    "        y_arr.append(v[:,1])\n",
    "\n",
    "    if plot_contour_pts: \n",
    "        plt.figure()\n",
    "        plt.title(\"Verify the contour points are correct\")\n",
    "        for i in range(len(x_arr)):\n",
    "            plt.scatter(x_arr[i], y_arr[i])\n",
    "\n",
    "    return x_arr, y_arr "
   ]
  },
  {
   "cell_type": "markdown",
   "metadata": {},
   "source": [
    "## The magnitudes of the 2nd and higher components provide a desription of a shape that is independent of its center, size and orientation -- that is, the essense of \"a shape\"!\n",
    "\n",
    "\n",
    "## Plot mag of FD components against FD order, then do leastsq() fit to determine which one is the best fit in the validation set.\n",
    "\n",
    "\n",
    "## How to deal with B and 8 (and 6 and 9) keep the ratio of the CM??\n",
    "\n",
    "\n",
    "### It may be possible that if one keeps too few FD components and only keep the magnitudes, two distinct shapes may have identical components (the trivial example would be there will be a very high level of degeneracy if one only keeps the 0th and 1st order components).  But this is highly unlikely if one keeps 10, 20 terms.  Are there mathematical theorems??\n",
    "\n",
    "\n",
    "\n"
   ]
  },
  {
   "cell_type": "markdown",
   "metadata": {},
   "source": [
    "## What Is All This Good For??"
   ]
  },
  {
   "cell_type": "code",
   "execution_count": null,
   "metadata": {
    "collapsed": false
   },
   "outputs": [],
   "source": [
    "%matplotlib inline\n",
    "\n",
    "Z = FD(x_arr, y_arr, plot_FD=True, y_lim = 1000)\n",
    "Z_filt = filt_FD(Z, 10)\n",
    "x_rec, y_rec = recover_shape(Z_filt)\n",
    "\n",
    "plot_shape(x_rec, y_rec)\n"
   ]
  },
  {
   "cell_type": "code",
   "execution_count": null,
   "metadata": {
    "collapsed": false
   },
   "outputs": [],
   "source": [
    "%matplotlib inline\n",
    "'''\n",
    "\n",
    "\n",
    "To get the order of the points right the first time: Using contours.\n",
    "\n",
    "- Advantage: Get the order right and can deal with concave polygons and polygons with holes very easily \n",
    "  (compared with edge detector)\n",
    "- Disadvantage: Harder to deal with a noisy image (compared with edge detector)\n",
    "- For OCR with hi-def images, no problem -- for more sophisticated OCR techniques, next semester!\n",
    "\n",
    "\n",
    "'''\n",
    "\n",
    "\n",
    "import matplotlib.image as mpimg\n",
    "import matplotlib.pyplot as plt\n",
    "from skimage import feature\n",
    "\n",
    "\n",
    "\n",
    "im = mpimg.imread('letterA.jpg')\n",
    "print im.shape\n",
    "im = im[:, :, 0]\n",
    "\n",
    "# idx_nonzero = im > 0\n",
    "# im[idx_nonzero] = 100.\n",
    "print im.max(), im.min()\n",
    "\n",
    "plt.figure()\n",
    "plt.plot(im)\n",
    "\n",
    "x = np.arange(im.shape[0])\n",
    "y = np.arange(im.shape[1])\n",
    "\n",
    "X, Y = np.meshgrid(x, y)\n",
    "\n",
    "\n",
    "\n",
    "plt.figure()\n",
    "CS = plt.contour(X, Y, im, 1)\n",
    "levels = CS.levels\n",
    "print 'contour level', levels\n",
    "#plt.clabel(CS, inline=1, fontsize=10)\n",
    "plt.title('Simplest default with labels')\n",
    "\n",
    "cs_paths = CS.collections[0].get_paths()\n",
    "\n",
    "print 'number of contour path', len(cs_paths)\n",
    "\n",
    "p0 = cs_paths[0]\n",
    "p1 = cs_paths[1]\n",
    "\n",
    "print 'len(CS.collections)', len(CS.collections)\n",
    "v0 = p0.vertices\n",
    "x_arr0 = v0[:,0]\n",
    "y_arr0 = v0[:,1]\n",
    "\n",
    "v1 = p1.vertices\n",
    "x_arr1 = v1[:,0]\n",
    "y_arr1 = v1[:,1]\n",
    "\n",
    "print len(x_arr0), len(x_arr1)\n",
    "\n",
    "# Compute the Canny filter for two values of sigma\n",
    "#edges1 = feature.canny(im)\n",
    "# #edges2 = feature.canny(im, sigma=3)\n",
    "\n",
    "# # display results\n",
    "# # fig, (ax1, ax2, ax3) = plt.subplots(nrows=1, ncols=3, figsize=(8, 3), sharex=True, sharey=True)\n",
    "plt.figure()\n",
    "plt.imshow(im, cmap=plt.cm.jet)\n",
    "# # ax1.axis('off')\n",
    "# # ax1.set_title('noisy image', fontsize=20)\n",
    "\n",
    "#plt.imshow(edges1, cmap=plt.cm.gray)\n",
    "# # ax2.axis('off')\n",
    "# # ax2.set_title('Canny filter, $\\sigma=1$', fontsize=20)\n",
    "\n",
    "plt.show()\n",
    "\n",
    "plt.figure()\n",
    "\n",
    "x_arr = np.concatenate( (x_arr0, x_arr1) )\n",
    "y_arr = np.concatenate( (y_arr0, y_arr1) )\n",
    "\n",
    "plt.scatter(x_arr, y_arr)"
   ]
  },
  {
   "cell_type": "code",
   "execution_count": null,
   "metadata": {
    "collapsed": false
   },
   "outputs": [],
   "source": [
    "from matplotlib import _cntr as cntr\n",
    "\n",
    "\n",
    "c = cntr.Cntr(X, Y, im)\n",
    "\n",
    "res = c.trace(150)\n",
    "\n",
    "# result is a list of arrays of vertices and path codes\n",
    "# (see docs for matplotlib.path.Path)\n",
    "nseg = len(res) // 2\n",
    "segments, codes = res[:nseg], res[nseg:]\n",
    "\n",
    "print len(segments), type(segments)\n",
    "print segments[1].shape\n",
    "plt.plot(segments[1][:, 0], segments[1][:, 1])"
   ]
  },
  {
   "cell_type": "code",
   "execution_count": null,
   "metadata": {
    "collapsed": false
   },
   "outputs": [],
   "source": [
    "%matplotlib inline\n",
    "\n",
    "\n",
    "Z0 = FD(x_arr0, y_arr0, plot_FD=True, y_lim = 1000)\n",
    "Z1 = FD(x_arr1, y_arr1, plot_FD=True, y_lim = 1000)\n",
    "\n",
    "Z0_filt = filt_FD(Z0, 10)\n",
    "Z1_filt = filt_FD(Z1, 10)\n",
    "\n",
    "x_rec0, y_rec0 = recover_shape(Z0_filt)\n",
    "x_rec1, y_rec1 = recover_shape(Z1_filt)\n",
    "\n",
    "x_rec = np.concatenate( (x_rec0, x_rec1) )\n",
    "y_rec = np.concatenate( (y_rec0, y_rec1) )\n",
    "\n",
    "plot_shape(x_rec, y_rec)\n"
   ]
  },
  {
   "cell_type": "code",
   "execution_count": null,
   "metadata": {
    "collapsed": false
   },
   "outputs": [],
   "source": [
    "%matplotlib inline\n",
    "'''\n",
    "Note that to get the recovered B right, we have to include the 0th term, because it \n",
    "is the position of the centoid.\n",
    "\n",
    "Wtih A, even with P, we can get away with not using the centroid.\n",
    "\n",
    "'''\n",
    "#x_arr, y_arr = extract_shape('Concealed-Mount-Number-1.jpg')\n",
    "x_arr, y_arr = extract_shape('number3_thin.png')\n",
    "\n",
    "# import pdb; pdb.set_trace()\n",
    "# print 'x_arr[0]', x_arr[0]\n",
    "# print 'y_arr[0]', y_arr[0]\n",
    "\n",
    "\n",
    "x_rec = []\n",
    "y_rec = []\n",
    "Z_sq = []\n",
    "\n",
    "order = 1\n",
    "\n",
    "for i in range(len(x_arr)):\n",
    "    Z = FD(x_arr[i], y_arr[i], plot_FD=True, y_lim = 1000)\n",
    "    Z_filt = filt_FD(Z, order, no_zeroth=False)\n",
    "    \n",
    "    x, y = recover_shape(Z_filt)\n",
    "    x_rec.append(x)\n",
    "    y_rec.append(y)\n",
    "    idx = Z_filt != 0\n",
    "    plt.figure()\n",
    "    plt.plot(Z_filt[idx].real)\n",
    "    plt.plot(Z_filt[idx].imag)\n",
    "    plt.title('Z real & imaginary')\n",
    "    \n",
    "    Z_sq.append(np.abs(Z_filt[idx])**2)\n",
    "\n",
    "    \n",
    "    \n",
    "plot_shape(x_rec, y_rec)\n",
    "\n",
    "print 'len(Z_sq[0])', len(Z_sq[0])\n",
    "area = np.sqrt(Z_sq[0][0]*Z_sq[0][-1])\n",
    "\n",
    "print 'Area of Ellipse: {:g}'.format( area )\n",
    "\n",
    "plt.figure()\n",
    "plt.scatter(np.arange(0, order*2 + 1), Z_sq[0])\n",
    "plt.title('Z_sq')\n",
    "\n",
    "print 'major axis (approx):', x_rec[0].max() - x_rec[0].min()\n",
    "print 'minor axis (approx):', y_rec[0].max() - y_rec[0].min()\n",
    "\n",
    "\n",
    "plt.figure()\n",
    "plt.plot(x_arr[0], y_arr[0])\n",
    "plt.plot(x_rec[0], y_rec[0])\n",
    "plt.title('hull?')\n",
    "#plt.ylim([0, 1e7])\n",
    "plt.show()"
   ]
  },
  {
   "cell_type": "code",
   "execution_count": null,
   "metadata": {
    "collapsed": false
   },
   "outputs": [],
   "source": [
    "Z_sq_thin = Z_sq\n",
    "area_thin = area\n",
    "\n",
    "order = 10\n",
    "plt.figure()\n",
    "plt.scatter(np.arange(1, order*2 + 1), Z_sq_thin[0], marker = 'x', color ='b')\n",
    "\n",
    "plt.title('Z_sq')\n",
    "#plt.ylim([0, 3e8])\n",
    "plt.show()"
   ]
  },
  {
   "cell_type": "code",
   "execution_count": null,
   "metadata": {
    "collapsed": false
   },
   "outputs": [],
   "source": [
    "# Z_sq_small = Z_sq\n",
    "# area_small = area\n",
    "\n",
    "\n",
    "plt.figure()\n",
    "plt.scatter(np.arange(1, order*2 + 1), Z_sq_small[0], marker = 'x', color ='b')\n",
    "\n",
    "plt.title('Z_sq_large & small')\n",
    "#plt.ylim([0, 3e8])\n",
    "plt.show()"
   ]
  },
  {
   "cell_type": "code",
   "execution_count": null,
   "metadata": {
    "collapsed": false
   },
   "outputs": [],
   "source": [
    "# Z_sq_large = Z_sq\n",
    "# area_large = area\n",
    "\n",
    "print Z_sq_thin[0][1:-1]\n",
    "print np.arange(1, order*2+1)\n",
    "\n",
    "print 'area_thin, area_fat: {:g}, {:g}'.format(area_thin, area_fat)\n",
    "\n",
    "order = 10\n",
    "plt.figure(figsize = (15, 10))\n",
    "plt.scatter(np.arange(1, order*2+1), Z_sq_thin[0]/area_fat, marker = '^', color = 'r')\n",
    "plt.scatter(np.arange(1, order*2+1), Z_sq_fat[0]/area_thin, marker = 'x', color = 'g')\n",
    "\n",
    "\n",
    "plt.title('Z_sq_thin & fat')\n",
    "#plt.ylim([0, 3e8])\n",
    "plt.show()"
   ]
  },
  {
   "cell_type": "code",
   "execution_count": null,
   "metadata": {
    "collapsed": false
   },
   "outputs": [],
   "source": [
    "# Z_sq_large = Z_sq\n",
    "# area_large = area\n",
    "\n",
    "order = 2\n",
    "\n",
    "plt.figure(figsize = (15, 10))\n",
    "plt.scatter(np.arange(1, order*2+1), Z_sq_large[0]/area_large, marker = '^', color = 'r')\n",
    "#plt.scatter(np.arange(1, order*2 + 1), Z_sq_small[0]/area_small, marker = 'v', color = 'b')\n",
    "plt.scatter(np.arange(1, order*2+1), Z_sq_other[0]/area_other, marker = 'o', color = 'k')\n",
    "plt.scatter(np.arange(1, order*2+1), Z_sq_2[0]/area_2, marker = 'x', color = 'g')\n",
    "# plt.scatter(np.arange(2, order*2), Z_sq_3[0][1:-1]/area_3, marker = 'x', color = 'g')\n",
    "\n",
    "\n",
    "plt.title('Z_sq_large & small')\n",
    "#plt.ylim([0, 3e8])\n",
    "plt.show()"
   ]
  },
  {
   "cell_type": "code",
   "execution_count": null,
   "metadata": {
    "collapsed": false
   },
   "outputs": [],
   "source": [
    "# Z_sq_large = Z_sq\n",
    "# area_large = area\n",
    "order = 20\n",
    "\n",
    "print len(Z_sq_large[0][2:-2])\n",
    "print len(np.arange(3, order*2-1))\n",
    "\n",
    "plt.figure(figsize = (15, 10))\n",
    "plt.scatter(np.arange(3, order*2-1), Z_sq_large[0][2:-2]/area_large, marker = '^', color = 'r')\n",
    "#plt.scatter(np.arange(1, order*2 + 1), Z_sq_small[0]/area_small, marker = 'v', color = 'b')\n",
    "plt.scatter(np.arange(3, order*2-1), Z_sq_other[0][2:-2]/area_other, marker = 'o', color = 'k')\n",
    "# plt.scatter(np.arange(3, order*2-1), Z_sq_2[0][2:-2]/area_2, marker = 'x', color = 'g')\n",
    "plt.scatter(np.arange(3, order*2-1), Z_sq_3[0][2:-2]/area_3, marker = 'x', color = 'g')\n",
    "\n",
    "\n",
    "plt.title('Z_sq_large & small')\n",
    "#plt.ylim([0, 3e8])\n",
    "plt.show()"
   ]
  },
  {
   "cell_type": "code",
   "execution_count": null,
   "metadata": {
    "collapsed": false
   },
   "outputs": [],
   "source": [
    "\n",
    "%matplotlib inline\n",
    "'''Converting edge image to arrays'''\n",
    "\n",
    "\n",
    "import numpy as np\n",
    "import matplotlib.pyplot as plt\n",
    "x_arr = []\n",
    "y_arr = []\n",
    "\n",
    "for i in range(edges1.shape[0]):\n",
    "    for j in range(edges1.shape[1]):\n",
    "        if edges1[i, j] > 0:\n",
    "            x_arr.append(i)\n",
    "            y_arr.append(j)\n",
    "\n",
    "x_arr = np.array(x_arr)\n",
    "y_arr = np.array(y_arr)\n",
    "plt.plot(x_arr, y_arr, 'k.')\n",
    "\n",
    "plt.show()\n",
    "\n",
    "print len(x_arr)\n",
    "#print zip(x_arr, y_arr)"
   ]
  },
  {
   "cell_type": "code",
   "execution_count": null,
   "metadata": {
    "collapsed": true
   },
   "outputs": [],
   "source": []
  },
  {
   "cell_type": "code",
   "execution_count": null,
   "metadata": {
    "collapsed": false
   },
   "outputs": [],
   "source": [
    "import math\n",
    "import matplotlib.patches as patches\n",
    "# import pylab\n",
    "pp = zip(x_arr, y_arr)\n",
    "#pp=[(-0.500000050000005, -0.5), (-0.499999950000005, 0.5), (-0.500000100000005, -1.0), (-0.49999990000000505, 1.0), (0.500000050000005, -0.5), (-1.0000000250000025, -0.5), (1.0000000250000025, -0.5), (0.499999950000005, 0.5), (-0.9999999750000024, 0.5), (0.9999999750000024, 0.5), (0.500000100000005, -1.0), (0.49999990000000505, 1.0), (-1.0, 0.0), (-0.0, -1.0), (0.0, 1.0), (1.0, 0.0), (-0.500000050000005, -0.5)]\n",
    "# compute centroid\n",
    "cent=(sum([p[0] for p in pp])/len(pp),sum([p[1] for p in pp])/len(pp))\n",
    "# sort by polar angle\n",
    "pp.sort(key=lambda p: math.atan2(p[1]-cent[1],p[0]-cent[0]))\n",
    "# plot points\n",
    "plt.scatter([p[0] for p in pp],[p[1] for p in pp])\n",
    "# plot polyline\n",
    "plt.gca().add_patch(patches.Polygon(pp,closed=False,fill=False))\n",
    "plt.grid()\n",
    "plt.show()"
   ]
  },
  {
   "cell_type": "markdown",
   "metadata": {},
   "source": [
    "## HW07: \n",
    "## - Find FD for all English letters\n",
    "## - Given a fuzzy image of Enlish letters, use Canny filter to find edges\n",
    "## - Use FD to recognize it and then print out the letters. "
   ]
  },
  {
   "cell_type": "markdown",
   "metadata": {},
   "source": [
    "# Additional Material"
   ]
  },
  {
   "cell_type": "code",
   "execution_count": null,
   "metadata": {
    "collapsed": true
   },
   "outputs": [],
   "source": []
  },
  {
   "cell_type": "code",
   "execution_count": null,
   "metadata": {
    "collapsed": false
   },
   "outputs": [],
   "source": [
    "'''\n",
    "Note: *zipped_list unpacks the zipped_list object. it then passes all the \n",
    "tuples from the zipped_list object to zip, which just packs them back up \n",
    "as they were when you passed them in.\n",
    "\n",
    "''' \n",
    "# Note: pts is taken from the edge detector example aobve.\n",
    "x_arr, y_arr = zip(*pts)\n",
    "x_arr, y_arr = np.array(x_arr), np.array(y_arr)\n"
   ]
  },
  {
   "cell_type": "code",
   "execution_count": null,
   "metadata": {
    "collapsed": false
   },
   "outputs": [],
   "source": [
    "'''get music segment'''\n",
    "\n",
    "def get_music(music_file, start_time, end_time):\n",
    "    \n",
    "    \n",
    "    import matplotlib.pyplot as plt\n",
    "    import numpy as np\n",
    "    import matplotlib.pyplot as plt\n",
    "    from scipy.io.wavfile import read, write\n",
    "    import os\n",
    "    sample_rate, barry_white = read(music_file)\n",
    "\n",
    "    # It has two columns: stereosound!\n",
    "    print 'Shape of sound data:', barry_white.shape\n",
    "\n",
    "    duration = end_time - start_time\n",
    "    time_pts = np.linspace(0, duration, duration*sample_rate)\n",
    "    shortBW = barry_white[start_time*sample_rate: end_time*sample_rate, :]\n",
    "\n",
    "\n",
    "    # just one channel\n",
    "    shortBW = shortBW[:, 0]\n",
    "    return sample_rate, time_pts, shortBW\n"
   ]
  },
  {
   "cell_type": "code",
   "execution_count": null,
   "metadata": {
    "collapsed": false
   },
   "outputs": [],
   "source": [
    "%matplotlib inline\n",
    "start_time = 1\n",
    "end_time = 5\n",
    "\n",
    "\n",
    "sample_rate, time_pts, shortBW = get_music(\"BarryWhite.wav\", start_time, end_time)\n",
    "\n",
    "playsound(shortBW, vol = 0.5)\n",
    "\n",
    "plotsound(time_pts, shortBW, s_lim = 3000)\n"
   ]
  },
  {
   "cell_type": "code",
   "execution_count": null,
   "metadata": {
    "collapsed": false
   },
   "outputs": [],
   "source": [
    "%matplotlib inline\n",
    "import matplotlib.pyplot as plt\n",
    "from pdb import set_trace\n",
    "# can we get Barry White back?\n",
    "\n",
    "# Here there are indeed real and imaginary parts for the FT.\n",
    "ft, freq = plot_fourier(sample_rate, shortBW, freq_lim = 5000.)\n",
    "BW_rec = signal_rec(ft, filt = None)\n",
    "playsound(BW_rec, vol = 0.5)\n",
    "\n",
    "fig = plt.figure(figsize = (10, 8))\n",
    "# Note here I'm passing fig as an argument -- so that the original array and the recovered array can be \n",
    "# plotted on the smae figure.\n",
    "plotsound(time_pts, shortBW, fig = fig, s_lim = 3000, plot_style = 'b-')\n",
    "plotsound(time_pts, BW_rec, fig = fig, s_lim = 3000, plot_style = 'gx')\n",
    "plt.show()"
   ]
  },
  {
   "cell_type": "code",
   "execution_count": null,
   "metadata": {
    "collapsed": false
   },
   "outputs": [],
   "source": [
    "'''Low-pass filter'''\n",
    "\n",
    "\n",
    "import matplotlib.pyplot as plt\n",
    "import numpy as np\n",
    "\n",
    "filt = np.abs(freq) < 1000.\n",
    "BW_base = signal_rec(ft, filt = filt)\n",
    "BW_base = BW_base*float(shortBW.max())/BW_base.max()\n",
    "playsound(shortBW, vol = 1.)\n",
    "playsound(BW_base, vol = 1.)\n",
    "\n",
    "fig = plt.figure(figsize = (10, 8))\n",
    "plotsound(time_pts, shortBW, fig = fig, s_lim = 3000, plot_style = 'b-')\n",
    "plotsound(time_pts, BW_base, fig = fig, s_lim = 3000, plot_style = 'g-')\n",
    "plt.show()"
   ]
  },
  {
   "cell_type": "code",
   "execution_count": null,
   "metadata": {
    "collapsed": false
   },
   "outputs": [],
   "source": [
    "'''High-pass filter'''\n",
    "\n",
    "\n",
    "filt = np.abs(freq) > 1000.\n",
    "BW_hi_pitch = signal_rec(ft, filt = filt)\n",
    "BW_hi_pitch = BW_hi_pitch*float(shortBW.max())/BW_hi_pitch.max()\n",
    "\n",
    "playsound(shortBW, vol = 1.)\n",
    "playsound(BW_hi_pitch, vol = 1.)\n",
    "fig = plt.figure(figsize = (10, 8))\n",
    "plotsound(time_pts, shortBW, fig = fig, s_lim = 3000, plot_style = 'b-')\n",
    "plotsound(time_pts, BW_hi_pitch, fig = fig, s_lim = 3000, plot_style = 'g-')\n",
    "plt.show()"
   ]
  },
  {
   "cell_type": "code",
   "execution_count": null,
   "metadata": {
    "collapsed": false
   },
   "outputs": [],
   "source": [
    "# More base!\n",
    "BW_base *= 4/np.sqrt(17.)\n",
    "BW_hi_pitch *= 1/np.sqrt(17.)\n",
    "Ultra_BW = BW_base + BW_hi_pitch\n",
    "\n",
    "playsound(shortBW, vol = 1.)\n",
    "playsound(Ultra_BW, vol = 1.)"
   ]
  },
  {
   "cell_type": "markdown",
   "metadata": {},
   "source": [
    "## Parseval's Theorem"
   ]
  },
  {
   "cell_type": "code",
   "execution_count": null,
   "metadata": {
    "collapsed": false
   },
   "outputs": [],
   "source": [
    "%matplotlib inline\n",
    "'''\n",
    "\n",
    "Parseval's Theorem and Conservation of Energy.\n",
    "\n",
    "'''\n",
    "\n",
    "import matplotlib.pyplot as plt\n",
    "\n",
    "sample_rate = 44100.\n",
    "\n",
    "duration = 2.\n",
    "\n",
    "\n",
    "f = 440.\n",
    "time_pts = np.linspace(0, duration, duration*sample_rate)\n",
    "\n",
    "amp = 2**14\n",
    "tone_data = np.int16(amp*np.sin(np.pi*2*f*time_pts))\n",
    "\n",
    "playsound(tone_data, vol = 0.5)\n",
    "\n",
    "\n",
    "ft = np.fft.fft(tone_data)\n",
    "freq = np.fft.fftfreq(tone_data.shape[0], d = 1/sample_rate)\n",
    "\n",
    "\n",
    "# Power spectrum\n",
    "# checking Persarvel's Theorem\n",
    "# B/c of the way np.fft is defined, the power spectrum is (|ft|/N)^2\n",
    "N = len(tone_data)\n",
    "print 'N =', N\n",
    "pwr = (ft * ft.conj())/N**2\n",
    "\n",
    "if pwr.imag.max() > 1e-15:\n",
    "    raise KeyboardInterrupt('Power is not real...something is wrong!!')\n",
    "\n",
    "plt.figure()\n",
    "plt.plot(freq, pwr.real, 'k-')\n",
    "plt.xlim([-1000, 1000])\n",
    "\n",
    "\n",
    "print \"Power spectrum summed\", pwr.sum()\n",
    "print 'Sum of data squared divided by N: {:g}'.format((tone_data**2).sum()/N)\n",
    "print 'Sum of data squared divided by N: {:g}'.format((tone_data.astype(np.float)**2).sum()/N)\n",
    "\n"
   ]
  },
  {
   "cell_type": "code",
   "execution_count": null,
   "metadata": {
    "collapsed": false
   },
   "outputs": [],
   "source": [
    "'''\n",
    "Largest int16\n",
    "\n",
    "'''\n",
    "\n",
    "import numpy as np\n",
    "\n",
    "# largest 16-bit integer: 2^16 - 1\n",
    "a = 2**16 - 1\n",
    "b = np.int16(a + 1)\n",
    "print 'largest int16:', a\n",
    "print '(largest int16) + 2:', b"
   ]
  },
  {
   "cell_type": "code",
   "execution_count": null,
   "metadata": {
    "collapsed": false
   },
   "outputs": [],
   "source": [
    "'''\n",
    "\n",
    "Scipy's ready-made way of computing the (one-sided) power spectral density.\n",
    "\n",
    "'''\n",
    "\n",
    "\n",
    "from scipy import signal\n",
    "\n",
    "# note the powers at the negative frequencies have been added to the powers of the corresponding \n",
    "# positive freqeuncies.\n",
    "f, psd = signal.periodogram(tone_data, sample_rate)\n",
    "df = 1./duration\n",
    "plt.figure()\n",
    "plt.plot(f, psd)\n",
    "plt.xlim([0, 1000])\n",
    "plt.show()\n",
    "# This should be N/2 + 1 (b/c of the zero-frequency term)\n",
    "print 'len(psd)', len(psd)\n",
    "# sum of psd * df\n",
    "print 'Power spectral density integrated: {:g}'.format((psd*df).sum())\n",
    "\n",
    "plt.show()"
   ]
  },
  {
   "cell_type": "markdown",
   "metadata": {},
   "source": [
    "## Breakout:\n",
    "## plot_psd(sound, sample_rate = 44100, duration = 0., freq_lim = 1000., pwr_lim = 3e7) and try it on the a 2-freq sound."
   ]
  },
  {
   "cell_type": "code",
   "execution_count": null,
   "metadata": {
    "collapsed": false
   },
   "outputs": [],
   "source": [
    "%matplotlib inline\n",
    "'''\n",
    "\n",
    "Two-frequency signal and PSD \n",
    "\n",
    "'''\n",
    "\n",
    "\n",
    "\n",
    "from scipy import signal\n",
    "\n",
    "f = 440.\n",
    "sample_rate = 44100\n",
    "duration = 2.\n",
    "time_pts = np.linspace(0, duration, duration*sample_rate)\n",
    "\n",
    "\n",
    "tone1 = get_tone(f, duration)\n",
    "tone2 = get_tone(f*2, duration)\n",
    "\n",
    "\n",
    "\n",
    "tone1 *= 1/np.sqrt(2.)\n",
    "tone2 *= 1/np.sqrt(2.)\n",
    "\n",
    "tone = np.int16(tone1 + tone2)\n",
    "\n",
    "def plot_psd(sound, sample_rate = 44100, duration = 0., freq_lim = 1000., pwr_lim = 3e7):\n",
    "\n",
    "\n",
    "    f, psd = signal.periodogram(sound, sample_rate)\n",
    "    plt.figure()\n",
    "    plt.plot(f, psd)\n",
    "    plt.xlim([0, freq_lim])\n",
    "    plt.ylim([0, pwr_lim])\n",
    "    \n",
    "    return psd\n",
    "\n",
    "    \n",
    "df = 1./duration\n",
    "psd = plot_psd(tone, pwr_lim=5e8)\n",
    "\n",
    "print 'len(psd)', len(psd)\n",
    "# mean of sound signal squared\n",
    "print 'Mean of sound amplitude squared: {:g}'.format((np.float64(tone)**2).mean())\n",
    "# sum of Pxx_den * df\n",
    "print 'Power spectral density integrated: {:g}'.format((psd*df).sum())\n",
    "\n",
    "plt.show()"
   ]
  },
  {
   "cell_type": "code",
   "execution_count": null,
   "metadata": {
    "collapsed": false
   },
   "outputs": [],
   "source": [
    "'''real music psd'''\n",
    "\n",
    "ample_rate, time_pts, shortBW = get_music(\"BarryWhite.wav\", start_time, end_time)\n",
    "\n",
    "\n",
    "duration = len(time_pts)/sample_rate\n",
    "\n",
    "df = 1./duration\n",
    "psd = plot_psd(shortBW, pwr_lim = 2e5)\n",
    "\n",
    "print 'len(psd)', len(psd)\n",
    "# mean of sound signal squared\n",
    "print 'Mean of sound amplitude squared: {:g}'.format((np.float64(shortBW)**2).mean())\n",
    "# sum of Pxx_den * df\n",
    "print 'Power spectral density integrated: {:g}'.format((psd*df).sum())\n",
    "\n",
    "plt.show()\n"
   ]
  },
  {
   "cell_type": "markdown",
   "metadata": {},
   "source": [
    "## Breakout -- Build a 3-band equalizer:\n",
    "## equalizer(sample_rate, sound, wt1 = None, wt2 = None, wt3 = None, vol = 1.)\n",
    "## - If any of the three weights is None, return input sound array\n",
    "## - Otherwise, do FT\n",
    "## - Split FT into three frequency ranges, < 500 Hz, [500 Hz, 1000 Hz], > 1000 Hz\n",
    "## - Use signal_rec() to get the sound back for each of the frequency ranges\n",
    "## - Normalize the weights -- how would you do it?\n",
    "## - Put the three bands together according to the weight for each band, and get a new sound array\n",
    "## - Return the new sound array.\n",
    "## - Test it on Barry White segment."
   ]
  },
  {
   "cell_type": "code",
   "execution_count": null,
   "metadata": {
    "collapsed": true
   },
   "outputs": [],
   "source": []
  },
  {
   "cell_type": "code",
   "execution_count": null,
   "metadata": {
    "collapsed": false
   },
   "outputs": [],
   "source": [
    "'''\n",
    "\n",
    "Breakout Solution\n",
    "\n",
    "Equalizer: frequency-specific volume knobs\n",
    "\n",
    "\n",
    "Download LionSleepsTonight.wav on Canvas under Files/Sounds\n",
    "\n",
    "'''\n",
    "\n",
    "def equalizer(sample_rate, sound, wt1 = None, wt2 = None, wt3 = None, vol = 1.):\n",
    "    import numpy as np\n",
    "    \n",
    "    if wt1 == None or wt2 == None or wt3 == None:\n",
    "        return sound\n",
    "    \n",
    "    ft, freq = plot_fourier(sample_rate, sound, freq_lim = 5000.)\n",
    "    \n",
    "    abs_freq = np.abs(freq)\n",
    "\n",
    "    lo = 600.\n",
    "    hi = 6000.\n",
    "\n",
    "\n",
    "    filt1 = abs_freq < lo\n",
    "    filt2 = (abs_freq >= lo) * (abs_freq <= hi)\n",
    "    filt3 = abs_freq > hi\n",
    "\n",
    "\n",
    "    sound1 = signal_rec(ft, filt = filt1)\n",
    "    sound2 = signal_rec(ft, filt = filt2)\n",
    "    sound3 = signal_rec(ft, filt = filt3)\n",
    "        \n",
    "    norm = np.sqrt(wt1**2 + wt2**2 + wt3**2)\n",
    "    \n",
    "    wt1 = wt1/norm\n",
    "    wt2 = wt2/norm\n",
    "    wt3 = wt3/norm\n",
    "    \n",
    "    new_sound = np.int16(vol*(sound1*wt1 + sound2*wt2 + sound3*wt3))\n",
    "    return new_sound\n",
    "\n",
    "\n",
    "start_time = 70\n",
    "end_time = 85\n",
    "ample_rate, time_pts, music_seg = get_music(\"BarryWhitey.wav\", start_time, end_time)\n",
    "\n",
    "# Before equilizer treatment\n",
    "playsound(music_seg, vol = 0.5)\n",
    "new_seg = equalizer(sample_rate, music_seg, wt1 = 1., wt2 = 10., wt3 = 10.)\n",
    "\n",
    "# After equilizer treatment \n",
    "playsound(new_seg, vol = 1.0)\n"
   ]
  },
  {
   "cell_type": "code",
   "execution_count": null,
   "metadata": {
    "collapsed": true
   },
   "outputs": [],
   "source": []
  },
  {
   "cell_type": "markdown",
   "metadata": {},
   "source": [
    "## End of week 11"
   ]
  },
  {
   "cell_type": "code",
   "execution_count": null,
   "metadata": {
    "collapsed": false
   },
   "outputs": [],
   "source": [
    "%matplotlib inline\n",
    "'''\n",
    "Trying to get the slider to work\n",
    "\n",
    "https://ipython.org/ipython-doc/3/api/generated/IPython.html.widgets.widget_float.html\n",
    "\n",
    "'''\n",
    "import numpy as np\n",
    "import matplotlib.pyplot as plt\n",
    "#from matplotlib.widgets import Slider, Button, RadioButtons\n",
    "\n",
    "\n",
    "\n",
    "start_time = 1\n",
    "end_time = 5\n",
    "sample_rate, time_pts, shortBW = get_BW(start_time, end_time)\n",
    "\n",
    "# sndarr = shortBW\n",
    "# vol = 0.1\n",
    "# sndarr = np.int16(vol*sndarr)\n",
    "\n",
    "# def playsound_sl(vol = 0.1):\n",
    "#     from scipy.io.wavfile import write\n",
    "#     import os\n",
    "#     write('tmp.wav', sample_rate, np.int16(vol*shortBW))\n",
    "#     os.system(\"afplay tmp.wav\") \n",
    "#     os.system(\"rm tmp.wav\") \n",
    "#     return\n",
    "\n",
    "vol_gl = 0.1\n",
    "\n",
    "def vol_control(vol = 0.1):\n",
    "    print vol\n",
    "    vol_gl = vol\n",
    "\n",
    "    return vol\n",
    "\n",
    "\n",
    "vol_slider = widgets.FloatSliderWidget(min=0.1, max=1., step=0.1, value=0.1)\n",
    "# b_slider = widgets.FloatSliderWidget(min=-5, max=5, step=0.3, value=0)\n",
    "w=widgets.interactive(vol_control, vol=vol_slider)\n",
    "display(w)\n",
    "\n",
    "\n",
    "# #playsound(sample_rate, shortBW, vol = 0.5)\n",
    "\n",
    "# # import IPython.html.widgets as widgets\n",
    "# # from IPython.display import display\n",
    "\n",
    "\n",
    "# playsound_sl(shortBW)\n",
    "\n",
    "\n"
   ]
  },
  {
   "cell_type": "code",
   "execution_count": null,
   "metadata": {
    "collapsed": false
   },
   "outputs": [],
   "source": [
    "print vol_gl\n",
    "playsound(shortBW, vol = vol)"
   ]
  },
  {
   "cell_type": "markdown",
   "metadata": {},
   "source": [
    "## Next HW: build your own 10 band equilizer."
   ]
  },
  {
   "cell_type": "code",
   "execution_count": null,
   "metadata": {
    "collapsed": false
   },
   "outputs": [],
   "source": [
    "filt = freq < 500\n",
    "ft_filt = filt * ft\n",
    "tone_filt = np.fft.ifft(ft_filt)\n",
    "time_pts = np.linspace(0, 2, 2*sample_rate)\n",
    "\n",
    "plt.plot(tone_filt.real)\n",
    "plt.figure()\n",
    "plt.plot(tone_filt.imag)\n",
    "plt.show()\n",
    "#playsound(44100, tone_filt)"
   ]
  },
  {
   "cell_type": "code",
   "execution_count": null,
   "metadata": {
    "collapsed": false
   },
   "outputs": [],
   "source": [
    "%matplotlib inline\n",
    "\n",
    "'''\n",
    "\n",
    "This should be part of HW05 -- original, don't change.\n",
    "\n",
    "Further improvement: define a __call__ so that objects of this class can also be used as a function that can applied\n",
    "to other sound arrays (such as Barry White).\n",
    "\n",
    "'''\n",
    "\n",
    "\n",
    "from pdb import set_trace\n",
    "\n",
    "import matplotlib.pyplot as plt\n",
    "import numpy as np\n",
    "from scipy.io.wavfile import read, write\n",
    "import os\n",
    "\n",
    "\n",
    "class Tone:\n",
    "\n",
    "\n",
    "\n",
    "    def __init__(self, f, duration, sample_rate = 44100):\n",
    "        self.f = f\n",
    "        self.dur = duration\n",
    "        self.sr = sample_rate\n",
    "        self.signal = np.zeros(self.dur*self.sr)\n",
    "        self.orig_signal = np.zeros(self.dur*self.sr)\n",
    "        self.overtones = {}\n",
    "        self.OT_num = 0\n",
    "\n",
    "        \n",
    "    def comb_tones(self, *weights):\n",
    "        \n",
    "        if len(weights) == 0:\n",
    "            weights = np.ones(self.OT_num + 1)/(self.OT_num + 1)\n",
    "            print 'weights', weights   \n",
    "        comb_signal = np.int16(self.orig_signal * weights[0])\n",
    "        for i, overtone in self.overtones.iteritems():\n",
    "            comb_signal += np.int16(weights[i-1] * overtone)\n",
    "        \n",
    "        self.signal = comb_signal\n",
    "    \n",
    "    \n",
    "    \n",
    "    def get_tone(self, play_sound = False):        \n",
    "        time_pts = np.linspace(0, self.dur, self.dur*self.sr)\n",
    "        amp = 2**14\n",
    "        signal = np.int16(amp*np.sin(np.pi*2*self.f*time_pts))\n",
    "        self.signal = signal\n",
    "        if self.OT_num < 1:\n",
    "            self.orig_signal = signal\n",
    "        #set_trace()\n",
    "        if play_sound:\n",
    "            self.playsound()\n",
    "    \n",
    "    \n",
    "        return signal\n",
    "  \n",
    "    def gen_overtone(self, multi, play_sound = False):\n",
    "        true_self_f = self.f\n",
    "        self.f *= multi\n",
    "        self.OT_num += 1\n",
    "        overtone = self.get_tone(play_sound = play_sound)\n",
    "        self.overtones[multi] = overtone\n",
    "        self.f = true_self_f\n",
    "        \n",
    "        return overtone\n",
    "    \n",
    "    \n",
    "\n",
    "    def playsound(self, vol = 0.05):\n",
    "        write('tmp.wav', self.sr, np.int16(self.signal*vol))\n",
    "        os.system(\"afplay tmp.wav\") \n",
    "        os.system(\"rm tmp.wav\") \n",
    "        return\n",
    "\n",
    "    def plot_fourier(self, freq_lim = 1000., amp_lim = 1e6):\n",
    "        '''\n",
    "        Given sample_rate and signal, plots the real and imaginary parts of DFT.\n",
    "        '''\n",
    "\n",
    "        sp = np.fft.fft(self.signal.astype(np.float))\n",
    "        freq = np.fft.fftfreq(self.signal.shape[-1], d = 1./self.sr)\n",
    "        plt.figure()\n",
    "        plt.plot(freq, sp.real, 'b.')\n",
    "        plt.xlim([-freq_lim, freq_lim])\n",
    "        plt.ylim([-amp_lim, amp_lim])\n",
    "\n",
    "        plt.figure()\n",
    "        plt.plot(freq, sp.imag, 'g.')\n",
    "        plt.xlim([-freq_lim, freq_lim])\n",
    "        plt.ylim([-amp_lim, amp_lim])\n",
    "\n",
    "        plt.show()\n",
    "        \n",
    "\n",
    "\n",
    "tone = Tone(440., 2.)\n",
    "print tone.f\n",
    "sound = tone.get_tone()\n",
    "tone.playsound()\n",
    "tone.plot_fourier()\n",
    "overtone = tone.gen_overtone(2, play_sound = True)\n",
    "overtone = tone.gen_overtone(3, play_sound = True)\n",
    "overtone = tone.gen_overtone(4, play_sound = True)\n",
    "\n",
    "print tone.OT_num\n",
    "\n",
    "#weights = np.sqrt(np.array([0.25, 0.25, 0.25, 0.25]))\n",
    "weights = np.array([0.25, 0.25, 0.25, 0.25])\n",
    "\n",
    "#weights = np.array([0.4, 0.4, 0.1, 0.1])\n",
    "\n",
    "tone.comb_tones(*weights)\n",
    "tone.playsound()\n",
    "tone.plot_fourier(freq_lim=2000.)\n",
    "\n",
    "\n"
   ]
  },
  {
   "cell_type": "code",
   "execution_count": null,
   "metadata": {
    "collapsed": false
   },
   "outputs": [],
   "source": [
    "%matplotlib inline\n",
    "\n",
    "'''\n",
    "\n",
    "This should be part of HW05\n",
    "\n",
    "Further improvement: define a __call__ so that objects of this class can also be used as a function that can applied\n",
    "to other sound arrays (such as Barry White).\n",
    "\n",
    "'''\n",
    "\n",
    "\n",
    "from pdb import set_trace\n",
    "\n",
    "import matplotlib.pyplot as plt\n",
    "import numpy as np\n",
    "from scipy.io.wavfile import read, write\n",
    "from scipy import signal\n",
    "import os\n",
    "\n",
    "\n",
    "class Tone:\n",
    "\n",
    "    def __init__(self, sample_rate = 44100):\n",
    "        self.f = 0.\n",
    "        self.dur = 0.\n",
    "        self.sr = sample_rate\n",
    "        self.signal = 0\n",
    "        self.orig_signal = 0\n",
    "        self.overtones = {}\n",
    "        self.OT_num = 0\n",
    "\n",
    "    def clear(self):\n",
    "        self.__init__()\n",
    "        \n",
    "    def comb_tones(self, *weights):\n",
    "        \n",
    "        if len(weights) == 0:\n",
    "            weights = np.sqrt(np.ones(self.OT_num + 1)/(self.OT_num + 1))\n",
    "            print 'weights', weights   \n",
    "        comb_signal = np.int16(self.orig_signal * weights[0])\n",
    "        for i, overtone in self.overtones.iteritems():\n",
    "            comb_signal += np.int16(weights[i-1] * overtone)\n",
    "        \n",
    "        self.signal = comb_signal\n",
    "        return self.signal\n",
    "    \n",
    "    \n",
    "    \n",
    "    def get_tone(self, f = 440, duration = 0.5, play_sound = False):  \n",
    "        self.f = f\n",
    "        self.dur = duration\n",
    "\n",
    "        time_pts = np.linspace(0, self.dur, self.dur*self.sr)\n",
    "        amp = 2**14\n",
    "        signal = np.int16(amp*np.sin(np.pi*2*self.f*time_pts))\n",
    "        self.signal = signal\n",
    "        if self.OT_num < 1:\n",
    "            self.orig_signal = signal\n",
    "        #set_trace()\n",
    "        if play_sound:\n",
    "            self.playsound()\n",
    "    \n",
    "    \n",
    "        return signal\n",
    "  \n",
    "    def gen_overtone(self, multi, play_sound = False):\n",
    "        true_self_f = self.f\n",
    "        self.f *= multi\n",
    "        print 'f in get_overtone', self.f\n",
    "        self.OT_num += 1\n",
    "        overtone = self.get_tone(f = self.f, duration = self.dur, play_sound = play_sound)\n",
    "        self.overtones[multi] = overtone\n",
    "        self.f = true_self_f\n",
    "        \n",
    "        #return overtone\n",
    "    \n",
    "    \n",
    "\n",
    "    def playsound(self, sound = None, sample_rate = 44100, vol = 0.05):\n",
    "        if sound == None:\n",
    "            write('tmp.wav', self.sr, np.int16(self.signal*vol))\n",
    "        else:\n",
    "            write('tmp.wav', sample_rate, np.int16(sound*vol))\n",
    "        os.system(\"afplay tmp.wav\") \n",
    "        os.system(\"rm tmp.wav\") \n",
    "        return\n",
    "\n",
    "    def plot_fourier(self, sound = None, sample_rate = 44100, freq_lim = 1000., amp_lim = 1e6):\n",
    "        '''\n",
    "        Given sample_rate and signal, plots the real and imaginary parts of DFT.\n",
    "        '''\n",
    "        if sound == None:\n",
    "            signal = self.signal.astype(np.float)\n",
    "            samp_rate = self.sr\n",
    "        else:\n",
    "            signal = sound\n",
    "            samp_rate = sample_rate\n",
    "        \n",
    "        sp = np.fft.fft(signal)\n",
    "        freq = np.fft.fftfreq(signal.shape[0], d = 1./samp_rate)\n",
    "        plt.figure()\n",
    "        plt.plot(freq, sp.real, 'b.')\n",
    "        plt.xlim([-freq_lim, freq_lim])\n",
    "        plt.ylim([-amp_lim, amp_lim])\n",
    "\n",
    "        plt.figure()\n",
    "        plt.plot(freq, sp.imag, 'g.')\n",
    "        plt.xlim([-freq_lim, freq_lim])\n",
    "        plt.ylim([-amp_lim, amp_lim])\n",
    "\n",
    "        plt.show()\n",
    "\n",
    "    def plot_psd(self, outside_signal = None, sample_rate = 44100, duration = 0., freq_lim = 1000., pwr_lim = 2e7):\n",
    "        \n",
    "        if outside_signal == None:\n",
    "            sound = self.signal.astype(np.float)\n",
    "            samp_rate = self.sr\n",
    "        else:\n",
    "            sound = outside_signal\n",
    "            samp_rate = sample_rate       \n",
    "            \n",
    "        duration = float(len(sound))/samp_rate\n",
    "        \n",
    "        f, Pxx_den = signal.periodogram(sound, samp_rate)\n",
    "        df = 1./duration\n",
    "        plt.figure()\n",
    "        plt.plot(f, Pxx_den)\n",
    "        plt.xlim([0, freq_lim])\n",
    "        plt.ylim([0, pwr_lim])\n",
    "\n",
    "        plt.show()\n",
    "\n",
    "    def plot_sound(self, t_lim = 0.02):\n",
    "        time_pts = np.arange(len(self.signal))/float(self.sr)\n",
    "        plt.figure()\n",
    "        plt.plot(time_pts, self.signal)\n",
    "        plt.xlim([0, t_lim])\n",
    "        plt.show()\n",
    "\n",
    "        \n",
    "        \n",
    "        \n",
    "def rich_tone(f, duration):\n",
    "    tone = Tone()\n",
    "\n",
    "    simple_tone = tone.get_tone(f, duration)\n",
    "    tone.gen_overtone(2)\n",
    "    tone.gen_overtone(3)\n",
    "    tone.gen_overtone(4)\n",
    "    rich_tone = tone.comb_tones()\n",
    "    print 'inside rich_tone', tone.f\n",
    "\n",
    "    #tone.clear()\n",
    "    return simple_tone, rich_tone, tone\n",
    "    \n",
    "    \n",
    "A_simp, A, tone = rich_tone(440., .5)\n",
    "tone.playsound()\n",
    "tone.plot_sound()\n",
    "tone.plot_psd(freq_lim = 3000.)\n",
    "B_simp, B, tone = rich_tone(493.88, .5)    \n",
    "tone.plot_psd(freq_lim = 3000.)\n",
    "D_simp, D, tone = rich_tone(587.33, .5)    \n",
    "tone.plot_psd(freq_lim = 3000.)\n",
    "G_simp, G, tone = rich_tone(784./2, .5)\n",
    "tone.plot_psd(freq_lim = 3000.)\n",
    "\n",
    "\n",
    "# D = tone.get_tone(587.33, .5)\n",
    "# tone.gen_overtone(2)\n",
    "# tone.gen_overtone(3)\n",
    "# tone.gen_overtone(4)\n",
    "# D = tone.comb_tones()\n",
    "\n",
    "# tone.clear()\n",
    "\n",
    "# A = tone.get_tone(440., 0.5)\n",
    "# tone.gen_overtone(2)\n",
    "# tone.gen_overtone(3)\n",
    "# tone.gen_overtone(4)\n",
    "# A = tone.comb_tones()\n",
    "\n",
    "# tone.clear()\n",
    "\n",
    "tone = Tone()\n",
    "song = np.concatenate((B, A, G, A, B, B, B, B, A, A, A, A))\n",
    "tone.plot_psd(song, freq_lim = 3000.)\n",
    "\n",
    "\n",
    "#tone.playsound()\n",
    "\n",
    "song = np.concatenate((B, A, G, A, B, B, B, B, A, A, A, A, B, D, D, D, D) ) #, D, D))\n",
    "tone.playsound(song, vol = 0.2)\n",
    "\n",
    "\n",
    "\n",
    "#playsound(sample_rate, song)\n",
    "\n",
    "# tone.plot_fourier()\n",
    "# overtone = tone.gen_overtone(2, play_sound = True)\n",
    "# overtone = tone.gen_overtone(3, play_sound = True)\n",
    "# overtone = tone.gen_overtone(4, play_sound = True)\n",
    "\n",
    "# print tone.OT_num\n",
    "\n",
    "# weights = np.sqrt(np.array([0.25, 0.25, 0.25, 0.25]))\n",
    "# #weights = np.array([0.25, 0.25, 0.25, 0.25])\n",
    "\n",
    "# #weights = np.array([0.4, 0.4, 0.1, 0.1])\n",
    "\n",
    "# tone.comb_tones(*weights)\n",
    "# tone.playsound()\n",
    "# tone.plot_fourier(freq_lim=2000.)\n",
    "\n",
    "\n"
   ]
  },
  {
   "cell_type": "code",
   "execution_count": null,
   "metadata": {
    "collapsed": true
   },
   "outputs": [],
   "source": [
    "Atone_freq = 440.\n",
    "tone1 = get_tone(44100, Atone_freq, 2., play_sound=True)"
   ]
  },
  {
   "cell_type": "code",
   "execution_count": null,
   "metadata": {
    "collapsed": false
   },
   "outputs": [],
   "source": [
    "sample_rate = 44100\n",
    "Atone_freq = 440.\n",
    "tone1 = get_tone(sample_rate, Atone_freq, 2.)\n",
    "tone2 = get_tone(sample_rate, Atone_freq*2, 2.)\n",
    "tone3 = get_tone(sample_rate, Atone_freq*3, 2.)\n",
    "\n",
    "sound = np.int16(0.75*tone1) + np.int16(0.25*tone2)\n",
    "\n",
    "\n",
    "\n",
    "sound = np.int16(0.75*tone1 + 0.25*tone2)\n",
    "\n",
    "\n",
    "# sound = np.int16(tone1 + 0.75*tone2)\n",
    "# sound = tone1/2 + tone2/2\n",
    "\n",
    "playsound(sample_rate, sound)\n",
    "# plot_fourier(44100, sound)\n",
    "# playsound(sampl_rate, sound)"
   ]
  },
  {
   "cell_type": "code",
   "execution_count": null,
   "metadata": {
    "collapsed": false
   },
   "outputs": [],
   "source": [
    "'''Play a tone at 880 Hz '''\n",
    "import numpy as np\n",
    "import os\n",
    "from scipy.io.wavfile import write\n",
    "import matplotlib.pyplot as plt\n",
    "\n",
    "\n",
    "f = 440.*2\n",
    "sample_rate = 44100.\n",
    "duration = 2\n",
    "time_pts = np.linspace(0, duration, duration*sample_rate)\n",
    "amp = 2**7\n",
    "Atone_data = amp*np.sin(np.pi*2*f*time_pts)\n",
    "\n",
    "\n",
    "\n",
    "# freq = 440.*2\n",
    "# sample_rate = 44100.\n",
    "# duration = 3\n",
    "# time_pts = np.linspace(0, duration, duration*sample_rate)\n",
    "# amp = 2**7\n",
    "# tone_data = amp*np.sin(np.pi*2*freq*time_pts)\n",
    "# tone_data = np.uint8(tone_data)\n",
    "\n",
    "plot_fourier(sample_rate, Atone_data, freq_lim = 1000.)\n"
   ]
  },
  {
   "cell_type": "code",
   "execution_count": null,
   "metadata": {
    "collapsed": false
   },
   "outputs": [],
   "source": [
    "'''Play the A tone at twice the sampling rate '''\n",
    "import numpy as np\n",
    "import os\n",
    "from scipy.io.wavfile import write\n",
    "\n",
    "freq = 440.\n",
    "sample_rate = 44100.\n",
    "duration = 3\n",
    "time_pts = np.linspace(0, duration, duration*sample_rate)\n",
    "amp = 2**7\n",
    "tone_data = amp*np.sin(np.pi*2*freq*time_pts)\n",
    "tone_data = np.uint8(tone_data)\n",
    "\n",
    "write('tone2.wav', sample_rate*2, tone_data)\n",
    "os.system(\"afplay Atone.wav\") \n",
    "os.system(\"afplay tone2.wav\") \n",
    "# Do scientific python note A and sample rate"
   ]
  },
  {
   "cell_type": "code",
   "execution_count": null,
   "metadata": {
    "collapsed": false
   },
   "outputs": [],
   "source": [
    "'''Play the A tone at 440 Hz and another at 880 Hz '''\n",
    "import numpy as np\n",
    "import os\n",
    "from scipy.io.wavfile import write\n",
    "\n",
    "freq = 440.\n",
    "sample_rate = 44100.\n",
    "duration = 2\n",
    "time_pts = np.linspace(0, duration, duration*sample_rate)\n",
    "\n",
    "Atone_data = np.sin(np.pi*2*freq*time_pts)\n",
    "Atone_dbl = np.sin(np.pi*2*freq*2*time_pts)\n",
    "#Atone_tpl = amp*np.sin(np.pi*3*freq*2*time_pts)\n",
    "\n",
    "\n",
    "amp1 = 2**6\n",
    "amp2 = 2**5\n",
    "\n",
    "#sound_data = amp1*Atone_data + amp2*Atone_dbl \n",
    "\n",
    "\n",
    "Atone_tpl = amp*np.sin(np.pi*3*freq*2*time_pts)\n",
    "amp3 = 2**3\n",
    "sound_data = amp1*Atone_data + amp2*Atone_dbl + amp3*Atone_tpl \n",
    "sound_data = sound_data.astype(np.uint8)\n",
    "\n",
    "write('sound.wav', sample_rate, sound_data)\n",
    "#os.system(\"afplay Atone.wav\") \n",
    "os.system(\"afplay sound.wav\") \n",
    "# Do scientific python note A and sample rate"
   ]
  },
  {
   "cell_type": "code",
   "execution_count": null,
   "metadata": {
    "collapsed": false
   },
   "outputs": [],
   "source": [
    "import numpy as np\n",
    "from scipy.io.wavfile import write\n",
    "lo_rate = rate/8\n",
    "write('lo_pitch_dolph.wav', lo_rate, dolph_snd)\n",
    "os.system(\"afplay tuimelaar.wav\") \n",
    "os.system(\"afplay lo_pitch_dolph.wav\") "
   ]
  },
  {
   "cell_type": "markdown",
   "metadata": {},
   "source": [
    "## Breakout:\n",
    "## Write a function that takes a numpy array, and a play rate, creates a temp wav file, plays the sound, then removes (rm) the temp file.  Call it playsound()."
   ]
  },
  {
   "cell_type": "code",
   "execution_count": null,
   "metadata": {
    "collapsed": false
   },
   "outputs": [],
   "source": [
    "import numpy as np\n",
    "from scipy.io.wavfile import write\n",
    "\n",
    "data = np.random.uniform(-1,1,44100) # 44100 random samples between -1 and 1\n",
    "scaled = np.int16(data/np.max(np.abs(data)) * 32767)\n",
    "write('test.wav', 44100, scaled)\n",
    "print 'done'"
   ]
  },
  {
   "cell_type": "code",
   "execution_count": null,
   "metadata": {
    "collapsed": false
   },
   "outputs": [],
   "source": [
    "%matplotlib inline\n",
    "import matplotlib.pyplot as plt\n",
    "import numpy as np\n",
    "import matplotlib.pyplot as plt\n",
    "from scipy.io.wavfile import read, write\n",
    "import os\n",
    "rate, barry_white = read(\"BarryWhite.wav\")\n",
    "#numpy.array(a[1],dtype=float)\n",
    "#dolphin_snd = np.array(a[1], dtype = float)\n",
    "print 'rate', rate\n",
    "print 'data type', barry_white.dtype\n",
    "\n",
    "# It has two columns: stereosound!\n",
    "print barry_white.shape\n",
    "start_time = 1\n",
    "end_time = 15\n",
    "duration = end_time - start_time\n",
    "shortBW = barry_white[start_time*rate: end_time*rate, :]\n",
    "print shortBW.shape\n",
    "plt.plot(shortBW)\n",
    "\n",
    "# shortBW = shortBW/2\n",
    "# print 'data type', shortBW.dtype\n",
    "\n",
    "\n",
    "# just one channel\n",
    "shortBW = shortBW[:, 0]\n",
    "print shortBW.shape\n",
    "# shortBW = shortBW/2\n",
    "# print 'data type', shortBW.dtype\n",
    "\n",
    "\n",
    "playsound(rate, shortBW)\n",
    "\n",
    "# write('shortBW.wav', rate, shortBW)\n",
    "# os.system('afplay shortBW.wav')\n",
    "plt.figure()\n",
    "plt.plot(shortBW)\n",
    "plt.show()\n",
    "\n",
    "\n"
   ]
  },
  {
   "cell_type": "code",
   "execution_count": null,
   "metadata": {
    "collapsed": false
   },
   "outputs": [],
   "source": [
    "sp = np.fft.fft(shortBW.astype(np.float))\n",
    "t = np.linspace(start_time, end_time, shortBW.shape[0])\n",
    "plt.figure()\n",
    "plt.plot(t)\n",
    "#freq = np.fft.fftfreq(t.shape[-1])\n",
    "#freq = np.linspace(-rate/2., rate/2., sp.shape[0])\n",
    "print freq.shape\n",
    "# freq = np.fft.fftfreq( (shortBW*rate).shape[-1] )\n",
    "# plt.plot(freq, sp.real, 'b.')\n",
    "# plt.figure()\n",
    "# plt.plot(freq, sp.imag, 'g.')\n",
    "# plt.show()\n",
    "plt.figure()\n",
    "plt.plot(freq, sp.real, 'b.')\n",
    "plt.figure()\n",
    "plt.plot(freq, sp.imag, 'g.')\n",
    "plt.show()"
   ]
  },
  {
   "cell_type": "code",
   "execution_count": null,
   "metadata": {
    "collapsed": false
   },
   "outputs": [],
   "source": [
    "BW_back = np.fft.ifft(sp).real\n",
    "print 'data type', BW_back.dtype\n",
    "BW_back = np.int16(BW_back)\n",
    "playsound(rate, BW_back)\n",
    "\n",
    "plt.plot(BW_back)\n",
    "plt.show()\n",
    "# write('BW_back.wav', rate, BW_back)\n",
    "# os.system('afplay BW_back.wav')\n",
    "\n"
   ]
  },
  {
   "cell_type": "markdown",
   "metadata": {},
   "source": [
    "## End of week 9"
   ]
  },
  {
   "cell_type": "code",
   "execution_count": null,
   "metadata": {
    "collapsed": false
   },
   "outputs": [],
   "source": [
    "os.system(\"afplay test.wav\") "
   ]
  },
  {
   "cell_type": "markdown",
   "metadata": {},
   "source": [
    "## Breakout: download animal sounds in wav format and make a class that make jungle sound\n",
    "\n",
    "### You can specify the kinds of animals\n",
    "### how many of each\n",
    "### how loud each should be\n",
    "### optional: time-variation of an animal sound"
   ]
  },
  {
   "cell_type": "markdown",
   "metadata": {},
   "source": [
    "## Slides: Then talk about Fourier Transform and then DFT and FFT\n",
    "## End with FFT of the dolphin sound signal -- that's what you see as the equalizer -- then enhance the low freq part of the sound: now you get a dolphin that sounds like Barry White. (Alternatively take a Barry White sound clip (The beginning of Can't Get Enough of Your Love Baby, remove the low freq part -- outrageous!)"
   ]
  },
  {
   "cell_type": "code",
   "execution_count": null,
   "metadata": {
    "collapsed": false
   },
   "outputs": [],
   "source": [
    "f = 440.\n",
    "sample_rate = 44100.\n",
    "duration = 2\n",
    "time_pts = np.linspace(0, duration, duration*sample_rate)\n",
    "amp = 2**7\n",
    "Atone_data = amp*np.sin(np.pi*2*f*time_pts)\n",
    "\n",
    "sp = np.fft.fft(Atone_data.astype(np.float))\n",
    "t = np.linspace(0, duration, Atone_data.shape[0])\n",
    "plt.figure()\n",
    "plt.plot(t)\n",
    "freq = np.space(-1/)\n",
    "#freq = np.fft.fftfreq(t.shape[-1])\n",
    "plt.figure()\n",
    "plt.plot(freq, sp.real, 'b.')\n",
    "plt.figure()\n",
    "plt.plot(freq, sp.imag, 'g.')\n",
    "plt.show()\n"
   ]
  },
  {
   "cell_type": "code",
   "execution_count": null,
   "metadata": {
    "collapsed": false
   },
   "outputs": [],
   "source": [
    "import numpy as np\n",
    "from scipy.io.wavfile import write\n",
    "# loud_dolph = (dolph_snd * 1.5).astype(int)\n",
    "loud_dolph = np.uint8(dolph_snd * 2.5)\n",
    "print rate, loud_dolph.max()\n",
    "plt.plot(loud_dolph)\n",
    "write('loud_dolph.wav', rate, loud_dolph)\n",
    "os.system(\"afplay quiet_dolph.wav\") \n",
    "os.system(\"afplay loud_dolph.wav\") "
   ]
  },
  {
   "cell_type": "code",
   "execution_count": null,
   "metadata": {
    "collapsed": false
   },
   "outputs": [],
   "source": [
    "'''remove low frequencies'''\n",
    "plt.plot(freq, sp.real, 'b.')\n",
    "plt.xlim([-1e-2, 1e-2])\n",
    "plt.show()"
   ]
  },
  {
   "cell_type": "code",
   "execution_count": null,
   "metadata": {
    "collapsed": false
   },
   "outputs": [],
   "source": [
    "sp = np.fft.fft(sound_data.astype(np.float))\n",
    "t = np.linspace(0, duration, sound_data.shape[0])\n",
    "plt.figure()\n",
    "plt.plot(t)\n",
    "freq = np.fft.fftfreq(t.shape[-1])\n",
    "plt.figure()\n",
    "plt.plot(freq, sp.real, 'b.')\n",
    "plt.figure()\n",
    "plt.plot(freq, sp.imag, 'g.')\n",
    "plt.show()\n",
    "\n"
   ]
  },
  {
   "cell_type": "code",
   "execution_count": null,
   "metadata": {
    "collapsed": true
   },
   "outputs": [],
   "source": [
    "'''get fft for 2 freq right'''\n",
    "\n",
    "f = 440.\n",
    "sample_rate = 44100.\n",
    "duration = 2\n",
    "time_pts = np.linspace(0, duration, duration*sample_rate)\n",
    "amp = 2**7\n",
    "Atone_data = amp*np.sin(np.pi*2*f*time_pts)\n",
    "\n",
    "sp = np.fft.fft(Atone_data.astype(np.float))\n",
    "t = np.linspace(0, duration, Atone_data.shape[0])\n",
    "plt.figure()\n",
    "plt.plot(t)\n",
    "freq = np.space(-1/)\n",
    "#freq = np.fft.fftfreq(t.shape[-1])\n",
    "plt.figure()\n",
    "plt.plot(freq, sp.real, 'b.')\n",
    "plt.figure()\n",
    "plt.plot(freq, sp.imag, 'g.')\n",
    "plt.show()\n"
   ]
  },
  {
   "cell_type": "markdown",
   "metadata": {},
   "source": [
    "## Next Week\n",
    "## What does a square wave sound like?  How many Fourier components do you have to keep in order to make the Fouirer decomposition sound like the original square wave?\n",
    "## 1. Talk about a subtlety: Aliasing\n",
    "## 1. FFT for 2D image\n",
    "## 2. Convolution of a 2D image with its border\n",
    "## 3. Cleaning up a 2D image\n",
    "## 4. Fractal"
   ]
  },
  {
   "cell_type": "code",
   "execution_count": null,
   "metadata": {
    "collapsed": false
   },
   "outputs": [],
   "source": [
    "import matplotlib.pyplot as plt\n",
    "t = np.arange(256)\n",
    "print t.shape, t.shape[0]\n",
    "sp = np.fft.fft(np.sin(t))\n",
    "freq = np.fft.fftfreq(t.shape[0])\n",
    "plt.plot(freq, sp.real, 'b.')\n",
    "plt.figure()\n",
    "plt.plot(freq, sp.imag, 'g.')\n",
    "plt.show()"
   ]
  },
  {
   "cell_type": "code",
   "execution_count": null,
   "metadata": {
    "collapsed": false
   },
   "outputs": [],
   "source": [
    "# don't run this: too long and no way to stop\n",
    "os.system(\"afplay Ya_Lo_Se.m4a\")"
   ]
  },
  {
   "cell_type": "code",
   "execution_count": null,
   "metadata": {
    "collapsed": false
   },
   "outputs": [],
   "source": [
    "import scitools"
   ]
  },
  {
   "cell_type": "code",
   "execution_count": null,
   "metadata": {
    "collapsed": false
   },
   "outputs": [],
   "source": [
    "import pygame"
   ]
  },
  {
   "cell_type": "code",
   "execution_count": null,
   "metadata": {
    "collapsed": false
   },
   "outputs": [],
   "source": [
    "s = Sound() \n",
    "s.read('sound.wav') \n",
    "s.play()"
   ]
  }
 ],
 "metadata": {
  "kernelspec": {
   "display_name": "Python 2",
   "language": "python",
   "name": "python2"
  },
  "language_info": {
   "codemirror_mode": {
    "name": "ipython",
    "version": 2
   },
   "file_extension": ".py",
   "mimetype": "text/x-python",
   "name": "python",
   "nbconvert_exporter": "python",
   "pygments_lexer": "ipython2",
   "version": "2.7.9"
  }
 },
 "nbformat": 4,
 "nbformat_minor": 0
}
