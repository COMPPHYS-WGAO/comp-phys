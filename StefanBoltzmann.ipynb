{
 "metadata": {
  "name": ""
 },
 "nbformat": 3,
 "nbformat_minor": 0,
 "worksheets": [
  {
   "cells": [
    {
     "cell_type": "code",
     "collapsed": false,
     "input": [
      "import math\n",
      "\n",
      "previous_ans = 0 \n",
      "current_ans = 1./(math.exp(1.)-1.)\n",
      "dy = 2\n",
      "steps = 0\n",
      "\n",
      "\n",
      "print 'running...', '\\n'\n",
      "while (current_ans-previous_ans)/current_ans >= 10**(-6.) :\n",
      "    hy = 0\n",
      "    dy = dy/2.\n",
      "    steps = 100/dy\n",
      "    \n",
      "    for y in range(1, int(steps)):\n",
      "        hy += ((y*100/steps)**3./(math.exp(y*100/steps)-1.))*dy\n",
      "        \n",
      "    previous_ans = current_ans\n",
      "    current_ans = hy\n",
      "    \n",
      "    print 'number of steps:', '{:4g}'.format(steps)\n",
      "    print 'dy =', '{:.4f}'.format(dy), ',', 'integral =', '{:.7f}'.format(current_ans)\n",
      "    frac_diff = str('{:.7f}'.format((current_ans-previous_ans)*100/current_ans))+'%'\n",
      "    if dy >= 1:\n",
      "        print 'frac_diff = N/A', '\\n'\n",
      "    else:\n",
      "        print 'frac_diff =', frac_diff, '\\n'\n",
      "\n",
      "print 'The integral evaluated to within specified accuracy:', '{:.7f}'.format(current_ans)\n",
      "print 'The upper limit of its fractional error is estimated to be:', frac_diff\n",
      "print 'The correct answer is:', '{:.7f}'.format(math.pi**4./15.)\n",
      "print 'The actual fractional error is:', str('{:.7f}'.format(100*(math.pi**4./15. - current_ans)/(math.pi**4./15.)))+'%'"
     ],
     "language": "python",
     "metadata": {},
     "outputs": [
      {
       "output_type": "stream",
       "stream": "stdout",
       "text": [
        "running... \n",
        "\n",
        "number of steps:  100\n",
        "dy = 1.0000 , integral = 6.4897727\n",
        "frac_diff = N/A \n",
        "\n",
        "number of steps:  200\n",
        "dy = 0.5000 , integral = 6.4936790\n",
        "frac_diff = 0.0601547% \n",
        "\n",
        "number of steps:  400\n",
        "dy = 0.2500 , integral = 6.4939231\n",
        "frac_diff = 0.0037595% \n",
        "\n",
        "number of steps:  800\n",
        "dy = 0.1250 , integral = 6.4939384\n",
        "frac_diff = 0.0002350% \n",
        "\n",
        "number of steps: 1600\n",
        "dy = 0.0625 , integral = 6.4939393\n",
        "frac_diff = 0.0000147% \n",
        "\n",
        "The integral evaluated to within specified accuracy: 6.4939393\n",
        "The upper limit of its fractional error is estimated to be: 0.0000147%\n",
        "The correct answer is: 6.4939394\n",
        "The actual fractional error is: 0.0000010%\n"
       ]
      }
     ],
     "prompt_number": 59
    },
    {
     "cell_type": "code",
     "collapsed": false,
     "input": [
      "b = 3\n",
      "a = b\n",
      "b = 1\n",
      "print (a, b)\n",
      "hy = 0\n",
      "for y in range(1, 801):\n",
      "        hy += (y**3./(math.exp(y)-1.))*0.125\n",
      "        \n",
      "print hy"
     ],
     "language": "python",
     "metadata": {},
     "outputs": [
      {
       "ename": "OverflowError",
       "evalue": "math range error",
       "output_type": "pyerr",
       "traceback": [
        "\u001b[0;31m---------------------------------------------------------------------------\u001b[0m\n\u001b[0;31mOverflowError\u001b[0m                             Traceback (most recent call last)",
        "\u001b[0;32m<ipython-input-32-2a57da7357c9>\u001b[0m in \u001b[0;36m<module>\u001b[0;34m()\u001b[0m\n\u001b[1;32m      5\u001b[0m \u001b[0mhy\u001b[0m \u001b[0;34m=\u001b[0m \u001b[0;36m0\u001b[0m\u001b[0;34m\u001b[0m\u001b[0m\n\u001b[1;32m      6\u001b[0m \u001b[0;32mfor\u001b[0m \u001b[0my\u001b[0m \u001b[0;32min\u001b[0m \u001b[0mrange\u001b[0m\u001b[0;34m(\u001b[0m\u001b[0;36m1\u001b[0m\u001b[0;34m,\u001b[0m \u001b[0;36m801\u001b[0m\u001b[0;34m)\u001b[0m\u001b[0;34m:\u001b[0m\u001b[0;34m\u001b[0m\u001b[0m\n\u001b[0;32m----> 7\u001b[0;31m         \u001b[0mhy\u001b[0m \u001b[0;34m+=\u001b[0m \u001b[0;34m(\u001b[0m\u001b[0my\u001b[0m\u001b[0;34m**\u001b[0m\u001b[0;36m3.\u001b[0m\u001b[0;34m/\u001b[0m\u001b[0;34m(\u001b[0m\u001b[0mmath\u001b[0m\u001b[0;34m.\u001b[0m\u001b[0mexp\u001b[0m\u001b[0;34m(\u001b[0m\u001b[0my\u001b[0m\u001b[0;34m)\u001b[0m\u001b[0;34m-\u001b[0m\u001b[0;36m1.\u001b[0m\u001b[0;34m)\u001b[0m\u001b[0;34m)\u001b[0m\u001b[0;34m*\u001b[0m\u001b[0;36m0.125\u001b[0m\u001b[0;34m\u001b[0m\u001b[0m\n\u001b[0m\u001b[1;32m      8\u001b[0m \u001b[0;34m\u001b[0m\u001b[0m\n\u001b[1;32m      9\u001b[0m \u001b[0;32mprint\u001b[0m \u001b[0mhy\u001b[0m\u001b[0;34m\u001b[0m\u001b[0m\n",
        "\u001b[0;31mOverflowError\u001b[0m: math range error"
       ]
      },
      {
       "output_type": "stream",
       "stream": "stdout",
       "text": [
        "(3, 1)\n"
       ]
      }
     ],
     "prompt_number": 32
    },
    {
     "cell_type": "code",
     "collapsed": false,
     "input": [
      "print 2**200"
     ],
     "language": "python",
     "metadata": {},
     "outputs": [
      {
       "output_type": "stream",
       "stream": "stdout",
       "text": [
        "1606938044258990275541962092341162602522202993782792835301376\n"
       ]
      }
     ],
     "prompt_number": 37
    }
   ],
   "metadata": {}
  }
 ]
}