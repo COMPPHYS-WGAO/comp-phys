{
 "metadata": {
  "name": ""
 },
 "nbformat": 3,
 "nbformat_minor": 0,
 "worksheets": [
  {
   "cells": [
    {
     "cell_type": "code",
     "collapsed": false,
     "input": [
      "import math\n",
      "\n",
      "previous_ans = 0 \n",
      "current_ans = 1\n",
      "dy = 2\n",
      "# steps = 0\n",
      "\n",
      "print 'running...', '\\n'\n",
      "\n",
      "while (current_ans-previous_ans)/current_ans >= 10**(-6.) :\n",
      "    hy = 0\n",
      "    dy = dy/2.\n",
      "    steps = 100/dy\n",
      "    \n",
      "    for y in range(1, int(steps)+1):\n",
      "        hy += ((y*100/steps)**3./(math.exp(y*100/steps)-1.))*dy\n",
      "        \n",
      "    previous_ans = current_ans\n",
      "    current_ans = hy\n",
      "    \n",
      "    print 'number of steps:', '{:4g}'.format(steps)\n",
      "    print 'dy =', '{:.4f}'.format(dy), ',', 'integral =', '{:.7f}'.format(current_ans)\n",
      "    frac_diff = str('{:.7f}'.format((current_ans-previous_ans)*100/current_ans))+'%'\n",
      "    if dy >= 1:\n",
      "        print 'frac_diff = N/A', '\\n'\n",
      "    else:\n",
      "        print 'frac_diff =', frac_diff, '\\n'\n",
      "\n",
      "print 'The integral evaluated to within specified accuracy:', '{:.7f}'.format(current_ans)\n",
      "print 'The upper limit of its fractional error is estimated to be:', frac_diff\n",
      "print 'The correct answer is:', '{:.7f}'.format(math.pi**4./15.)\n",
      "print 'The actual fractional error is:', str('{:.7f}'.format(100*(math.pi**4./15. - current_ans)/(math.pi**4./15.)))+'%'"
     ],
     "language": "python",
     "metadata": {},
     "outputs": [
      {
       "output_type": "stream",
       "stream": "stdout",
       "text": [
        "running... \n",
        "\n",
        "number of steps:  100\n",
        "dy = 1.0000 , integral = 6.4897727\n",
        "frac_diff = N/A \n",
        "\n",
        "number of steps:  200\n",
        "dy = 0.5000 , integral = 6.4936790\n",
        "frac_diff = 0.0601547% \n",
        "\n",
        "number of steps:  400\n",
        "dy = 0.2500 , integral = 6.4939231\n",
        "frac_diff = 0.0037595% \n",
        "\n",
        "number of steps:  800\n",
        "dy = 0.1250 , integral = 6.4939384\n",
        "frac_diff = 0.0002350% \n",
        "\n",
        "number of steps: 1600\n",
        "dy = 0.0625 , integral = 6.4939393\n",
        "frac_diff = 0.0000147% \n",
        "\n",
        "The integral evaluated to within specified accuracy: 6.4939393\n",
        "The upper limit of its fractional error is estimated to be: 0.0000147%\n",
        "The correct answer is: 6.4939394\n",
        "The actual fractional error is: 0.0000010%\n"
       ]
      }
     ],
     "prompt_number": 68
    },
    {
     "cell_type": "code",
     "collapsed": false,
     "input": [],
     "language": "python",
     "metadata": {},
     "outputs": [],
     "prompt_number": 59
    },
    {
     "cell_type": "code",
     "collapsed": false,
     "input": [],
     "language": "python",
     "metadata": {},
     "outputs": [],
     "prompt_number": 59
    }
   ],
   "metadata": {}
  }
 ]
}