{
 "metadata": {
  "name": ""
 },
 "nbformat": 3,
 "nbformat_minor": 0,
 "worksheets": [
  {
   "cells": [
    {
     "cell_type": "code",
     "collapsed": false,
     "input": [
      "from math import pi\n",
      "s = 0\n",
      "max = 100\n",
      "\n",
      "for i in range(max):\n",
      "    s += 1./(i+1)**2\n",
      "    \n",
      "print 'With the for loop, the sum is', s\n",
      "\n",
      "#need to re-initialize i and s\n",
      "i = 1\n",
      "s = 0\n",
      "\n",
      "while i <= max:\n",
      "    s += 1./i**2\n",
      "    i = i + 1\n",
      "    \n",
      "print 'With the while loop, the sum is', s\n",
      "\n",
      "print 'correct answer:', pi**2/6."
     ],
     "language": "python",
     "metadata": {},
     "outputs": [
      {
       "output_type": "stream",
       "stream": "stdout",
       "text": [
        "With the for loop, the sum is 1.63498390018\n",
        "With the while loop, the sum is 1.63498390018\n",
        "correct answer: 1.64493406685\n"
       ]
      }
     ],
     "prompt_number": 2
    },
    {
     "cell_type": "code",
     "collapsed": false,
     "input": [],
     "language": "python",
     "metadata": {},
     "outputs": []
    }
   ],
   "metadata": {}
  }
 ]
}