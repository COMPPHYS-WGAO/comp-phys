{
 "metadata": {
  "name": ""
 },
 "nbformat": 3,
 "nbformat_minor": 0,
 "worksheets": [
  {
   "cells": [
    {
     "cell_type": "code",
     "collapsed": false,
     "input": [
      "from math import pi\n",
      "s = 0\n",
      "max = 1000\n",
      "\n",
      "for i in range(max):\n",
      "    s += 1./(i+1)**2\n",
      "    \n",
      "print 'With the for loop, the sum is', s\n",
      "\n",
      "#need to re-initialize i and s\n",
      "i = 1\n",
      "s = 0\n",
      "\n",
      "while i <= max:\n",
      "    s += 1./i**2\n",
      "    i = i + 1\n",
      "    \n",
      "print 'With the while loop, the sum is', s\n",
      "\n",
      "print 'correct answer:', pi**2/6."
     ],
     "language": "python",
     "metadata": {},
     "outputs": []
    },
    {
     "cell_type": "code",
     "collapsed": false,
     "input": [
      "a = 'hello'\n",
      "space = ' '\n",
      "b = 'world'\n",
      "print a + space + b\n"
     ],
     "language": "python",
     "metadata": {},
     "outputs": []
    },
    {
     "cell_type": "code",
     "collapsed": false,
     "input": [
      "print a < a+1\n",
      "print a > a-1"
     ],
     "language": "python",
     "metadata": {},
     "outputs": []
    },
    {
     "cell_type": "code",
     "collapsed": false,
     "input": [
      "a = 10 \n",
      "print int(a<a+1)\n",
      "print int(a>a+1)\n"
     ],
     "language": "python",
     "metadata": {},
     "outputs": []
    },
    {
     "cell_type": "code",
     "collapsed": false,
     "input": [
      "b = bool(1)\n",
      "print b\n",
      "b = bool(20)\n",
      "print b\n",
      "b = bool(-3)\n",
      "print b\n",
      "b = bool(0)\n",
      "print b\n",
      "b = bool(0.)\n",
      "print b\n",
      "b = bool(2.5)\n",
      "print b"
     ],
     "language": "python",
     "metadata": {},
     "outputs": []
    },
    {
     "cell_type": "code",
     "collapsed": false,
     "input": [
      "Cdegrees = [-20, -15, -5, 5, 10, 15, 20]\n",
      "for C in Cdegrees:\n",
      "    print C in Cdegrees\n",
      "    F = (9.0/5)*C +32.\n",
      "    print '%5d %5.1f' % (C, F)"
     ],
     "language": "python",
     "metadata": {},
     "outputs": []
    },
    {
     "cell_type": "code",
     "collapsed": false,
     "input": [
      "Cdegrees = [-20, -15, -5, 5, 10, 15, 20]\n",
      "Fdegrees = [1, 2, 3, 3, 4, 5, 6]\n",
      "i = 0 \n",
      "while i < len(Cdegrees):\n",
      "    C = Cdegrees[i]\n",
      "    print C in Cdegrees\n",
      "    F = (9.0/5)*C +32.\n",
      "    print '%5d %5.1f' % (C, F)\n",
      "    i += 1"
     ],
     "language": "python",
     "metadata": {},
     "outputs": [
      {
       "output_type": "stream",
       "stream": "stdout",
       "text": [
        "True\n",
        "  -20  -4.0\n",
        "True\n",
        "  -15   5.0\n",
        "True\n",
        "   -5  23.0\n",
        "True\n",
        "    5  41.0\n",
        "True\n",
        "   10  50.0\n",
        "True\n",
        "   15  59.0\n",
        "True\n",
        "   20  68.0\n"
       ]
      }
     ],
     "prompt_number": 27
    },
    {
     "cell_type": "code",
     "collapsed": false,
     "input": [
      "a = [2, 23, 3, 7, 8] \n",
      "r = a[:]\n",
      "s = a  \n",
      "print 'r == a', r == a\n",
      "print 'r is a', r is a\n",
      "print 's == a', s == a\n",
      "print 's is a', s is a\n",
      "print r"
     ],
     "language": "python",
     "metadata": {},
     "outputs": [
      {
       "output_type": "stream",
       "stream": "stdout",
       "text": [
        "r == a True\n",
        "r is a False\n",
        "s == a True\n",
        "s is a True\n",
        "[2, 23, 3, 7, 8]\n"
       ]
      }
     ],
     "prompt_number": 26
    },
    {
     "cell_type": "code",
     "collapsed": false,
     "input": [
      "import copy\n",
      "c = copy.copy(a)\n",
      "print 'c == a:', c == a\n",
      "print 'c is a:', c is a\n"
     ],
     "language": "python",
     "metadata": {},
     "outputs": [
      {
       "output_type": "stream",
       "stream": "stdout",
       "text": [
        "c == a: True\n",
        "c is a: False\n"
       ]
      }
     ],
     "prompt_number": 27
    },
    {
     "cell_type": "code",
     "collapsed": false,
     "input": [
      "a.append(1.4e5)\n",
      "print 'a:', a\n",
      "print 'r:', r\n",
      "print 's:', s\n",
      "print 'c:', c"
     ],
     "language": "python",
     "metadata": {},
     "outputs": [
      {
       "output_type": "stream",
       "stream": "stdout",
       "text": [
        "a: [2, 23, 3, 7, 8, 140000.0]\n",
        "r: [2, 23, 3, 7, 8]\n",
        "s: [2, 23, 3, 7, 8, 140000.0]\n",
        "c: [2, 23, 3, 7, 8]\n"
       ]
      }
     ],
     "prompt_number": 28
    },
    {
     "cell_type": "code",
     "collapsed": false,
     "input": [
      "for i, c in enumerate(Cdegrees):\n",
      "    Cdegrees[i] = c + 2 + i\n",
      "    print i, Cdegree[i]"
     ],
     "language": "python",
     "metadata": {},
     "outputs": []
    },
    {
     "cell_type": "code",
     "collapsed": false,
     "input": [
      "s = -5.\n",
      "e = 5.\n",
      "ind = 0.5\n",
      "steps = (e-s)/ind + 1\n",
      "for i in range(int(steps)):\n",
      "    C = i\n",
      "    F = (9.0/5)*C +32.\n",
      "    print '%5d %5.1f' % (C, F)"
     ],
     "language": "python",
     "metadata": {},
     "outputs": [
      {
       "output_type": "stream",
       "stream": "stdout",
       "text": [
        "    0  32.0\n",
        "    1  33.8\n",
        "    2  35.6\n",
        "    3  37.4\n",
        "    4  39.2\n",
        "    5  41.0\n",
        "    6  42.8\n",
        "    7  44.6\n",
        "    8  46.4\n",
        "    9  48.2\n",
        "   10  50.0\n",
        "   11  51.8\n",
        "   12  53.6\n",
        "   13  55.4\n",
        "   14  57.2\n",
        "   15  59.0\n",
        "   16  60.8\n",
        "   17  62.6\n",
        "   18  64.4\n",
        "   19  66.2\n",
        "   20  68.0\n"
       ]
      }
     ],
     "prompt_number": 8
    },
    {
     "cell_type": "code",
     "collapsed": false,
     "input": [
      "Cdegrees = [-5+0.5*i for i in range(21)]\n",
      "Fdegrees = [(9.0/5)*C +32. for C in ls]\n",
      "print Cdegrees\n",
      "print Fdegrees"
     ],
     "language": "python",
     "metadata": {},
     "outputs": [
      {
       "output_type": "stream",
       "stream": "stdout",
       "text": [
        "[-5.0, -4.5, -4.0, -3.5, -3.0, -2.5, -2.0, -1.5, -1.0, -0.5, 0.0, 0.5, 1.0, 1.5, 2.0, 2.5, 3.0, 3.5, 4.0, 4.5, 5.0]\n",
        "[23.0, 23.9, 24.8, 25.7, 26.6, 27.5, 28.4, 29.3, 30.2, 31.1, 32.0, 32.9, 33.8, 34.7, 35.6, 36.5, 37.4, 38.3, 39.2, 40.1, 41.0]\n"
       ]
      }
     ],
     "prompt_number": 30
    },
    {
     "cell_type": "code",
     "collapsed": false,
     "input": [
      "zip(Cdegrees, Fdegrees)"
     ],
     "language": "python",
     "metadata": {},
     "outputs": [
      {
       "metadata": {},
       "output_type": "pyout",
       "prompt_number": 31,
       "text": [
        "[(-5.0, 23.0),\n",
        " (-4.5, 23.9),\n",
        " (-4.0, 24.8),\n",
        " (-3.5, 25.7),\n",
        " (-3.0, 26.6),\n",
        " (-2.5, 27.5),\n",
        " (-2.0, 28.4),\n",
        " (-1.5, 29.3),\n",
        " (-1.0, 30.2),\n",
        " (-0.5, 31.1),\n",
        " (0.0, 32.0),\n",
        " (0.5, 32.9),\n",
        " (1.0, 33.8),\n",
        " (1.5, 34.7),\n",
        " (2.0, 35.6),\n",
        " (2.5, 36.5),\n",
        " (3.0, 37.4),\n",
        " (3.5, 38.3),\n",
        " (4.0, 39.2),\n",
        " (4.5, 40.1),\n",
        " (5.0, 41.0)]"
       ]
      }
     ],
     "prompt_number": 31
    },
    {
     "cell_type": "code",
     "collapsed": false,
     "input": [
      "# a more pythonic format\n",
      "for C, F in zip(Cdegrees, Fdegrees):\n",
      "    print \"{:5.1f}, {:5.1f}\".format(C, F)"
     ],
     "language": "python",
     "metadata": {},
     "outputs": [
      {
       "output_type": "stream",
       "stream": "stdout",
       "text": [
        " -5.0,  23.0\n",
        " -4.5,  23.9\n",
        " -4.0,  24.8\n",
        " -3.5,  25.7\n",
        " -3.0,  26.6\n",
        " -2.5,  27.5\n",
        " -2.0,  28.4\n",
        " -1.5,  29.3\n",
        " -1.0,  30.2\n",
        " -0.5,  31.1\n",
        "  0.0,  32.0\n",
        "  0.5,  32.9\n",
        "  1.0,  33.8\n",
        "  1.5,  34.7\n",
        "  2.0,  35.6\n",
        "  2.5,  36.5\n",
        "  3.0,  37.4\n",
        "  3.5,  38.3\n",
        "  4.0,  39.2\n",
        "  4.5,  40.1\n",
        "  5.0,  41.0\n"
       ]
      }
     ],
     "prompt_number": 33
    },
    {
     "cell_type": "code",
     "collapsed": false,
     "input": [
      "[C/F for C, F in zip(Cdegrees, Fdegrees)]"
     ],
     "language": "python",
     "metadata": {},
     "outputs": [
      {
       "metadata": {},
       "output_type": "pyout",
       "prompt_number": 34,
       "text": [
        "[-0.21739130434782608,\n",
        " -0.1882845188284519,\n",
        " -0.16129032258064516,\n",
        " -0.13618677042801558,\n",
        " -0.11278195488721804,\n",
        " -0.09090909090909091,\n",
        " -0.07042253521126761,\n",
        " -0.051194539249146756,\n",
        " -0.033112582781456956,\n",
        " -0.01607717041800643,\n",
        " 0.0,\n",
        " 0.015197568389057751,\n",
        " 0.02958579881656805,\n",
        " 0.04322766570605187,\n",
        " 0.056179775280898875,\n",
        " 0.0684931506849315,\n",
        " 0.08021390374331551,\n",
        " 0.09138381201044388,\n",
        " 0.1020408163265306,\n",
        " 0.11221945137157106,\n",
        " 0.12195121951219512]"
       ]
      }
     ],
     "prompt_number": 34
    },
    {
     "cell_type": "code",
     "collapsed": false,
     "input": [
      "table2 = [[C, F] for C, F in zip(Cdegrees, Fdegrees)]\n",
      "print table2"
     ],
     "language": "python",
     "metadata": {},
     "outputs": [
      {
       "output_type": "stream",
       "stream": "stdout",
       "text": [
        "[[-5.0, 23.0], [-4.5, 23.9], [-4.0, 24.8], [-3.5, 25.7], [-3.0, 26.6], [-2.5, 27.5], [-2.0, 28.4], [-1.5, 29.3], [-1.0, 30.2], [-0.5, 31.1], [0.0, 32.0], [0.5, 32.9], [1.0, 33.8], [1.5, 34.7], [2.0, 35.6], [2.5, 36.5], [3.0, 37.4], [3.5, 38.3], [4.0, 39.2], [4.5, 40.1], [5.0, 41.0]]\n"
       ]
      }
     ],
     "prompt_number": 38
    },
    {
     "cell_type": "code",
     "collapsed": false,
     "input": [
      "table1 = [Cdegrees, Fdegrees]\n",
      "\n",
      "table1[0][3]"
     ],
     "language": "python",
     "metadata": {},
     "outputs": [
      {
       "metadata": {},
       "output_type": "pyout",
       "prompt_number": 39,
       "text": [
        "-3.5"
       ]
      }
     ],
     "prompt_number": 39
    },
    {
     "cell_type": "code",
     "collapsed": false,
     "input": [
      "table1[0:1]"
     ],
     "language": "python",
     "metadata": {},
     "outputs": [
      {
       "metadata": {},
       "output_type": "pyout",
       "prompt_number": 42,
       "text": [
        "[[-5.0,\n",
        "  -4.5,\n",
        "  -4.0,\n",
        "  -3.5,\n",
        "  -3.0,\n",
        "  -2.5,\n",
        "  -2.0,\n",
        "  -1.5,\n",
        "  -1.0,\n",
        "  -0.5,\n",
        "  0.0,\n",
        "  0.5,\n",
        "  1.0,\n",
        "  1.5,\n",
        "  2.0,\n",
        "  2.5,\n",
        "  3.0,\n",
        "  3.5,\n",
        "  4.0,\n",
        "  4.5,\n",
        "  5.0]]"
       ]
      }
     ],
     "prompt_number": 42
    },
    {
     "cell_type": "code",
     "collapsed": false,
     "input": [],
     "language": "python",
     "metadata": {},
     "outputs": []
    },
    {
     "cell_type": "code",
     "collapsed": false,
     "input": [
      "table1[0:1][0]"
     ],
     "language": "python",
     "metadata": {},
     "outputs": [
      {
       "metadata": {},
       "output_type": "pyout",
       "prompt_number": 40,
       "text": [
        "[-5.0,\n",
        " -4.5,\n",
        " -4.0,\n",
        " -3.5,\n",
        " -3.0,\n",
        " -2.5,\n",
        " -2.0,\n",
        " -1.5,\n",
        " -1.0,\n",
        " -0.5,\n",
        " 0.0,\n",
        " 0.5,\n",
        " 1.0,\n",
        " 1.5,\n",
        " 2.0,\n",
        " 2.5,\n",
        " 3.0,\n",
        " 3.5,\n",
        " 4.0,\n",
        " 4.5,\n",
        " 5.0]"
       ]
      }
     ],
     "prompt_number": 40
    },
    {
     "cell_type": "code",
     "collapsed": false,
     "input": [
      "from pprint import pprint \n",
      "pprint(table2)"
     ],
     "language": "python",
     "metadata": {},
     "outputs": [
      {
       "output_type": "stream",
       "stream": "stdout",
       "text": [
        "[[-5.0, 23.0],\n",
        " [-4.5, 23.9],\n",
        " [-4.0, 24.8],\n",
        " [-3.5, 25.7],\n",
        " [-3.0, 26.6],\n",
        " [-2.5, 27.5],\n",
        " [-2.0, 28.4],\n",
        " [-1.5, 29.3],\n",
        " [-1.0, 30.2],\n",
        " [-0.5, 31.1],\n",
        " [0.0, 32.0],\n",
        " [0.5, 32.9],\n",
        " [1.0, 33.8],\n",
        " [1.5, 34.7],\n",
        " [2.0, 35.6],\n",
        " [2.5, 36.5],\n",
        " [3.0, 37.4],\n",
        " [3.5, 38.3],\n",
        " [4.0, 39.2],\n",
        " [4.5, 40.1],\n",
        " [5.0, 41.0]]\n"
       ]
      }
     ],
     "prompt_number": 44
    },
    {
     "cell_type": "code",
     "collapsed": false,
     "input": [
      "\n",
      "print Cdegrees.index(3.0)\n",
      "for C, F in table2[Cdegrees.index(3.):Cdegrees.index(5.)]:\n",
      "    print "
     ],
     "language": "python",
     "metadata": {},
     "outputs": []
    },
    {
     "cell_type": "code",
     "collapsed": false,
     "input": [
      "scores = []\n",
      "scores.append([12, 16, 11, 12])\n",
      "scores.append([9])\n",
      "scores.append([6,9,11,14,17,15,14,20])\n",
      "\n",
      " \n",
      "for p in scores:\n",
      "    for g in p:\n",
      "        print '{:4d}'.format(g)\n",
      "    print\n",
      "        "
     ],
     "language": "python",
     "metadata": {},
     "outputs": [
      {
       "output_type": "stream",
       "stream": "stdout",
       "text": [
        "  12\n",
        "  16\n",
        "  11\n",
        "  12\n",
        "\n",
        "   9\n",
        "\n",
        "   6\n",
        "   9\n",
        "  11\n",
        "  14\n",
        "  17\n",
        "  15\n",
        "  14\n",
        "  20\n",
        "\n"
       ]
      }
     ],
     "prompt_number": 49
    },
    {
     "cell_type": "code",
     "collapsed": false,
     "input": [
      "for p in scores:\n",
      "    for g in p:\n",
      "        print '{:4d}'.format(g),\n",
      "    print"
     ],
     "language": "python",
     "metadata": {},
     "outputs": [
      {
       "output_type": "stream",
       "stream": "stdout",
       "text": [
        "  12   16   11   12\n",
        "   9\n",
        "   6    9   11   14   17   15   14   20\n"
       ]
      }
     ],
     "prompt_number": 50
    },
    {
     "cell_type": "code",
     "collapsed": false,
     "input": [
      "for p in scores:\n",
      "    for g in p:\n",
      "        print '{:4d}'.format(g),\n",
      "        print\n",
      "        "
     ],
     "language": "python",
     "metadata": {},
     "outputs": [
      {
       "output_type": "stream",
       "stream": "stdout",
       "text": [
        "  12\n",
        "  16\n",
        "  11\n",
        "  12\n",
        "   9\n",
        "   6\n",
        "   9\n",
        "  11\n",
        "  14\n",
        "  17\n",
        "  15\n",
        "  14\n",
        "  20\n"
       ]
      }
     ],
     "prompt_number": 48
    },
    {
     "cell_type": "code",
     "collapsed": false,
     "input": [
      "t = ('shark', 2, 'text.txt', 6.0)\n",
      "t[1]\n"
     ],
     "language": "python",
     "metadata": {},
     "outputs": [
      {
       "metadata": {},
       "output_type": "pyout",
       "prompt_number": 51,
       "text": [
        "2"
       ]
      }
     ],
     "prompt_number": 51
    },
    {
     "cell_type": "code",
     "collapsed": false,
     "input": [
      "t[1] = 4"
     ],
     "language": "python",
     "metadata": {},
     "outputs": [
      {
       "ename": "TypeError",
       "evalue": "'tuple' object does not support item assignment",
       "output_type": "pyerr",
       "traceback": [
        "\u001b[0;31m---------------------------------------------------------------------------\u001b[0m\n\u001b[0;31mTypeError\u001b[0m                                 Traceback (most recent call last)",
        "\u001b[0;32m<ipython-input-52-141c76cb54a2>\u001b[0m in \u001b[0;36m<module>\u001b[0;34m()\u001b[0m\n\u001b[0;32m----> 1\u001b[0;31m \u001b[0mt\u001b[0m\u001b[0;34m[\u001b[0m\u001b[0;36m1\u001b[0m\u001b[0;34m]\u001b[0m \u001b[0;34m=\u001b[0m \u001b[0;36m4\u001b[0m\u001b[0;34m\u001b[0m\u001b[0m\n\u001b[0m",
        "\u001b[0;31mTypeError\u001b[0m: 'tuple' object does not support item assignment"
       ]
      }
     ],
     "prompt_number": 52
    },
    {
     "cell_type": "code",
     "collapsed": false,
     "input": [
      "l = ['shark', 2, 'text.txt', 6.0]\n",
      "l = l + [4.5]\n",
      "print l\n"
     ],
     "language": "python",
     "metadata": {},
     "outputs": [
      {
       "output_type": "stream",
       "stream": "stdout",
       "text": [
        "['shark', 2, 'text.txt', 6.0, 4.5]\n"
       ]
      }
     ],
     "prompt_number": 53
    },
    {
     "cell_type": "code",
     "collapsed": false,
     "input": [
      "t = ('shark', 2, 'text.txt', 6.0)\n",
      "t = t + (4, 5)\n",
      "print t"
     ],
     "language": "python",
     "metadata": {},
     "outputs": [
      {
       "output_type": "stream",
       "stream": "stdout",
       "text": [
        "('shark', 2, 'text.txt', 6.0, 4, 5)\n"
       ]
      }
     ],
     "prompt_number": 56
    },
    {
     "cell_type": "code",
     "collapsed": false,
     "input": [
      "# t = t + 4 or t = t + (4) doesn't work\n",
      "t = ('shark', 2, 'text.txt', 6.0)\n",
      "t = t + (4,)\n",
      "print t"
     ],
     "language": "python",
     "metadata": {},
     "outputs": [
      {
       "output_type": "stream",
       "stream": "stdout",
       "text": [
        "('shark', 2, 'text.txt', 6.0, 4)\n"
       ]
      }
     ],
     "prompt_number": 58
    },
    {
     "cell_type": "code",
     "collapsed": false,
     "input": [
      "# Functions \n",
      "\n",
      "def F(C):\n",
      "    return (9./5)*C +32.\n",
      "\n",
      "a = 10.\n",
      "F1 = F(a)\n",
      "F1"
     ],
     "language": "python",
     "metadata": {},
     "outputs": [
      {
       "metadata": {},
       "output_type": "pyout",
       "prompt_number": 60,
       "text": [
        "50.0"
       ]
      }
     ],
     "prompt_number": 60
    },
    {
     "cell_type": "code",
     "collapsed": false,
     "input": [
      "print F(a+1)"
     ],
     "language": "python",
     "metadata": {},
     "outputs": [
      {
       "output_type": "stream",
       "stream": "stdout",
       "text": [
        "51.8\n"
       ]
      }
     ],
     "prompt_number": 61
    }
   ],
   "metadata": {}
  }
 ]
}