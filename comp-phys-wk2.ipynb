{
 "metadata": {
  "name": ""
 },
 "nbformat": 3,
 "nbformat_minor": 0,
 "worksheets": [
  {
   "cells": [
    {
     "cell_type": "code",
     "collapsed": false,
     "input": [
      "from math import pi\n",
      "s = 0\n",
      "max = 1000\n",
      "\n",
      "for i in range(max):\n",
      "    s += 1./(i+1)**2\n",
      "    \n",
      "print 'With the for loop, the sum is', s\n",
      "\n",
      "#need to re-initialize i and s\n",
      "i = 1\n",
      "s = 0\n",
      "\n",
      "while i <= max:\n",
      "    s += 1./i**2\n",
      "    i = i + 1\n",
      "    \n",
      "print 'With the while loop, the sum is', s\n",
      "\n",
      "print 'correct answer:', pi**2/6."
     ],
     "language": "python",
     "metadata": {},
     "outputs": []
    },
    {
     "cell_type": "code",
     "collapsed": false,
     "input": [
      "a = 'hello'\n",
      "space = ' '\n",
      "b = 'world'\n",
      "print a + space + b\n"
     ],
     "language": "python",
     "metadata": {},
     "outputs": []
    },
    {
     "cell_type": "code",
     "collapsed": false,
     "input": [
      "print a < a+1\n",
      "print a > a-1"
     ],
     "language": "python",
     "metadata": {},
     "outputs": []
    },
    {
     "cell_type": "code",
     "collapsed": false,
     "input": [
      "a = 10 \n",
      "print int(a<a+1)\n",
      "print int(a>a+1)\n"
     ],
     "language": "python",
     "metadata": {},
     "outputs": []
    },
    {
     "cell_type": "code",
     "collapsed": false,
     "input": [
      "b = bool(1)\n",
      "print b\n",
      "b = bool(20)\n",
      "print b\n",
      "b = bool(-3)\n",
      "print b\n",
      "b = bool(0)\n",
      "print b\n",
      "b = bool(0.)\n",
      "print b\n",
      "b = bool(2.5)\n",
      "print b"
     ],
     "language": "python",
     "metadata": {},
     "outputs": []
    },
    {
     "cell_type": "code",
     "collapsed": false,
     "input": [
      "Cdegrees = [-20, -15, -5, 5, 10, 15, 20]\n",
      "for C in Cdegrees:\n",
      "    print C in Cdegrees\n",
      "    F = (9.0/5)*C +32.\n",
      "    print '%5d %5.1f' % (C, F)"
     ],
     "language": "python",
     "metadata": {},
     "outputs": []
    },
    {
     "cell_type": "code",
     "collapsed": false,
     "input": [
      "Cdegrees = [-20, -15, -5, 5, 10, 15, 20]\n",
      "i = 0 \n",
      "while i < len(Cdegrees):\n",
      "    C = Cdegrees[i]\n",
      "    print C in Cdegrees\n",
      "    F = (9.0/5)*C +32.\n",
      "    print '%5d %5.1f' % (C, F)\n",
      "    i += 1"
     ],
     "language": "python",
     "metadata": {},
     "outputs": []
    },
    {
     "cell_type": "code",
     "collapsed": false,
     "input": [
      "a = [2, 23, 3, 7, 8] \n",
      "r = a[:]\n",
      "s = a  \n",
      "print 'r == a', r == a\n",
      "print 'r is a', r is a\n",
      "print 's == a', s == a\n",
      "print 's is a', s is a\n",
      "print r"
     ],
     "language": "python",
     "metadata": {},
     "outputs": [
      {
       "output_type": "stream",
       "stream": "stdout",
       "text": [
        "r == a True\n",
        "r is a False\n",
        "s == a True\n",
        "s is a True\n",
        "[2, 23, 3, 7, 8]\n"
       ]
      }
     ],
     "prompt_number": 26
    },
    {
     "cell_type": "code",
     "collapsed": false,
     "input": [
      "import copy\n",
      "c = copy.copy(a)\n",
      "print 'c == a:', c == a\n",
      "print 'c is a:', c is a\n"
     ],
     "language": "python",
     "metadata": {},
     "outputs": [
      {
       "output_type": "stream",
       "stream": "stdout",
       "text": [
        "c == a: True\n",
        "c is a: False\n"
       ]
      }
     ],
     "prompt_number": 27
    },
    {
     "cell_type": "code",
     "collapsed": false,
     "input": [
      "a.append(1.4e5)\n",
      "print 'a:', a\n",
      "print 'r:', r\n",
      "print 's:', s\n",
      "print 'c:', c"
     ],
     "language": "python",
     "metadata": {},
     "outputs": [
      {
       "output_type": "stream",
       "stream": "stdout",
       "text": [
        "a: [2, 23, 3, 7, 8, 140000.0]\n",
        "r: [2, 23, 3, 7, 8]\n",
        "s: [2, 23, 3, 7, 8, 140000.0]\n",
        "c: [2, 23, 3, 7, 8]\n"
       ]
      }
     ],
     "prompt_number": 28
    }
   ],
   "metadata": {}
  }
 ]
}