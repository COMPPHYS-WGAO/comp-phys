{
 "metadata": {
  "name": ""
 },
 "nbformat": 3,
 "nbformat_minor": 0,
 "worksheets": [
  {
   "cells": [
    {
     "cell_type": "code",
     "collapsed": false,
     "input": [
      "import numpy as np"
     ],
     "language": "python",
     "metadata": {},
     "outputs": [],
     "prompt_number": 1
    },
    {
     "cell_type": "code",
     "collapsed": false,
     "input": [
      "#turning a list in to a numpy array\n",
      "r = range (1,10)\n",
      "a = np.array(r)\n",
      "print type(r)\n",
      "print a, type(a)\n"
     ],
     "language": "python",
     "metadata": {},
     "outputs": [
      {
       "output_type": "stream",
       "stream": "stdout",
       "text": [
        "<type 'list'>\n",
        "[1 2 3 4 5 6 7 8 9] <type 'numpy.ndarray'>\n"
       ]
      }
     ],
     "prompt_number": 10
    },
    {
     "cell_type": "code",
     "collapsed": false,
     "input": [
      "b = np.zeros(10)\n",
      "print b, type(b)\n"
     ],
     "language": "python",
     "metadata": {},
     "outputs": [
      {
       "output_type": "stream",
       "stream": "stdout",
       "text": [
        "[ 0.  0.  0.  0.  0.  0.  0.  0.  0.  0.] <type 'numpy.ndarray'>\n"
       ]
      }
     ],
     "prompt_number": 3
    },
    {
     "cell_type": "code",
     "collapsed": false,
     "input": [
      "d = np.linspace(1, 12.4, 20)\n",
      "print d, type(d)\n",
      "print len(d)\n",
      "#np.linspace() gives numbers that are evenly spaced"
     ],
     "language": "python",
     "metadata": {},
     "outputs": [
      {
       "output_type": "stream",
       "stream": "stdout",
       "text": [
        "[  1.    1.6   2.2   2.8   3.4   4.    4.6   5.2   5.8   6.4   7.    7.6\n",
        "   8.2   8.8   9.4  10.   10.6  11.2  11.8  12.4] <type 'numpy.ndarray'>\n",
        "20\n"
       ]
      }
     ],
     "prompt_number": 6
    },
    {
     "cell_type": "code",
     "collapsed": false,
     "input": [
      "# array slicing\n",
      "d = b[1:-1]\n",
      "d[3] = 0.2\n",
      "print 'd=', d\n",
      "print 'b=', b"
     ],
     "language": "python",
     "metadata": {},
     "outputs": [
      {
       "output_type": "stream",
       "stream": "stdout",
       "text": [
        "d= [ 0.   0.   0.   0.2  0.   0.   0.   0. ]\n",
        "b= [ 0.   0.   0.   0.   0.2  0.   0.   0.   0.   0. ]\n"
       ]
      }
     ],
     "prompt_number": 8
    },
    {
     "cell_type": "code",
     "collapsed": false,
     "input": [
      "# why arrays are important\n",
      "x = np.linspace(-1, 1, 100)\n",
      "y = np.exp(x)\n",
      "print y\n"
     ],
     "language": "python",
     "metadata": {},
     "outputs": [
      {
       "output_type": "stream",
       "stream": "stdout",
       "text": [
        "[ 0.36787944  0.37538693  0.38304762  0.39086465  0.39884121  0.40698054\n",
        "  0.41528598  0.42376092  0.4324088   0.44123317  0.45023762  0.45942582\n",
        "  0.46880154  0.47836859  0.48813088  0.49809239  0.50825719  0.51862943\n",
        "  0.52921334  0.54001324  0.55103354  0.56227874  0.57375342  0.58546227\n",
        "  0.59741007  0.60960169  0.62204212  0.63473642  0.64768978  0.66090748\n",
        "  0.67439493  0.68815762  0.70220117  0.71653131  0.7311539   0.74607489\n",
        "  0.76130039  0.7768366   0.79268986  0.80886665  0.82537356  0.84221734\n",
        "  0.85940486  0.87694313  0.89483932  0.91310072  0.93173478  0.95074913\n",
        "  0.9701515   0.98994983  1.0101522   1.03076684  1.05180218  1.07326679\n",
        "  1.09516944  1.11751907  1.1403248   1.16359593  1.18734197  1.21157261\n",
        "  1.23629773  1.26152743  1.287272    1.31354196  1.34034801  1.36770112\n",
        "  1.39561243  1.42409333  1.45315546  1.48281068  1.51307108  1.54394902\n",
        "  1.5754571   1.60760818  1.64041539  1.6738921   1.70805199  1.742909\n",
        "  1.77847735  1.81477156  1.85180644  1.88959711  1.92815899  1.96750782\n",
        "  2.00765966  2.0486309   2.09043826  2.1330988   2.17662993  2.22104942\n",
        "  2.26637541  2.31262638  2.35982121  2.40797917  2.45711992  2.5072635\n",
        "  2.55843038  2.61064146  2.66391802  2.71828183]\n"
       ]
      }
     ],
     "prompt_number": 11
    },
    {
     "cell_type": "code",
     "collapsed": false,
     "input": [
      "# write a function that creats of series of temp values in c and then compute the Fahrenheit equivalents\n",
      "def CtoF(Tstart, Tend, numsteps):\n",
      "    c = np.linspace(Tstart, Tend, numsteps)\n",
      "    f = (9/5.)*c +\n",
      "    "
     ],
     "language": "python",
     "metadata": {},
     "outputs": [
      {
       "ename": "IndentationError",
       "evalue": "expected an indented block (<ipython-input-12-590b92eb3d6d>, line 3)",
       "output_type": "pyerr",
       "traceback": [
        "\u001b[0;36m  File \u001b[0;32m\"<ipython-input-12-590b92eb3d6d>\"\u001b[0;36m, line \u001b[0;32m3\u001b[0m\n\u001b[0;31m    \u001b[0m\n\u001b[0m    ^\u001b[0m\n\u001b[0;31mIndentationError\u001b[0m\u001b[0;31m:\u001b[0m expected an indented block\n"
       ]
      }
     ],
     "prompt_number": 12
    },
    {
     "cell_type": "code",
     "collapsed": false,
     "input": [
      "def CtoF(Tstart, Tend, numsteps):\n",
      "    C = []\n",
      "    for i in range(numsteps):\n",
      "        C.append("
     ],
     "language": "python",
     "metadata": {},
     "outputs": [
      {
       "ename": "SyntaxError",
       "evalue": "invalid syntax (<ipython-input-13-f04b85af6c22>, line 4)",
       "output_type": "pyerr",
       "traceback": [
        "\u001b[0;36m  File \u001b[0;32m\"<ipython-input-13-f04b85af6c22>\"\u001b[0;36m, line \u001b[0;32m4\u001b[0m\n\u001b[0;31m    C.append(\u001b[0m\n\u001b[0m             ^\u001b[0m\n\u001b[0;31mSyntaxError\u001b[0m\u001b[0;31m:\u001b[0m invalid syntax\n"
       ]
      }
     ],
     "prompt_number": 13
    },
    {
     "cell_type": "code",
     "collapsed": false,
     "input": [
      "x = np.arange(1, 10, 1.)\n",
      "print type(x), x.dtype\n",
      "print x\n",
      "y = np.arange(1, 10,1., dtype= np.int64)\n",
      "print type(y), y.dtype\n",
      "print y"
     ],
     "language": "python",
     "metadata": {},
     "outputs": [
      {
       "output_type": "stream",
       "stream": "stdout",
       "text": [
        "<type 'numpy.ndarray'> float64\n",
        "[ 1.  2.  3.  4.  5.  6.  7.  8.  9.]\n",
        "<type 'numpy.ndarray'> int64\n",
        "[1 2 3 4 5 6 7 8 9]\n"
       ]
      }
     ],
     "prompt_number": 21
    },
    {
     "cell_type": "code",
     "collapsed": false,
     "input": [],
     "language": "python",
     "metadata": {},
     "outputs": []
    },
    {
     "cell_type": "code",
     "collapsed": false,
     "input": [
      "to find oout numpy version"
     ],
     "language": "python",
     "metadata": {},
     "outputs": []
    },
    {
     "cell_type": "code",
     "collapsed": false,
     "input": [
      "import numpy as np\n",
      "np.__version__"
     ],
     "language": "python",
     "metadata": {},
     "outputs": [
      {
       "metadata": {},
       "output_type": "pyout",
       "prompt_number": 22,
       "text": [
        "'1.8.0'"
       ]
      }
     ],
     "prompt_number": 22
    },
    {
     "cell_type": "code",
     "collapsed": false,
     "input": [
      "array index\n"
     ],
     "language": "python",
     "metadata": {},
     "outputs": [
      {
       "ename": "SyntaxError",
       "evalue": "invalid syntax (<ipython-input-23-03b148a7dfd7>, line 1)",
       "output_type": "pyerr",
       "traceback": [
        "\u001b[0;36m  File \u001b[0;32m\"<ipython-input-23-03b148a7dfd7>\"\u001b[0;36m, line \u001b[0;32m1\u001b[0m\n\u001b[0;31m    array index\u001b[0m\n\u001b[0m              ^\u001b[0m\n\u001b[0;31mSyntaxError\u001b[0m\u001b[0;31m:\u001b[0m invalid syntax\n"
       ]
      }
     ],
     "prompt_number": 23
    },
    {
     "cell_type": "code",
     "collapsed": false,
     "input": [
      "x = np.linspace(1, 10, 10)\n",
      "idx = x > 5 # array of booleans\n",
      "print idx\n",
      "print 'number of elements with value greater then 5:',  sum(idx)\n",
      "y = x[idx]\n",
      "print y"
     ],
     "language": "python",
     "metadata": {},
     "outputs": [
      {
       "output_type": "stream",
       "stream": "stdout",
       "text": [
        "[False False False False False  True  True  True  True  True]\n",
        "number of elements with value greater then 5: 5\n",
        "[  6.   7.   8.   9.  10.]\n"
       ]
      }
     ],
     "prompt_number": 25
    },
    {
     "cell_type": "code",
     "collapsed": false,
     "input": [
      "x = np.linspace(1, 10, 10)\n",
      "idx = np.where(x > 5) #it gives the index, not the elements\n",
      "print idx\n",
      "print 'number of elements with value greater then 5:',  len(idx)\n",
      "print 'number of elements with value greater then 5:', len(idx[0])\n",
      "\n",
      "y = x[idx]\n",
      "print y"
     ],
     "language": "python",
     "metadata": {},
     "outputs": [
      {
       "output_type": "stream",
       "stream": "stdout",
       "text": [
        "(array([5, 6, 7, 8, 9]),)\n",
        "number of elements with value greater then 5: 1\n",
        "number of elements with value greater then 5: 5\n",
        "[  6.   7.   8.   9.  10.]\n"
       ]
      }
     ],
     "prompt_number": 31
    },
    {
     "cell_type": "code",
     "collapsed": false,
     "input": [
      "#Module for Plotting -- matplotlib"
     ],
     "language": "python",
     "metadata": {},
     "outputs": [],
     "prompt_number": 32
    },
    {
     "cell_type": "code",
     "collapsed": false,
     "input": [
      "%matplotlib inline\n",
      "import matplotlib.pyplot as plt\n",
      "y = np.linspace(1, 100, 10)\n",
      "# x is assumed to be the index\n",
      "plt.plot(y)\n",
      "plt.show()"
     ],
     "language": "python",
     "metadata": {},
     "outputs": [
      {
       "metadata": {},
       "output_type": "display_data",
       "png": "[encoded data removed]",
       "text": [
        "<matplotlib.figure.Figure at 0x10bbe52d0>"
       ]
      }
     ],
     "prompt_number": 35
    },
    {
     "cell_type": "code",
     "collapsed": false,
     "input": [
      "%matplotlib osx\n",
      "import matplotlib.pyplot as plt\n",
      "y = np.linspace(1, 100, 10)\n",
      "# x is assumed to be the index\n",
      "plt.plot(y)\n",
      "plt.show()"
     ],
     "language": "python",
     "metadata": {},
     "outputs": [],
     "prompt_number": 37
    },
    {
     "cell_type": "code",
     "collapsed": false,
     "input": [
      "%matplotlib inline\n",
      "import numpy as plt\n",
      "import matplotlib.pyplot as plt\n",
      "y = np.linspace(1e-6, 15, 1000)\n",
      "b = y**3/(np.exp(y)-1)\n",
      "plt.plot(y, b)\n",
      "plt.xlabel('frepuency')\n",
      "plt.ylabel('eneergy density')\n",
      "plt.title('black body spectrum')\n",
      "plt.savefig('planck.pdf')\n",
      "# x is assumed to be the index\n",
      "\n",
      "plt.show()"
     ],
     "language": "python",
     "metadata": {},
     "outputs": [
      {
       "metadata": {},
       "output_type": "display_data",
       "png": "[encoded data removed]",
       "text": [
        "<matplotlib.figure.Figure at 0x10c214c90>"
       ]
      }
     ],
     "prompt_number": 46
    },
    {
     "cell_type": "code",
     "collapsed": false,
     "input": [
      "#Breakout:plot y = cos(-e^x), give title (frequency modulation)\n",
      "%matplotlib inline\n",
      "import numpy as plt\n",
      "import matplotlib.pyplot as plt\n",
      "x = np.linspace(0, np.pi, 100)\n",
      "y = np.cos(-np.exp(x))\n",
      "plt.plot(x, y)\n",
      "plt.xlabel('radians')\n",
      "plt.ylabel('cos(-e^x)')\n",
      "plt.title('frequency modulation')\n",
      "plt.savefig('frequency modulation.pdf')\n",
      "# x is assumed to be the index\n",
      "\n",
      "plt.show()"
     ],
     "language": "python",
     "metadata": {},
     "outputs": [
      {
       "metadata": {},
       "output_type": "display_data",
       "png": "[encoded data removed]",
       "text": [
        "<matplotlib.figure.Figure at 0x10c232950>"
       ]
      }
     ],
     "prompt_number": 48
    },
    {
     "cell_type": "code",
     "collapsed": false,
     "input": [
      "from pylab import *\n",
      "Xmin = 0.\n",
      "Xmax = pi\n",
      "DelX = 0.01\n",
      "x = np.arange(Xmin, Xmax, DelX)\n",
      "y = np.cos(exp(x))"
     ],
     "language": "python",
     "metadata": {},
     "outputs": []
    },
    {
     "cell_type": "code",
     "collapsed": false,
     "input": [
      "# there are often multiple ways of accomplishog the same thing\n",
      "Xmin = -5.0; Xmax = 5.0\n",
      "Npoints = 500\n",
      "DelX = (Xmax - Xmin)/Npoints\n",
      "x = np.arange(Xmin, Xmax, DelX)\n",
      "y1 = -np.sin(x)*np.cos(x**2)\n",
      "y2 = np.exp(-x/4.)*np.sin(x)\n",
      "\n",
      "\n",
      "fig = plt.figure()\n",
      "#fig = plt.figure(figsize = (15,5))\n",
      "ax = fig.add_subplot(211) #211: first = row: second = column; third = first of two\n",
      "fig.subplots_adjust(top=0.85) # moves plot down a little\n",
      "plt.title('Two Functions')\n",
      "\n",
      "#plt.plot(x, yl, 'r', lw = 2)\n",
      "plt.plot(x, y1, 'r.', lw = 2)\n",
      "plt.grid(True)\n",
      "ax.set_ylabel('y1')\n",
      "\n",
      "\n",
      "plt.subplot(212)\n",
      "#pltplot(x, y2, 'g', lw=2)\n",
      "plt.plot(x, y2, 'g--', lw = 2)\n",
      "plt.xlabel('x')\n",
      "plt.ylabel('y2')\n",
      "\n",
      "plt.show()"
     ],
     "language": "python",
     "metadata": {},
     "outputs": [
      {
       "metadata": {},
       "output_type": "display_data",
       "png": "[encoded data removed]",
       "text": [
        "<matplotlib.figure.Figure at 0x10bbcf4d0>"
       ]
      }
     ],
     "prompt_number": 53
    },
    {
     "cell_type": "code",
     "collapsed": false,
     "input": [
      "def g(x, y):\n",
      "    return x**2+y**2\n",
      "z = g(2., 3.)\n",
      "print z\n"
     ],
     "language": "python",
     "metadata": {},
     "outputs": [
      {
       "output_type": "stream",
       "stream": "stdout",
       "text": [
        "13.0\n"
       ]
      }
     ],
     "prompt_number": 2
    },
    {
     "cell_type": "code",
     "collapsed": false,
     "input": [
      "#%matplotlib inline\n",
      "%matplotlib osx\n",
      "from mpl_toolkits.mplot3d import axes3d\n",
      "import matplotlib.pyplot as plt\n",
      "import numpy as np\n",
      "from matplotlib import cm #colormap\n",
      "\n",
      "fig = plt.figure()\n",
      "ax = fig.add_subplot(111, projection = '3d')\n",
      "x = y = np.linspace(-5, 5, 100)\n",
      "xv, yv = np.meshgrid(x,y)\n",
      "z = g(xv,yv)\n",
      "#ax.plot_wireframe(xv, yv, z, rstride = 5, cstride = 5, linewidth = 1)\n",
      "ax.plot_surface(xv, yv, z, rstride = 1, cstride = 1, cmap=cm.coolwarm, linewidth = 0)\n",
      "plt.show()\n",
      "\n",
      "\n",
      "\n",
      "\n"
     ],
     "language": "python",
     "metadata": {},
     "outputs": [],
     "prompt_number": 6
    },
    {
     "cell_type": "code",
     "collapsed": false,
     "input": [
      "\n",
      "\n",
      "#%matplotlib inline\n",
      "%matplotlib osx\n",
      "from mpl_toolkits.mplot3d import axes3d\n",
      "import matplotlib.pyplot as plt\n",
      "import numpy as np\n",
      "from matplotlib import cm #colormap\n",
      "\n",
      "def f(x, y, a=1, b=1, R=-10):\n",
      "    fx = a*x**2 - b*y**2 - R**2\n",
      "    return fx\n",
      "\n",
      "fig = plt.figure()\n",
      "ax = fig.add_subplot(111, projection = '3d')\n",
      "x = y = np.linspace(-5, 5, 100)\n",
      "xv, yv = np.meshgrid(x,y)\n",
      "z = f(xv,yv)\n",
      "#ax.plot_wireframe(xv, yv, z, rstride = 5, cstride = 5, linewidth = 1)\n",
      "ax.plot_surface(xv, yv, z, rstride = 1, cstride = 1, cmap=cm.coolwarm, linewidth = 0)\n",
      "plt.show()\n"
     ],
     "language": "python",
     "metadata": {},
     "outputs": [],
     "prompt_number": 8
    },
    {
     "cell_type": "code",
     "collapsed": false,
     "input": [
      "'''\n",
      "    >>> primenum(1, 3)\n",
      "    [1, 2, 3]\n",
      "\n",
      "    python FindPrimeNumber.py -x 2. -y 20.\n",
      "    \n",
      "    python -m doctest -v FindPrimeNumber.py\n",
      "\n",
      "\n",
      "'''\n",
      "\n",
      "import numpy as np\n",
      "def primenum(i, e):\n",
      "    r = np.array(range(i, e+1))\n",
      "    ls = []\n",
      "    for k in r:\n",
      "        j = 0\n",
      "        for a in range(1, e+1):\n",
      "            if k%a == 0:\n",
      "                j+=1\n",
      "        if j <= 2:\n",
      "            ls.append(k)\n",
      "    return ls\n",
      "\n",
      "\n",
      "if __name__ == \"__main__\":\n",
      "\n",
      "    import doctest\n",
      "    import argparse\n",
      "    parser = argparse.ArgumentParser()\n",
      "    parser.add_argument('-i', '-e', type = float)\n",
      "    args = parser.parse_args()\n",
      "    x = args.i\n",
      "    y = args.e\n",
      "    primenum = primenum(x, y)\n",
      "    print 'Prime numnbers in between', x, 'and', y, 'is', primenum\n",
      "\n",
      "\n"
     ],
     "language": "python",
     "metadata": {},
     "outputs": [
      {
       "ename": "SystemExit",
       "evalue": "2",
       "output_type": "pyerr",
       "traceback": [
        "An exception has occurred, use %tb to see the full traceback.\n",
        "\u001b[0;31mSystemExit\u001b[0m\u001b[0;31m:\u001b[0m 2\n"
       ]
      },
      {
       "output_type": "stream",
       "stream": "stderr",
       "text": [
        "usage: -c [-h] [-x X]\n",
        "-c: error: unrecognized arguments: -f /Users/gaowenyi/.ipython/profile_default/security/kernel-6ca489e2-26cf-4cb3-807c-e637a55c6f0e.json --IPKernelApp.parent_appname='ipython-notebook' --profile-dir /Users/gaowenyi/.ipython/profile_default --parent=1\n",
        "To exit: use 'exit', 'quit', or Ctrl-D.\n"
       ]
      }
     ],
     "prompt_number": 7
    },
    {
     "cell_type": "code",
     "collapsed": false,
     "input": [
      "def inverse(x):\n",
      "    if x == 0:\n",
      "#         raise ZeroDivisionError('cannot divide by 0')\n",
      "        raise ValueError('cannot divide by 0')\n",
      "    return 1./x\n",
      "\n",
      "y = inverse(0)\n",
      "print y"
     ],
     "language": "python",
     "metadata": {},
     "outputs": [
      {
       "ename": "ValueError",
       "evalue": "cannot divide by 0",
       "output_type": "pyerr",
       "traceback": [
        "\u001b[0;31m---------------------------------------------------------------------------\u001b[0m\n\u001b[0;31mValueError\u001b[0m                                Traceback (most recent call last)",
        "\u001b[0;32m<ipython-input-3-f0e44ffa7332>\u001b[0m in \u001b[0;36m<module>\u001b[0;34m()\u001b[0m\n\u001b[1;32m      5\u001b[0m     \u001b[0;32mreturn\u001b[0m \u001b[0;36m1.\u001b[0m\u001b[0;34m/\u001b[0m\u001b[0mx\u001b[0m\u001b[0;34m\u001b[0m\u001b[0m\n\u001b[1;32m      6\u001b[0m \u001b[0;34m\u001b[0m\u001b[0m\n\u001b[0;32m----> 7\u001b[0;31m \u001b[0my\u001b[0m \u001b[0;34m=\u001b[0m \u001b[0minverse\u001b[0m\u001b[0;34m(\u001b[0m\u001b[0;36m0\u001b[0m\u001b[0;34m)\u001b[0m\u001b[0;34m\u001b[0m\u001b[0m\n\u001b[0m\u001b[1;32m      8\u001b[0m \u001b[0;32mprint\u001b[0m \u001b[0my\u001b[0m\u001b[0;34m\u001b[0m\u001b[0m\n",
        "\u001b[0;32m<ipython-input-3-f0e44ffa7332>\u001b[0m in \u001b[0;36minverse\u001b[0;34m(x)\u001b[0m\n\u001b[1;32m      2\u001b[0m     \u001b[0;32mif\u001b[0m \u001b[0mx\u001b[0m \u001b[0;34m==\u001b[0m \u001b[0;36m0\u001b[0m\u001b[0;34m:\u001b[0m\u001b[0;34m\u001b[0m\u001b[0m\n\u001b[1;32m      3\u001b[0m \u001b[0;31m#         raise ZeroDivisionError('cannot divide by 0')\u001b[0m\u001b[0;34m\u001b[0m\u001b[0;34m\u001b[0m\u001b[0m\n\u001b[0;32m----> 4\u001b[0;31m         \u001b[0;32mraise\u001b[0m \u001b[0mValueError\u001b[0m\u001b[0;34m(\u001b[0m\u001b[0;34m'cannot divide by 0'\u001b[0m\u001b[0;34m)\u001b[0m\u001b[0;34m\u001b[0m\u001b[0m\n\u001b[0m\u001b[1;32m      5\u001b[0m     \u001b[0;32mreturn\u001b[0m \u001b[0;36m1.\u001b[0m\u001b[0;34m/\u001b[0m\u001b[0mx\u001b[0m\u001b[0;34m\u001b[0m\u001b[0m\n\u001b[1;32m      6\u001b[0m \u001b[0;34m\u001b[0m\u001b[0m\n",
        "\u001b[0;31mValueError\u001b[0m: cannot divide by 0"
       ]
      }
     ],
     "prompt_number": 3
    },
    {
     "cell_type": "code",
     "collapsed": false,
     "input": [
      "x =0\n",
      "print 1/x"
     ],
     "language": "python",
     "metadata": {},
     "outputs": [
      {
       "ename": "ZeroDivisionError",
       "evalue": "integer division or modulo by zero",
       "output_type": "pyerr",
       "traceback": [
        "\u001b[0;31m---------------------------------------------------------------------------\u001b[0m\n\u001b[0;31mZeroDivisionError\u001b[0m                         Traceback (most recent call last)",
        "\u001b[0;32m<ipython-input-1-601c27a5652a>\u001b[0m in \u001b[0;36m<module>\u001b[0;34m()\u001b[0m\n\u001b[1;32m      1\u001b[0m \u001b[0mx\u001b[0m \u001b[0;34m=\u001b[0m\u001b[0;36m0\u001b[0m\u001b[0;34m\u001b[0m\u001b[0m\n\u001b[0;32m----> 2\u001b[0;31m \u001b[0;32mprint\u001b[0m \u001b[0;36m1\u001b[0m\u001b[0;34m/\u001b[0m\u001b[0mx\u001b[0m\u001b[0;34m\u001b[0m\u001b[0m\n\u001b[0m",
        "\u001b[0;31mZeroDivisionError\u001b[0m: integer division or modulo by zero"
       ]
      }
     ],
     "prompt_number": 1
    },
    {
     "cell_type": "code",
     "collapsed": false,
     "input": [
      "## Strings are lists\n",
      "\n",
      "s = 'Hey Yo'\n",
      "print s[0]\n",
      "print len(s)\n",
      "\n",
      "for c in s:\n",
      "    print c\n",
      "    "
     ],
     "language": "python",
     "metadata": {},
     "outputs": [
      {
       "output_type": "stream",
       "stream": "stdout",
       "text": [
        "H\n",
        "6\n",
        "H\n",
        "e\n",
        "y\n",
        " \n",
        "Y\n",
        "o\n"
       ]
      }
     ],
     "prompt_number": 4
    },
    {
     "cell_type": "code",
     "collapsed": false,
     "input": [
      "#line continuation character\n",
      "\n",
      "print ' this is a very\\\n",
      "long sentence"
     ],
     "language": "python",
     "metadata": {},
     "outputs": []
    }
   ],
   "metadata": {}
  }
 ]
}