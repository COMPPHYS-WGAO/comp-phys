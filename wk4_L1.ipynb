{
 "metadata": {
  "name": ""
 },
 "nbformat": 3,
 "nbformat_minor": 0,
 "worksheets": [
  {
   "cells": [
    {
     "cell_type": "code",
     "collapsed": false,
     "input": [
      "import numpy as np"
     ],
     "language": "python",
     "metadata": {},
     "outputs": [],
     "prompt_number": 1
    },
    {
     "cell_type": "code",
     "collapsed": false,
     "input": [
      "#turning a list in to a numpy array\n",
      "r = range (1,10)\n",
      "a = np.array(r)\n",
      "print type(r)\n",
      "print a, type(a)\n"
     ],
     "language": "python",
     "metadata": {},
     "outputs": [
      {
       "output_type": "stream",
       "stream": "stdout",
       "text": [
        "<type 'list'>\n",
        "[1 2 3 4 5 6 7 8 9] <type 'numpy.ndarray'>\n"
       ]
      }
     ],
     "prompt_number": 10
    },
    {
     "cell_type": "code",
     "collapsed": false,
     "input": [
      "b = np.zeros(10)\n",
      "print b, type(b)\n"
     ],
     "language": "python",
     "metadata": {},
     "outputs": [
      {
       "output_type": "stream",
       "stream": "stdout",
       "text": [
        "[ 0.  0.  0.  0.  0.  0.  0.  0.  0.  0.] <type 'numpy.ndarray'>\n"
       ]
      }
     ],
     "prompt_number": 3
    },
    {
     "cell_type": "code",
     "collapsed": false,
     "input": [
      "d = np.linspace(1, 12.4, 20)\n",
      "print d, type(d)\n",
      "print len(d)\n",
      "#np.linspace() gives numbers that are evenly spaced"
     ],
     "language": "python",
     "metadata": {},
     "outputs": [
      {
       "output_type": "stream",
       "stream": "stdout",
       "text": [
        "[  1.    1.6   2.2   2.8   3.4   4.    4.6   5.2   5.8   6.4   7.    7.6\n",
        "   8.2   8.8   9.4  10.   10.6  11.2  11.8  12.4] <type 'numpy.ndarray'>\n",
        "20\n"
       ]
      }
     ],
     "prompt_number": 6
    },
    {
     "cell_type": "code",
     "collapsed": false,
     "input": [
      "# array slicing\n",
      "d = b[1:-1]\n",
      "d[3] = 0.2\n",
      "print 'd=', d\n",
      "print 'b=', b"
     ],
     "language": "python",
     "metadata": {},
     "outputs": [
      {
       "output_type": "stream",
       "stream": "stdout",
       "text": [
        "d= [ 0.   0.   0.   0.2  0.   0.   0.   0. ]\n",
        "b= [ 0.   0.   0.   0.   0.2  0.   0.   0.   0.   0. ]\n"
       ]
      }
     ],
     "prompt_number": 8
    },
    {
     "cell_type": "code",
     "collapsed": false,
     "input": [
      "# why arrays are important\n",
      "x = np.linspace(-1, 1, 100)\n",
      "y = np.exp(x)\n",
      "print y\n"
     ],
     "language": "python",
     "metadata": {},
     "outputs": [
      {
       "output_type": "stream",
       "stream": "stdout",
       "text": [
        "[ 0.36787944  0.37538693  0.38304762  0.39086465  0.39884121  0.40698054\n",
        "  0.41528598  0.42376092  0.4324088   0.44123317  0.45023762  0.45942582\n",
        "  0.46880154  0.47836859  0.48813088  0.49809239  0.50825719  0.51862943\n",
        "  0.52921334  0.54001324  0.55103354  0.56227874  0.57375342  0.58546227\n",
        "  0.59741007  0.60960169  0.62204212  0.63473642  0.64768978  0.66090748\n",
        "  0.67439493  0.68815762  0.70220117  0.71653131  0.7311539   0.74607489\n",
        "  0.76130039  0.7768366   0.79268986  0.80886665  0.82537356  0.84221734\n",
        "  0.85940486  0.87694313  0.89483932  0.91310072  0.93173478  0.95074913\n",
        "  0.9701515   0.98994983  1.0101522   1.03076684  1.05180218  1.07326679\n",
        "  1.09516944  1.11751907  1.1403248   1.16359593  1.18734197  1.21157261\n",
        "  1.23629773  1.26152743  1.287272    1.31354196  1.34034801  1.36770112\n",
        "  1.39561243  1.42409333  1.45315546  1.48281068  1.51307108  1.54394902\n",
        "  1.5754571   1.60760818  1.64041539  1.6738921   1.70805199  1.742909\n",
        "  1.77847735  1.81477156  1.85180644  1.88959711  1.92815899  1.96750782\n",
        "  2.00765966  2.0486309   2.09043826  2.1330988   2.17662993  2.22104942\n",
        "  2.26637541  2.31262638  2.35982121  2.40797917  2.45711992  2.5072635\n",
        "  2.55843038  2.61064146  2.66391802  2.71828183]\n"
       ]
      }
     ],
     "prompt_number": 11
    },
    {
     "cell_type": "code",
     "collapsed": false,
     "input": [
      "# write a function that creats of series of temp values in c and then compute the Fahrenheit equivalents\n",
      "def CtoF(Tstart, Tend, numsteps):\n",
      "    c = np.linspace(Tstart, Tend, numsteps)\n",
      "    f = (9/5.)*c +\n",
      "    "
     ],
     "language": "python",
     "metadata": {},
     "outputs": [
      {
       "ename": "IndentationError",
       "evalue": "expected an indented block (<ipython-input-12-590b92eb3d6d>, line 3)",
       "output_type": "pyerr",
       "traceback": [
        "\u001b[0;36m  File \u001b[0;32m\"<ipython-input-12-590b92eb3d6d>\"\u001b[0;36m, line \u001b[0;32m3\u001b[0m\n\u001b[0;31m    \u001b[0m\n\u001b[0m    ^\u001b[0m\n\u001b[0;31mIndentationError\u001b[0m\u001b[0;31m:\u001b[0m expected an indented block\n"
       ]
      }
     ],
     "prompt_number": 12
    },
    {
     "cell_type": "code",
     "collapsed": false,
     "input": [
      "def CtoF(Tstart, Tend, numsteps):\n",
      "    C = []\n",
      "    for i in range(numsteps):\n",
      "        C.append("
     ],
     "language": "python",
     "metadata": {},
     "outputs": [
      {
       "ename": "SyntaxError",
       "evalue": "invalid syntax (<ipython-input-13-f04b85af6c22>, line 4)",
       "output_type": "pyerr",
       "traceback": [
        "\u001b[0;36m  File \u001b[0;32m\"<ipython-input-13-f04b85af6c22>\"\u001b[0;36m, line \u001b[0;32m4\u001b[0m\n\u001b[0;31m    C.append(\u001b[0m\n\u001b[0m             ^\u001b[0m\n\u001b[0;31mSyntaxError\u001b[0m\u001b[0;31m:\u001b[0m invalid syntax\n"
       ]
      }
     ],
     "prompt_number": 13
    },
    {
     "cell_type": "code",
     "collapsed": false,
     "input": [
      "x = np.arange(1, 10, 1.)\n",
      "print type(x), x.dtype\n",
      "print x\n",
      "y = np.arange(1, 10,1., dtype= np.int64)\n",
      "print type(y), y.dtype\n",
      "print y"
     ],
     "language": "python",
     "metadata": {},
     "outputs": [
      {
       "output_type": "stream",
       "stream": "stdout",
       "text": [
        "<type 'numpy.ndarray'> float64\n",
        "[ 1.  2.  3.  4.  5.  6.  7.  8.  9.]\n",
        "<type 'numpy.ndarray'> int64\n",
        "[1 2 3 4 5 6 7 8 9]\n"
       ]
      }
     ],
     "prompt_number": 21
    },
    {
     "cell_type": "code",
     "collapsed": false,
     "input": [],
     "language": "python",
     "metadata": {},
     "outputs": []
    },
    {
     "cell_type": "code",
     "collapsed": false,
     "input": [
      "to find oout numpy version"
     ],
     "language": "python",
     "metadata": {},
     "outputs": []
    },
    {
     "cell_type": "code",
     "collapsed": false,
     "input": [
      "import numpy as np\n",
      "np.__version__"
     ],
     "language": "python",
     "metadata": {},
     "outputs": [
      {
       "metadata": {},
       "output_type": "pyout",
       "prompt_number": 22,
       "text": [
        "'1.8.0'"
       ]
      }
     ],
     "prompt_number": 22
    },
    {
     "cell_type": "code",
     "collapsed": false,
     "input": [
      "array index\n"
     ],
     "language": "python",
     "metadata": {},
     "outputs": [
      {
       "ename": "SyntaxError",
       "evalue": "invalid syntax (<ipython-input-23-03b148a7dfd7>, line 1)",
       "output_type": "pyerr",
       "traceback": [
        "\u001b[0;36m  File \u001b[0;32m\"<ipython-input-23-03b148a7dfd7>\"\u001b[0;36m, line \u001b[0;32m1\u001b[0m\n\u001b[0;31m    array index\u001b[0m\n\u001b[0m              ^\u001b[0m\n\u001b[0;31mSyntaxError\u001b[0m\u001b[0;31m:\u001b[0m invalid syntax\n"
       ]
      }
     ],
     "prompt_number": 23
    },
    {
     "cell_type": "code",
     "collapsed": false,
     "input": [
      "x = np.linspace(1, 10, 10)\n",
      "idx = x > 5 # array of booleans\n",
      "print idx\n",
      "print 'number of elements with value greater then 5:',  sum(idx)\n",
      "y = x[idx]\n",
      "print y"
     ],
     "language": "python",
     "metadata": {},
     "outputs": [
      {
       "output_type": "stream",
       "stream": "stdout",
       "text": [
        "[False False False False False  True  True  True  True  True]\n",
        "number of elements with value greater then 5: 5\n",
        "[  6.   7.   8.   9.  10.]\n"
       ]
      }
     ],
     "prompt_number": 25
    },
    {
     "cell_type": "code",
     "collapsed": false,
     "input": [
      "x = np.linspace(1, 10, 10)\n",
      "idx = np.where(x > 5) #it gives the index, not the elements\n",
      "print idx\n",
      "print 'number of elements with value greater then 5:',  len(idx)\n",
      "print 'number of elements with value greater then 5:', len(idx[0])\n",
      "\n",
      "y = x[idx]\n",
      "print y"
     ],
     "language": "python",
     "metadata": {},
     "outputs": [
      {
       "output_type": "stream",
       "stream": "stdout",
       "text": [
        "(array([5, 6, 7, 8, 9]),)\n",
        "number of elements with value greater then 5: 1\n",
        "number of elements with value greater then 5: 5\n",
        "[  6.   7.   8.   9.  10.]\n"
       ]
      }
     ],
     "prompt_number": 31
    },
    {
     "cell_type": "code",
     "collapsed": false,
     "input": [
      "#Module for Plotting -- matplotlib"
     ],
     "language": "python",
     "metadata": {},
     "outputs": [],
     "prompt_number": 32
    },
    {
     "cell_type": "code",
     "collapsed": false,
     "input": [
      "%matplotlib inline\n",
      "import matplotlib.pyplot as plt\n",
      "y = np.linspace(1, 100, 10)\n",
      "# x is assumed to be the index\n",
      "plt.plot(y)\n",
      "plt.show()"
     ],
     "language": "python",
     "metadata": {},
     "outputs": [
      {
       "metadata": {},
       "output_type": "display_data",
       "png": "[encoded data removed]",
       "text": [
        "<matplotlib.figure.Figure at 0x10bbe52d0>"
       ]
      }
     ],
     "prompt_number": 35
    },
    {
     "cell_type": "code",
     "collapsed": false,
     "input": [
      "%matplotlib osx\n",
      "import matplotlib.pyplot as plt\n",
      "y = np.linspace(1, 100, 10)\n",
      "# x is assumed to be the index\n",
      "plt.plot(y)\n",
      "plt.show()"
     ],
     "language": "python",
     "metadata": {},
     "outputs": [],
     "prompt_number": 37
    },
    {
     "cell_type": "code",
     "collapsed": false,
     "input": [
      "%matplotlib inline\n",
      "import numpy as plt\n",
      "import matplotlib.pyplot as plt\n",
      "y = np.linspace(1e-6, 15, 1000)\n",
      "b = y**3/(np.exp(y)-1)\n",
      "plt.plot(y, b)\n",
      "plt.xlabel('frepuency')\n",
      "plt.ylabel('eneergy density')\n",
      "plt.title('black body spectrum')\n",
      "plt.savefig('planck.pdf')\n",
      "# x is assumed to be the index\n",
      "\n",
      "plt.show()"
     ],
     "language": "python",
     "metadata": {},
     "outputs": [
      {
       "metadata": {},
       "output_type": "display_data",
       "png": "[encoded data removed]",
       "text": [
        "<matplotlib.figure.Figure at 0x10c214c90>"
       ]
      }
     ],
     "prompt_number": 46
    },
    {
     "cell_type": "code",
     "collapsed": false,
     "input": [
      "#Breakout:plot y = cos(-e^x), give title (frequency modulation)\n",
      "%matplotlib inline\n",
      "import numpy as plt\n",
      "import matplotlib.pyplot as plt\n",
      "x = np.linspace(0, np.pi, 100)\n",
      "y = np.cos(-np.exp(x))\n",
      "plt.plot(x, y)\n",
      "plt.xlabel('radians')\n",
      "plt.ylabel('cos(-e^x)')\n",
      "plt.title('frequency modulation')\n",
      "plt.savefig('frequency modulation.pdf')\n",
      "# x is assumed to be the index\n",
      "\n",
      "plt.show()"
     ],
     "language": "python",
     "metadata": {},
     "outputs": [
      {
       "metadata": {},
       "output_type": "display_data",
       "png": "[encoded data removed]",
       "text": [
        "<matplotlib.figure.Figure at 0x10c232950>"
       ]
      }
     ],
     "prompt_number": 48
    }
   ],
   "metadata": {}
  }
 ]
}